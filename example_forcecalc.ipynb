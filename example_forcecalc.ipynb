{
 "cells": [
  {
   "cell_type": "markdown",
   "metadata": {},
   "source": [
    "## Example\n",
    "\n",
    "### Definicion de funciones necesarias para generacion malla"
   ]
  },
  {
   "cell_type": "code",
   "execution_count": 77,
   "metadata": {},
   "outputs": [],
   "source": [
    "%config IPCompleter.greedy=True\n",
    "import numpy as np\n",
    "import os\n",
    "import bempp.api\n",
    "from mesh_converter import *\n",
    "from force_calculation import *"
   ]
  },
  {
   "cell_type": "markdown",
   "metadata": {},
   "source": [
    "### Seleccion de proteina a simular, contenidas en carpetas pqr_files\n",
    "\n",
    "Se determina las ubicaciones de las cargas ademas de la magnitud de estas"
   ]
  },
  {
   "cell_type": "code",
   "execution_count": 78,
   "metadata": {},
   "outputs": [],
   "source": [
    "#grid, q, x_q = pqrtomesh(directory='C:\\\\Users\\\\ian\\Desktop\\\\forces_calculation',protein='sphere',forcefield='nosymmetric',density=6.0,probe_radius=1.4)"
   ]
  },
  {
   "cell_type": "code",
   "execution_count": 79,
   "metadata": {},
   "outputs": [],
   "source": [
    "directory = 'C:\\\\Users\\\\ian\\Desktop\\\\forces_calculation' #Windows\n",
    "protein = 'arg'\n",
    "forcefield = 'amber'\n",
    "dir_prot = directory+'\\\\pqr_files\\\\'+protein #Windows\n",
    "density = 0.2\n",
    "pf = protein +'_' + forcefield\n",
    "pfd = protein +'_' + forcefield + '_' +'d'+str(density)[::2]\n",
    "grid = import_msms_mesh('{}/{}.face'.format(dir_prot,pfd),'{}/{}.vert'.format(dir_prot,pfd))\n",
    "#Parametros del medio\n",
    "q, x_q = np.array([]), np.empty((0,3))\n",
    "ep_in = 4.\n",
    "ep_ex = 80.\n",
    "k = 0.125\n",
    "\n",
    "#Leer cargas y coordenadas desde archivo .pqr\n",
    "molecule_file = open('{}/{}.pqr'.format(dir_prot,pf), 'r').read().split('\\n')\n",
    "for line in molecule_file:\n",
    "    line = line.split()\n",
    "    if len(line)==0 or line[0]!='ATOM': continue\n",
    "    q = np.append( q, float(line[8]))\n",
    "    x_q = np.vstack(( x_q, np.array(line[5:8]).astype(float) ))"
   ]
  },
  {
   "cell_type": "markdown",
   "metadata": {},
   "source": [
    "### Grafico de archivo mesh (Opcional)"
   ]
  },
  {
   "cell_type": "code",
   "execution_count": 80,
   "metadata": {
    "scrolled": true
   },
   "outputs": [],
   "source": [
    "bempp.api.PLOT_BACKEND = \"gmsh\"\n",
    "grid.plot()"
   ]
  },
  {
   "cell_type": "markdown",
   "metadata": {},
   "source": [
    "### Right-hand side\n",
    "\n",
    "With that, we can compute the potential due to the charges on the boundary, required for the right-hand side"
   ]
  },
  {
   "cell_type": "code",
   "execution_count": 81,
   "metadata": {},
   "outputs": [
    {
     "name": "stderr",
     "output_type": "stream",
     "text": [
      "C:\\Users\\ian\\Anaconda3\\envs\\bempp\\lib\\site-packages\\scipy\\sparse\\linalg\\dsolve\\linsolve.py:318: SparseEfficiencyWarning: splu requires CSC matrix format\n",
      "  warn('splu requires CSC matrix format', SparseEfficiencyWarning)\n"
     ]
    }
   ],
   "source": [
    "# Function to calculate the potential by charges at boundary\n",
    "ep_in = 4.\n",
    "ep_ex = 80.\n",
    "k = 0.125\n",
    "\n",
    "dirichl_space = bempp.api.function_space(grid, \"DP\", 0)\n",
    "neumann_space = bempp.api.function_space(grid, \"DP\", 0)\n",
    "\n",
    "@bempp.api.real_callable\n",
    "def charges_fun(x, n, domain_index, result):\n",
    "    global q, x_q, ep_in\n",
    "    suma = 0\n",
    "    for k in range(len(q)):\n",
    "        suma = suma + q[k]/(np.linalg.norm(x-x_q[k]))\n",
    "    result[:] = suma/(4*np.pi*ep_in)\n",
    "    \n",
    "charged_grid_fun = bempp.api.GridFunction(dirichl_space, fun=charges_fun)\n",
    "\n",
    "rhs = np.concatenate([charged_grid_fun.coefficients, \n",
    "                      np.zeros(neumann_space.global_dof_count)])\n"
   ]
  },
  {
   "cell_type": "markdown",
   "metadata": {},
   "source": [
    "### Operators and Matrix\n",
    "\n",
    "Next, we generate the $2\\times 2$ block matrix with the single and double layer operators of the Laplace and Yukawa kernels "
   ]
  },
  {
   "cell_type": "code",
   "execution_count": 82,
   "metadata": {},
   "outputs": [],
   "source": [
    "# Define Operators\n",
    "from bempp.api.operators.boundary import sparse, laplace, modified_helmholtz\n",
    "identity = sparse.identity(dirichl_space, dirichl_space, dirichl_space)\n",
    "slp_in   = laplace.single_layer(neumann_space, dirichl_space, dirichl_space)\n",
    "dlp_in   = laplace.double_layer(dirichl_space, dirichl_space, dirichl_space)\n",
    "slp_out  = modified_helmholtz.single_layer(neumann_space, dirichl_space, dirichl_space, k)\n",
    "dlp_out  = modified_helmholtz.double_layer(dirichl_space, dirichl_space, dirichl_space, k)\n",
    "\n",
    "# Matrix Assembly\n",
    "blocked = bempp.api.BlockedOperator(2, 2)\n",
    "blocked[0, 0] = 0.5*identity + dlp_in\n",
    "blocked[0, 1] = -slp_in\n",
    "blocked[1, 0] = 0.5*identity - dlp_out\n",
    "blocked[1, 1] = (ep_in/ep_ex)*slp_out\n",
    "op_discrete = blocked.strong_form()"
   ]
  },
  {
   "cell_type": "markdown",
   "metadata": {},
   "source": [
    "### Solver\n",
    "\n",
    "We now use `gmres` from `scipy` to solve the system. "
   ]
  },
  {
   "cell_type": "code",
   "execution_count": 83,
   "metadata": {},
   "outputs": [
    {
     "name": "stdout",
     "output_type": "stream",
     "text": [
      "The linear system was solved in 36 iterations\n"
     ]
    }
   ],
   "source": [
    "import inspect\n",
    "from scipy.sparse.linalg import gmres\n",
    "\n",
    "array_it, array_frame, it_count = np.array([]), np.array([]), 0\n",
    "def iteration_counter(x):\n",
    "        global array_it, array_frame, it_count\n",
    "        it_count += 1\n",
    "        frame = inspect.currentframe().f_back\n",
    "        array_it = np.append(array_it, it_count)\n",
    "        array_frame = np.append(array_frame, frame.f_locals[\"resid\"])\n",
    "        #print \"It: {0} Error {1:.2E}\".format(it_count, frame.f_locals[\"resid\"])        \n",
    "\n",
    "x, info = gmres(op_discrete, rhs, callback=iteration_counter, tol=1e-3, maxiter=1000, restart = 2000)\n",
    "\n",
    "print(\"The linear system was solved in {0} iterations\".format(it_count))"
   ]
  },
  {
   "cell_type": "markdown",
   "metadata": {},
   "source": [
    "The two following `GridFunction` calls store the calculated boundary potential data (separated by $\\phi$ and $\\frac{\\partial \\phi}{\\partial n}$) for visualization purposes. "
   ]
  },
  {
   "cell_type": "code",
   "execution_count": 84,
   "metadata": {},
   "outputs": [],
   "source": [
    "solution_dirichl = bempp.api.GridFunction(dirichl_space, \n",
    "                                          coefficients=x[:dirichl_space.global_dof_count])\n",
    "solution_neumann = bempp.api.GridFunction(neumann_space, \n",
    "                                          coefficients=x[dirichl_space.global_dof_count:])\n",
    "solution_dirichl.plot()\n",
    "#solution_neumann.plot()"
   ]
  },
  {
   "cell_type": "markdown",
   "metadata": {},
   "source": [
    "### Energy calculaton\n",
    "\n",
    "To compute $\\phi_\\text{reac}$ at the atoms locations, we use `operators.potential` to then multiply by the charge and add to compute $\\Delta G_\\text{solv}$. The `332.064` term is just a unit conversion constant."
   ]
  },
  {
   "cell_type": "code",
   "execution_count": 85,
   "metadata": {},
   "outputs": [
    {
     "name": "stdout",
     "output_type": "stream",
     "text": [
      "Total reaction force:    34.3747  -10.9690   11.2223 [kJ/molA]\n",
      "Total dielectric boundary force:   -35.3895   10.0886  -13.0698 [kJ/molA]\n",
      "Total ionic boundary force: -1.517e-02 -2.000e-03 -1.387e-02 [kJ/molA]\n",
      "Total solvation energy: -106.22 [kcal/Mol]\n"
     ]
    }
   ],
   "source": [
    "slp_q = bempp.api.operators.potential.laplace.single_layer(neumann_space, x_q.transpose())\n",
    "dlp_q = bempp.api.operators.potential.laplace.double_layer(dirichl_space, x_q.transpose())\n",
    "phi_q = slp_q*solution_neumann - dlp_q*solution_dirichl\n",
    "\n",
    "h=0.001\n",
    "F_qf,_ = fixedcharge_forces(x_q,q,h,neumann_space,dirichl_space,solution_neumann,solution_dirichl)\n",
    "f_db,f_ib = boundary_forces(solution_neumann,solution_dirichl,grid,k,ep_ex,ep_in)\n",
    "  \n",
    "print(\"Total reaction force: {:10.4f}{:10.4f}{:10.4f} [kJ/molA]\".format(F_qf[0],F_qf[1],F_qf[2]))\n",
    "print(\"Total dielectric boundary force: {:10.4f}{:10.4f}{:10.4f} [kJ/molA]\".format(f_db[0],f_db[1],f_db[2]))\n",
    "print(\"Total ionic boundary force: {:5.3e} {:5.3e} {:5.3e} [kJ/molA]\".format(f_ib[0],f_ib[1],f_ib[2]))\n",
    "# total dissolution energy applying constant to get units [kcal/mol]\n",
    "total_energy = 4.184*2*np.pi*332.064*np.sum(q*phi_q).real\n",
    "print(\"Total solvation energy: {:7.2f} [kcal/Mol]\".format(total_energy))"
   ]
  },
  {
   "cell_type": "markdown",
   "metadata": {},
   "source": [
    "## References\n",
    "[1] Yoon, B. J., & Lenhoff, A. M. (1990). A boundary element method for molecular electrostatics with electrolyte effects. *Journal of Computational Chemistry*, 11(9), 1080-1086.\n",
    "\n",
    "[2] Dolinsky, T. J., Nielsen, J. E., McCammon, J. A., & Baker, N. A. (2004). PDB2PQR: an automated pipeline for the setup of Poisson–Boltzmann electrostatics calculations. *Nucleic acids research*, 32(suppl_2), W665-W667.\n",
    "\n",
    "[3] Sanner, M. F., Olson, A. J., & Spehner, J. C. (1995, September). Fast and robust computation of molecular surfaces. In *Proceedings of the eleventh annual symposium on Computational geometry* (pp. 406-407). ACM.\n",
    "\n",
    "[4] Sergio Decherchi and Walter Rocchia. A general and Robust Ray-Casting-Based\n",
    "Algorithm for Triangulating Surfaces at the Nanoscale. PLOS ONE, 8(4):1–15, 2013.\n",
    "\n",
    "[5] Timo Betcke and Matthew W. Scroggs. Bempp-cl: A fast python based just-in-time\n",
    "compiling boundary element library. Journal of Open Source Software, 6(59):2879,\n",
    "2021.\n",
    "\n",
    "[6] S. Decherchi, A. Spitaleri, J. Stone and W. Rocchia, \"NanoShaper-VMD interface: computing and visualizing surfaces, pockets and channels in\n",
    "molecular systems\". Bioinformatics, in press, 2018."
   ]
  },
  {
   "cell_type": "code",
   "execution_count": 86,
   "metadata": {},
   "outputs": [],
   "source": [
    "from apbs_tools import *\n",
    "pqr_path = 'C:\\\\Users\\\\ian\\\\Desktop\\\\forces_calculation\\\\pqr_files\\\\1lyz\\\\1lyz_amber.pqr'\n",
    "apbs_dir = 'C:\\\\Users\\\\ian\\\\Desktop\\\\forces_calculation\\\\APBS'\n",
    "protein = '1lyz_amber'"
   ]
  },
  {
   "cell_type": "code",
   "execution_count": 87,
   "metadata": {},
   "outputs": [],
   "source": [
    "#apbs_simulation(protein,pqr_path,apbs_dir,150,70,'spl4','yes','no')\n",
    "#apbs_simulation(protein,pqr_path,apbs_dir,200,70,'spl4','yes','no')\n",
    "#apbs_simulation(protein,pqr_path,apbs_dir,250,70,'spl4','yes','no')\n",
    "#apbs_simulation(protein,pqr_path,apbs_dir,300,70,'spl4','yes','no')\n",
    "#apbs_simulation(protein,pqr_path,apbs_dir,350,70,'spl4','yes','no')"
   ]
  },
  {
   "cell_type": "code",
   "execution_count": 88,
   "metadata": {},
   "outputs": [],
   "source": [
    "#apbs_simulation(protein,pqr_path,apbs_dir,150,70,'mol','no','no')\n",
    "#apbs_simulation(protein,pqr_path,apbs_dir,200,70,'mol','no','no')\n",
    "#apbs_simulation(protein,pqr_path,apbs_dir,250,70,'mol','no','no')\n",
    "#apbs_simulation(protein,pqr_path,apbs_dir,300,70,'mol','no','no')\n",
    "#apbs_simulation(protein,pqr_path,apbs_dir,350,70,'mol','no','no')"
   ]
  },
  {
   "cell_type": "code",
   "execution_count": 1,
   "metadata": {},
   "outputs": [],
   "source": [
    "from PB_solver import Molecule\n",
    "import bempp.api\n",
    "bempp.api.PLOT_BACKEND = \"gmsh\"\n",
    "\n",
    "\n"
   ]
  },
  {
   "cell_type": "code",
   "execution_count": 2,
   "metadata": {},
   "outputs": [
    {
     "name": "stderr",
     "output_type": "stream",
     "text": [
      "C:\\Users\\ian\\Anaconda3\\envs\\bempp\\lib\\site-packages\\scipy\\sparse\\linalg\\dsolve\\linsolve.py:318: SparseEfficiencyWarning: splu requires CSC matrix format\n",
      "  warn('splu requires CSC matrix format', SparseEfficiencyWarning)\n",
      "C:\\Users\\ian\\Anaconda3\\envs\\bempp\\lib\\site-packages\\scipy\\sparse\\linalg\\dsolve\\linsolve.py:318: SparseEfficiencyWarning: splu requires CSC matrix format\n",
      "  warn('splu requires CSC matrix format', SparseEfficiencyWarning)\n",
      "C:\\Users\\ian\\Anaconda3\\envs\\bempp\\lib\\site-packages\\scipy\\sparse\\linalg\\dsolve\\linsolve.py:318: SparseEfficiencyWarning: splu requires CSC matrix format\n",
      "  warn('splu requires CSC matrix format', SparseEfficiencyWarning)\n"
     ]
    }
   ],
   "source": [
    "sphere_nosymmetric_6 = Molecule('sphere','nosymmetric',6.0,None)\n",
    "sphere_nosymmetric_8 = Molecule('sphere','nosymmetric',8.0,None)\n",
    "sphere_nosymmetric_10 = Molecule('sphere','nosymmetric',10.0,None)"
   ]
  },
  {
   "cell_type": "code",
   "execution_count": 8,
   "metadata": {},
   "outputs": [
    {
     "name": "stderr",
     "output_type": "stream",
     "text": [
      "C:\\Users\\ian\\Anaconda3\\envs\\bempp\\lib\\site-packages\\scipy\\sparse\\linalg\\dsolve\\linsolve.py:318: SparseEfficiencyWarning: splu requires CSC matrix format\n",
      "  warn('splu requires CSC matrix format', SparseEfficiencyWarning)\n"
     ]
    }
   ],
   "source": [
    "sphere_nosymmetric_12 = Molecule('sphere','nosymmetric',12.0,None)"
   ]
  },
  {
   "cell_type": "code",
   "execution_count": 9,
   "metadata": {},
   "outputs": [
    {
     "name": "stderr",
     "output_type": "stream",
     "text": [
      "C:\\Users\\ian\\Anaconda3\\envs\\bempp\\lib\\site-packages\\scipy\\sparse\\linalg\\dsolve\\linsolve.py:318: SparseEfficiencyWarning: splu requires CSC matrix format\n",
      "  warn('splu requires CSC matrix format', SparseEfficiencyWarning)\n",
      "C:\\Users\\ian\\Anaconda3\\envs\\bempp\\lib\\site-packages\\scipy\\sparse\\linalg\\dsolve\\linsolve.py:318: SparseEfficiencyWarning: splu requires CSC matrix format\n",
      "  warn('splu requires CSC matrix format', SparseEfficiencyWarning)\n",
      "C:\\Users\\ian\\Anaconda3\\envs\\bempp\\lib\\site-packages\\scipy\\sparse\\linalg\\dsolve\\linsolve.py:318: SparseEfficiencyWarning: splu requires CSC matrix format\n",
      "  warn('splu requires CSC matrix format', SparseEfficiencyWarning)\n",
      "C:\\Users\\ian\\Anaconda3\\envs\\bempp\\lib\\site-packages\\scipy\\sparse\\linalg\\dsolve\\linsolve.py:318: SparseEfficiencyWarning: splu requires CSC matrix format\n",
      "  warn('splu requires CSC matrix format', SparseEfficiencyWarning)\n"
     ]
    }
   ],
   "source": [
    "sphere_symmetric_3 = Molecule('sphere','symmetric',3.0,None)\n",
    "sphere_symmetric_5 = Molecule('sphere','symmetric',5.0,None)\n",
    "sphere_symmetric_8 = Molecule('sphere','symmetric',8.0,None)\n",
    "sphere_symmetric_10 = Molecule('sphere','symmetric',10.0,None)"
   ]
  },
  {
   "cell_type": "code",
   "execution_count": 12,
   "metadata": {},
   "outputs": [
    {
     "name": "stderr",
     "output_type": "stream",
     "text": [
      "C:\\Users\\ian\\Anaconda3\\envs\\bempp\\lib\\site-packages\\scipy\\sparse\\linalg\\dsolve\\linsolve.py:318: SparseEfficiencyWarning: splu requires CSC matrix format\n",
      "  warn('splu requires CSC matrix format', SparseEfficiencyWarning)\n",
      "C:\\Users\\ian\\Anaconda3\\envs\\bempp\\lib\\site-packages\\scipy\\sparse\\linalg\\dsolve\\linsolve.py:318: SparseEfficiencyWarning: splu requires CSC matrix format\n",
      "  warn('splu requires CSC matrix format', SparseEfficiencyWarning)\n",
      "C:\\Users\\ian\\Anaconda3\\envs\\bempp\\lib\\site-packages\\scipy\\sparse\\linalg\\dsolve\\linsolve.py:318: SparseEfficiencyWarning: splu requires CSC matrix format\n",
      "  warn('splu requires CSC matrix format', SparseEfficiencyWarning)\n",
      "C:\\Users\\ian\\Anaconda3\\envs\\bempp\\lib\\site-packages\\scipy\\sparse\\linalg\\dsolve\\linsolve.py:318: SparseEfficiencyWarning: splu requires CSC matrix format\n",
      "  warn('splu requires CSC matrix format', SparseEfficiencyWarning)\n"
     ]
    }
   ],
   "source": [
    "arg_d02 = Molecule('arg','amber',0.2,'yes')\n",
    "arg_d04 = Molecule('arg','amber',0.4,'yes')\n",
    "arg_d08 = Molecule('arg','amber',0.8,'yes')\n",
    "arg_d16 = Molecule('arg','amber',1.6,'yes')"
   ]
  },
  {
   "cell_type": "code",
   "execution_count": 58,
   "metadata": {},
   "outputs": [
    {
     "data": {
      "text/plain": [
       "6520"
      ]
     },
     "execution_count": 58,
     "metadata": {},
     "output_type": "execute_result"
    }
   ],
   "source": [
    "arg_d16.grid.number_of_elements"
   ]
  },
  {
   "cell_type": "code",
   "execution_count": 2,
   "metadata": {},
   "outputs": [
    {
     "name": "stderr",
     "output_type": "stream",
     "text": [
      "C:\\Users\\ian\\Anaconda3\\envs\\bempp\\lib\\site-packages\\scipy\\sparse\\linalg\\dsolve\\linsolve.py:318: SparseEfficiencyWarning: splu requires CSC matrix format\n",
      "  warn('splu requires CSC matrix format', SparseEfficiencyWarning)\n",
      "C:\\Users\\ian\\Anaconda3\\envs\\bempp\\lib\\site-packages\\scipy\\sparse\\linalg\\dsolve\\linsolve.py:318: SparseEfficiencyWarning: splu requires CSC matrix format\n",
      "  warn('splu requires CSC matrix format', SparseEfficiencyWarning)\n",
      "C:\\Users\\ian\\Anaconda3\\envs\\bempp\\lib\\site-packages\\scipy\\sparse\\linalg\\dsolve\\linsolve.py:318: SparseEfficiencyWarning: splu requires CSC matrix format\n",
      "  warn('splu requires CSC matrix format', SparseEfficiencyWarning)\n"
     ]
    }
   ],
   "source": [
    "lyz_d04 = Molecule('1lyz','amber',0.4,'yes')\n",
    "lyz_d06 = Molecule('1lyz','amber',0.6,'yes')\n",
    "lyz_d08 = Molecule('1lyz','amber',0.8,'yes')"
   ]
  },
  {
   "cell_type": "code",
   "execution_count": 28,
   "metadata": {},
   "outputs": [
    {
     "data": {
      "text/plain": [
       "10156"
      ]
     },
     "execution_count": 28,
     "metadata": {},
     "output_type": "execute_result"
    }
   ],
   "source": [
    "#lyz_d08.solv_energy\n",
    "#lyz_d08.F_qf\n",
    "#lyz_d08.F_db\n",
    "#lyz_d08.F_ib\n",
    "lyz_d08.grid.number_of_elements"
   ]
  },
  {
   "cell_type": "code",
   "execution_count": null,
   "metadata": {},
   "outputs": [],
   "source": []
  }
 ],
 "metadata": {
  "interpreter": {
   "hash": "cb718e3dd62ac12afca115e8e5202131ec135a3cf4c9b81e410e7edf4a7cd0bd"
  },
  "kernelspec": {
   "display_name": "Python 3.8.12 64-bit ('bempp': conda)",
   "name": "python3"
  },
  "language_info": {
   "codemirror_mode": {
    "name": "ipython",
    "version": 3
   },
   "file_extension": ".py",
   "mimetype": "text/x-python",
   "name": "python",
   "nbconvert_exporter": "python",
   "pygments_lexer": "ipython3",
   "version": "3.8.12"
  }
 },
 "nbformat": 4,
 "nbformat_minor": 2
}
