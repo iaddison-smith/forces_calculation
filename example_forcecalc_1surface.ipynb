{
 "cells": [
  {
   "cell_type": "markdown",
   "metadata": {},
   "source": [
    "## Example for force calculation in a molecule\n",
    "\n",
    "### Importing modules "
   ]
  },
  {
   "cell_type": "code",
   "execution_count": 1,
   "metadata": {},
   "outputs": [],
   "source": [
    "%config IPCompleter.greedy=True\n",
    "import numpy as np\n",
    "import os\n",
    "import bempp.api\n",
    "from tools.mesh_converter import *\n",
    "from tools.force_calculation import *\n",
    "from tools.apbs_tools import *\n",
    "import griddata"
   ]
  },
  {
   "cell_type": "markdown",
   "metadata": {},
   "source": [
    "### PQR file and mesh "
   ]
  },
  {
   "cell_type": "code",
   "execution_count": 2,
   "metadata": {},
   "outputs": [],
   "source": [
    "grid, q, x_q = pqrtomesh(directory='C:\\\\Users\\\\ian\\Desktop\\\\forces_calculation',protein='arg',forcefield='amber',density=0.2,probe_radius=1.4,build_mesh='no')\n",
    "bempp.api.PLOT_BACKEND = \"gmsh\" #gmsh o paraview\n",
    "grid.plot()"
   ]
  },
  {
   "cell_type": "markdown",
   "metadata": {},
   "source": [
    "### Right-hand side\n",
    "\n",
    "With that, we can compute the potential due to the charges on the boundary, required for the right-hand side"
   ]
  },
  {
   "cell_type": "code",
   "execution_count": 3,
   "metadata": {},
   "outputs": [
    {
     "name": "stderr",
     "output_type": "stream",
     "text": [
      "C:\\Users\\ian\\Anaconda3\\envs\\bempp\\lib\\site-packages\\scipy\\sparse\\linalg\\dsolve\\linsolve.py:318: SparseEfficiencyWarning: splu requires CSC matrix format\n",
      "  warn('splu requires CSC matrix format', SparseEfficiencyWarning)\n"
     ]
    }
   ],
   "source": [
    "# Function to calculate the potential by charges at boundary\n",
    "ep_in = 4.\n",
    "ep_ex = 80.\n",
    "k = 0.125\n",
    "\n",
    "dirichl_space = bempp.api.function_space(grid, \"DP\", 0)\n",
    "neumann_space = bempp.api.function_space(grid, \"DP\", 0)\n",
    "\n",
    "@bempp.api.real_callable\n",
    "def charges_fun(x, n, domain_index, result):\n",
    "    global q, x_q, ep_in\n",
    "    suma = 0\n",
    "    for k in range(len(q)):\n",
    "        suma = suma + q[k]/(np.linalg.norm(x-x_q[k]))\n",
    "    result[:] = suma/(4*np.pi*ep_in)\n",
    "    \n",
    "charged_grid_fun = bempp.api.GridFunction(dirichl_space, fun=charges_fun)\n",
    "\n",
    "rhs = np.concatenate([charged_grid_fun.coefficients, \n",
    "                      np.zeros(neumann_space.global_dof_count)])\n"
   ]
  },
  {
   "cell_type": "markdown",
   "metadata": {},
   "source": [
    "### Operators and Matrix\n",
    "\n",
    "Next, we generate the $2\\times 2$ block matrix with the single and double layer operators of the Laplace and Yukawa kernels "
   ]
  },
  {
   "cell_type": "code",
   "execution_count": 4,
   "metadata": {},
   "outputs": [],
   "source": [
    "# Define Operators\n",
    "from bempp.api.operators.boundary import sparse, laplace, modified_helmholtz\n",
    "identity = sparse.identity(dirichl_space, dirichl_space, dirichl_space)\n",
    "slp_in   = laplace.single_layer(neumann_space, dirichl_space, dirichl_space)\n",
    "dlp_in   = laplace.double_layer(dirichl_space, dirichl_space, dirichl_space)\n",
    "slp_out  = modified_helmholtz.single_layer(neumann_space, dirichl_space, dirichl_space, k)\n",
    "dlp_out  = modified_helmholtz.double_layer(dirichl_space, dirichl_space, dirichl_space, k)\n",
    "\n",
    "# Matrix Assembly\n",
    "blocked = bempp.api.BlockedOperator(2, 2)\n",
    "blocked[0, 0] = 0.5*identity + dlp_in\n",
    "blocked[0, 1] = -slp_in\n",
    "blocked[1, 0] = 0.5*identity - dlp_out\n",
    "blocked[1, 1] = (ep_in/ep_ex)*slp_out\n",
    "op_discrete = blocked.strong_form()"
   ]
  },
  {
   "cell_type": "markdown",
   "metadata": {},
   "source": [
    "### Solver\n",
    "\n",
    "We now use `gmres` from `scipy` to solve the system. "
   ]
  },
  {
   "cell_type": "code",
   "execution_count": 5,
   "metadata": {},
   "outputs": [
    {
     "name": "stdout",
     "output_type": "stream",
     "text": [
      "The linear system was solved in 161 iterations\n"
     ]
    }
   ],
   "source": [
    "import inspect\n",
    "from scipy.sparse.linalg import gmres\n",
    "\n",
    "array_it, array_frame, it_count = np.array([]), np.array([]), 0\n",
    "def iteration_counter(x):\n",
    "        global array_it, array_frame, it_count\n",
    "        it_count += 1\n",
    "        frame = inspect.currentframe().f_back\n",
    "        array_it = np.append(array_it, it_count)\n",
    "        array_frame = np.append(array_frame, frame.f_locals[\"resid\"])\n",
    "        #print \"It: {0} Error {1:.2E}\".format(it_count, frame.f_locals[\"resid\"])        \n",
    "\n",
    "x, info = gmres(op_discrete, rhs, callback=iteration_counter, tol=1e-8, maxiter=10000, restart = 20000)\n",
    "\n",
    "print(\"The linear system was solved in {0} iterations\".format(it_count))"
   ]
  },
  {
   "cell_type": "markdown",
   "metadata": {},
   "source": [
    "The two following `GridFunction` calls store the calculated boundary potential data (separated by $\\phi$ and $\\frac{\\partial \\phi}{\\partial n}$) for visualization purposes. "
   ]
  },
  {
   "cell_type": "code",
   "execution_count": 6,
   "metadata": {},
   "outputs": [],
   "source": [
    "solution_dirichl = bempp.api.GridFunction(dirichl_space, \n",
    "                                          coefficients=x[:dirichl_space.global_dof_count])\n",
    "solution_neumann = bempp.api.GridFunction(neumann_space, \n",
    "                                          coefficients=x[dirichl_space.global_dof_count:])\n",
    "#solution_dirichl.plot()\n",
    "#solution_neumann.plot()"
   ]
  },
  {
   "cell_type": "markdown",
   "metadata": {},
   "source": [
    "### Energy and Force calculaton\n",
    "\n",
    "To compute $\\phi_\\text{reac}$ at the atoms locations, we use `operators.potential` to then multiply by the charge and add to compute $\\Delta G_\\text{solv}$. The `332.064` term is just a unit conversion constant.\n",
    "\n",
    "The forces are calculated from the `force_calculation` module. We separate three components: Fixed charge (qE), dielectric boundary and ionic boundary"
   ]
  },
  {
   "cell_type": "code",
   "execution_count": 10,
   "metadata": {},
   "outputs": [
    {
     "name": "stdout",
     "output_type": "stream",
     "text": [
      "Total solvation forces    -0.9428   -0.9130   -1.7530 [kJ/molA]\n",
      "Total reaction force:    34.3522  -10.9618   11.2461 [kJ/molA]\n",
      "Total dielectric boundary force:   -35.2799   10.0504  -12.9854 [kJ/molA]\n",
      "Total ionic boundary force: -1.505e-02 -1.689e-03 -1.373e-02 [kJ/molA]\n",
      "Total solvation energy: -106.21 [kJ/Mol]\n"
     ]
    }
   ],
   "source": [
    "slp_q = bempp.api.operators.potential.laplace.single_layer(neumann_space, x_q.transpose())\n",
    "dlp_q = bempp.api.operators.potential.laplace.double_layer(dirichl_space, x_q.transpose())\n",
    "phi_q = slp_q*solution_neumann - dlp_q*solution_dirichl\n",
    "\n",
    "f_qf,_,_ = fixed_charge_forces(solution_neumann,solution_dirichl,neumann_space,dirichl_space,x_q,q,h=0.001)\n",
    "f_db,f_ib = boundary_forces(solution_neumann,solution_dirichl,grid,k,ep_ex,ep_in)\n",
    "f_solv = f_qf + f_db + f_ib\n",
    "\n",
    "print(\"Total solvation forces {:10.4f}{:10.4f}{:10.4f} [kJ/molA]\".format(f_solv[0],f_solv[1],f_solv[2]))  \n",
    "print(\"Total reaction force: {:10.4f}{:10.4f}{:10.4f} [kJ/molA]\".format(f_qf[0],f_qf[1],f_qf[2]))\n",
    "print(\"Total dielectric boundary force: {:10.4f}{:10.4f}{:10.4f} [kJ/molA]\".format(f_db[0],f_db[1],f_db[2]))\n",
    "print(\"Total ionic boundary force: {:5.3e} {:5.3e} {:5.3e} [kJ/molA]\".format(f_ib[0],f_ib[1],f_ib[2]))\n",
    "\n",
    "# total dissolution energy applying constant to get units [kcal/mol]\n",
    "total_energy = 4.184*2*np.pi*332.064*np.sum(q*phi_q).real\n",
    "print(\"Total solvation energy: {:7.2f} [kJ/Mol]\".format(total_energy))"
   ]
  },
  {
   "cell_type": "markdown",
   "metadata": {},
   "source": [
    "## References\n",
    "[1] Yoon, B. J., & Lenhoff, A. M. (1990). A boundary element method for molecular electrostatics with electrolyte effects. *Journal of Computational Chemistry*, 11(9), 1080-1086.\n",
    "\n",
    "[2] Dolinsky, T. J., Nielsen, J. E., McCammon, J. A., & Baker, N. A. (2004). PDB2PQR: an automated pipeline for the setup of Poisson–Boltzmann electrostatics calculations. *Nucleic acids research*, 32(suppl_2), W665-W667.\n",
    "\n",
    "[3] Sanner, M. F., Olson, A. J., & Spehner, J. C. (1995, September). Fast and robust computation of molecular surfaces. In *Proceedings of the eleventh annual symposium on Computational geometry* (pp. 406-407). ACM.\n",
    "\n",
    "[4] Sergio Decherchi and Walter Rocchia. A general and Robust Ray-Casting-Based\n",
    "Algorithm for Triangulating Surfaces at the Nanoscale. PLOS ONE, 8(4):1–15, 2013.\n",
    "\n",
    "[5] Timo Betcke and Matthew W. Scroggs. Bempp-cl: A fast python based just-in-time\n",
    "compiling boundary element library. Journal of Open Source Software, 6(59):2879,\n",
    "2021.\n",
    "\n",
    "[6] S. Decherchi, A. Spitaleri, J. Stone and W. Rocchia, \"NanoShaper-VMD interface: computing and visualizing surfaces, pockets and channels in\n",
    "molecular systems\". Bioinformatics, in press, 2018."
   ]
  }
 ],
 "metadata": {
  "interpreter": {
   "hash": "cb718e3dd62ac12afca115e8e5202131ec135a3cf4c9b81e410e7edf4a7cd0bd"
  },
  "kernelspec": {
   "display_name": "Python 3.8.12 64-bit ('bempp': conda)",
   "name": "python3"
  },
  "language_info": {
   "codemirror_mode": {
    "name": "ipython",
    "version": 3
   },
   "file_extension": ".py",
   "mimetype": "text/x-python",
   "name": "python",
   "nbconvert_exporter": "python",
   "pygments_lexer": "ipython3",
   "version": "3.8.12"
  }
 },
 "nbformat": 4,
 "nbformat_minor": 2
}
