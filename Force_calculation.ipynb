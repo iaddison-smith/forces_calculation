{
 "cells": [
  {
   "cell_type": "code",
   "execution_count": null,
   "metadata": {},
   "outputs": [],
   "source": [
    "from tools import PBE_solver\n",
    "import bempp.api\n",
    "bempp.api.PLOT_BACKEND = \"gmsh\""
   ]
  },
  {
   "cell_type": "markdown",
   "metadata": {},
   "source": [
    "### Forces for a sphere charge centered"
   ]
  },
  {
   "cell_type": "code",
   "execution_count": 8,
   "metadata": {},
   "outputs": [
    {
     "name": "stderr",
     "output_type": "stream",
     "text": [
      "C:\\Users\\ian\\Anaconda3\\envs\\bempp\\lib\\site-packages\\scipy\\sparse\\linalg\\dsolve\\linsolve.py:318: SparseEfficiencyWarning: splu requires CSC matrix format\n",
      "  warn('splu requires CSC matrix format', SparseEfficiencyWarning)\n"
     ]
    }
   ],
   "source": [
    "sim = PBE_solver.Molecule('pqr_files\\\\sphere','sphere','point',3.0)\n",
    "sim.get_solv_energy()\n",
    "sim.get_solv_forces()\n",
    "sim.get_fixed_forces()\n",
    "sim.save_info(forces=True,energy=True)"
   ]
  },
  {
   "cell_type": "markdown",
   "metadata": {},
   "source": [
    "### Forces for arginine "
   ]
  },
  {
   "cell_type": "code",
   "execution_count": 13,
   "metadata": {},
   "outputs": [
    {
     "name": "stderr",
     "output_type": "stream",
     "text": [
      "C:\\Users\\ian\\Anaconda3\\envs\\bempp\\lib\\site-packages\\scipy\\sparse\\linalg\\dsolve\\linsolve.py:318: SparseEfficiencyWarning: splu requires CSC matrix format\n",
      "  warn('splu requires CSC matrix format', SparseEfficiencyWarning)\n"
     ]
    }
   ],
   "source": [
    "sim = PBE_solver.Molecule('pqr_files\\\\arg','arg','amber',3.0)\n",
    "sim.get_solv_energy()\n",
    "sim.get_solv_forces()\n",
    "sim.get_fixed_forces()\n",
    "sim.save_info(forces=True,energy=True)"
   ]
  },
  {
   "cell_type": "markdown",
   "metadata": {},
   "source": [
    "### Forces for two spheres charge centered with variable distance"
   ]
  },
  {
   "cell_type": "code",
   "execution_count": 4,
   "metadata": {},
   "outputs": [
    {
     "name": "stderr",
     "output_type": "stream",
     "text": [
      "C:\\Users\\ian\\Anaconda3\\envs\\bempp\\lib\\site-packages\\scipy\\sparse\\linalg\\dsolve\\linsolve.py:318: SparseEfficiencyWarning: splu requires CSC matrix format\n",
      "  warn('splu requires CSC matrix format', SparseEfficiencyWarning)\n",
      "C:\\Users\\ian\\Anaconda3\\envs\\bempp\\lib\\site-packages\\scipy\\sparse\\linalg\\dsolve\\linsolve.py:318: SparseEfficiencyWarning: splu requires CSC matrix format\n",
      "  warn('splu requires CSC matrix format', SparseEfficiencyWarning)\n"
     ]
    }
   ],
   "source": [
    "distances = [[80,0,0],[40,0,0],[35,0,0],[30,0,0],[25,0,0],[20,0,0],[18,0,0],[16,0,0],[14,0,0],[12,0,0],[10,0,0],[9,0,0],[8,0,0],[7,0,0],[6,0,0],[5,0,0],[4,0,0]]\n",
    "for distance in distances:\n",
    "    sim = PBE_solver.Two_molecules('pqr_files\\\\sphere','pqr_files\\\\sphere','sphere','point',3.0,'sphere','point',3.0,distance,ep_in=2.0,ep_ex=80.0,kappa=0.125)\n",
    "    sim.get_solv_energy()\n",
    "    sim.get_solv_forces()\n",
    "    sim.get_fixed_forces()\n",
    "    sim.save_info(forces=True,energy=True)"
   ]
  },
  {
   "cell_type": "markdown",
   "metadata": {},
   "source": [
    "### Forces for arginine with methanol in variable distance"
   ]
  },
  {
   "cell_type": "code",
   "execution_count": 6,
   "metadata": {},
   "outputs": [
    {
     "name": "stderr",
     "output_type": "stream",
     "text": [
      "C:\\Users\\ian\\Anaconda3\\envs\\bempp\\lib\\site-packages\\scipy\\sparse\\linalg\\dsolve\\linsolve.py:318: SparseEfficiencyWarning: splu requires CSC matrix format\n",
      "  warn('splu requires CSC matrix format', SparseEfficiencyWarning)\n",
      "C:\\Users\\ian\\Anaconda3\\envs\\bempp\\lib\\site-packages\\scipy\\sparse\\linalg\\dsolve\\linsolve.py:318: SparseEfficiencyWarning: splu requires CSC matrix format\n",
      "  warn('splu requires CSC matrix format', SparseEfficiencyWarning)\n"
     ]
    }
   ],
   "source": [
    "distances = [[80,0,0],[40,0,0],[35,0,0],[30,0,0],[25,0,0],[20,0,0],[18,0,0],[16,0,0],[14,0,0],[12,0,0],[10,0,0],[9,0,0],[8,0,0],[7,0,0],[6,0,0],[5,0,0],[4,0,0]]\n",
    "for distance in distances:\n",
    "    sim = PBE_solver.Two_molecules('pqr_files\\\\arg','pqr_files\\\\methanol','arg','amber',3.0,'methanol','amber',3.0,distance,ep_in=2.0,ep_ex=80.0,kappa=0.125)\n",
    "    sim.get_solv_energy()\n",
    "    sim.get_solv_forces()\n",
    "    sim.get_fixed_forces()\n",
    "    sim.save_info(forces=True,energy=True)"
   ]
  },
  {
   "cell_type": "markdown",
   "metadata": {},
   "source": [
    "### Forces for arginine and methanol (charges off) (Test Charge method)"
   ]
  },
  {
   "cell_type": "code",
   "execution_count": 9,
   "metadata": {},
   "outputs": [
    {
     "name": "stderr",
     "output_type": "stream",
     "text": [
      "C:\\Users\\ian\\Anaconda3\\envs\\bempp\\lib\\site-packages\\scipy\\sparse\\linalg\\dsolve\\linsolve.py:318: SparseEfficiencyWarning: splu requires CSC matrix format\n",
      "  warn('splu requires CSC matrix format', SparseEfficiencyWarning)\n"
     ]
    }
   ],
   "source": [
    "distances = [[80,0,0],[40,0,0],[35,0,0],[30,0,0],[25,0,0],[20,0,0],[18,0,0],[16,0,0],[14,0,0],[12,0,0],[10,0,0],[9,0,0],[8,0,0],[7,0,0],[6,0,0],[5,0,0],[4,0,0]]\n",
    "for distance in distances:\n",
    "    sim = PBE_solver.Two_molecules('pqr_files\\\\arg','pqr_files\\\\methanol','arg','amber',3.0,'methanol','amber_nocharge',3.0,distance,ep_in=2.0,ep_ex=80.0,kappa=0.125)\n",
    "    sim.get_solv_energy()\n",
    "    sim.get_solv_forces()\n",
    "    sim.get_fixed_forces()\n",
    "    sim.save_info(forces=True,energy=True)"
   ]
  }
 ],
 "metadata": {
  "interpreter": {
   "hash": "cb718e3dd62ac12afca115e8e5202131ec135a3cf4c9b81e410e7edf4a7cd0bd"
  },
  "kernelspec": {
   "display_name": "Python 3.8.12 64-bit ('bempp': conda)",
   "name": "python3"
  },
  "language_info": {
   "codemirror_mode": {
    "name": "ipython",
    "version": 3
   },
   "file_extension": ".py",
   "mimetype": "text/x-python",
   "name": "python",
   "nbconvert_exporter": "python",
   "pygments_lexer": "ipython3",
   "version": "3.8.12"
  }
 },
 "nbformat": 4,
 "nbformat_minor": 2
}
