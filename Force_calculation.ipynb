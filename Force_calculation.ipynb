{
 "cells": [
  {
   "cell_type": "markdown",
   "source": [
    "## Example\n",
    "\n",
    "### Definicion de funciones necesarias para generacion malla"
   ],
   "metadata": {}
  },
  {
   "cell_type": "code",
   "execution_count": 12,
   "source": [
    "%config IPCompleter.greedy=True\n",
    "import numpy as np\n",
    "import os\n",
    "import bempp.api\n",
    "from mesh_converter import *\n",
    "from derivate_operators import *"
   ],
   "outputs": [],
   "metadata": {}
  },
  {
   "cell_type": "markdown",
   "source": [
    "### Seleccion de proteina a simular"
   ],
   "metadata": {}
  },
  {
   "cell_type": "code",
   "execution_count": 14,
   "source": [
    "directory = '/home/ian/Desktop/Forces_bioelectrostatics'\n",
    "protein = '1lyz'\n",
    "forcefield = 'amber'\n",
    "dir_prot = directory+'/pqr_files/'+protein\n",
    "pf = protein +'_' + forcefield\n",
    "density = 0.5\n",
    "probe_radius = 1.4\n",
    "\n",
    "convert_pqr2xyzr('{}/{}.pqr'.format(dir_prot,pf),'{}/{}.xyzr'.format(dir_prot,pf))\n",
    "generate_nanoshaper_mesh('{}/{}.xyzr'.format(dir_prot,pf), dir_prot,pf,density,probe_radius,False)\n",
    "grid = import_msms_mesh('{}/{}.face'.format(dir_prot,pf),'{}/{}.vert'.format(dir_prot,pf))\n",
    "\n",
    "#grid = bempp.api.import_grid('5pti_d1.msh')\n"
   ],
   "outputs": [],
   "metadata": {}
  },
  {
   "cell_type": "code",
   "execution_count": 16,
   "source": [
    "import bempp.api\n",
    "#bempp.api.set_ipython_notebook_viewer()\n",
    "bempp.api.PLOT_BACKEND = \"gmsh\"\n",
    "\n",
    "\n",
    "\n",
    "grid.plot()"
   ],
   "outputs": [],
   "metadata": {
    "scrolled": true
   }
  },
  {
   "cell_type": "markdown",
   "source": [
    "<img src=\"5pti_mesh.png\", style=\"width:400px\">"
   ],
   "metadata": {}
  },
  {
   "cell_type": "markdown",
   "source": [
    "and read the `.pqr` file for the charges."
   ],
   "metadata": {}
  },
  {
   "cell_type": "code",
   "execution_count": 20,
   "source": [
    "import numpy as np\n",
    "q, x_q = np.array([]), np.empty((0,3))\n",
    "\n",
    "#ep_in = 4.\n",
    "ep_in = 2.\n",
    "ep_ex = 80.\n",
    "k = 0.125\n",
    "\n",
    "# Read charges and coordinates from the .pqr file\n",
    "molecule_file = open('{}/{}.pqr'.format(dir_prot,pf), 'r').read().split('\\n')\n",
    "for line in molecule_file:\n",
    "    line = line.split()\n",
    "    if len(line)==0 or line[0]!='ATOM': continue\n",
    "    q = np.append( q, float(line[8]))\n",
    "    x_q = np.vstack(( x_q, np.array(line[5:8]).astype(float) ))"
   ],
   "outputs": [],
   "metadata": {}
  },
  {
   "cell_type": "markdown",
   "source": [
    "### Right-hand side\n",
    "\n",
    "With that, we can compute the potential due to the charges on the boundary, required for the right-hand side"
   ],
   "metadata": {}
  },
  {
   "cell_type": "code",
   "execution_count": 21,
   "source": [
    "# Function to calculate the potential by charges at boundary\n",
    "\n",
    "dirichl_space = bempp.api.function_space(grid, \"DP\", 0)\n",
    "neumann_space = bempp.api.function_space(grid, \"DP\", 0)\n",
    "\n",
    "@bempp.api.real_callable\n",
    "def charges_fun(x, n, domain_index, result):\n",
    "    global q, x_q, ep_in\n",
    "    suma = 0\n",
    "    for k in range(len(q)):\n",
    "        suma = suma + q[k]/(np.linalg.norm(x-x_q[k]))\n",
    "    result[:] = suma/(4*np.pi*ep_in)\n",
    "    #result[:] = np.sum(q / np.linalg.norm(x - x_q, axis=1))\n",
    "    \n",
    "charged_grid_fun = bempp.api.GridFunction(dirichl_space, fun=charges_fun)\n",
    "#charged_grid_fun.plot()\n",
    "\n",
    "rhs = np.concatenate([charged_grid_fun.coefficients, \n",
    "                      np.zeros(neumann_space.global_dof_count)])\n"
   ],
   "outputs": [
    {
     "output_type": "stream",
     "name": "stderr",
     "text": [
      "/home/ian/miniconda3/envs/bempp/lib/python3.9/site-packages/scipy/sparse/linalg/dsolve/linsolve.py:318: SparseEfficiencyWarning: splu requires CSC matrix format\n",
      "  warn('splu requires CSC matrix format', SparseEfficiencyWarning)\n"
     ]
    }
   ],
   "metadata": {}
  },
  {
   "cell_type": "markdown",
   "source": [
    "### Operators and Matrix\n",
    "\n",
    "Next, we generate the $2\\times 2$ block matrix with the single and double layer operators of the Laplace and Yukawa kernels "
   ],
   "metadata": {}
  },
  {
   "cell_type": "code",
   "execution_count": 22,
   "source": [
    "# Define Operators\n",
    "from bempp.api.operators.boundary import sparse, laplace, modified_helmholtz\n",
    "identity = sparse.identity(dirichl_space, dirichl_space, dirichl_space)\n",
    "slp_in   = laplace.single_layer(neumann_space, dirichl_space, dirichl_space)\n",
    "dlp_in   = laplace.double_layer(dirichl_space, dirichl_space, dirichl_space)\n",
    "slp_out  = modified_helmholtz.single_layer(neumann_space, dirichl_space, dirichl_space, k)\n",
    "dlp_out  = modified_helmholtz.double_layer(dirichl_space, dirichl_space, dirichl_space, k)\n",
    "\n",
    "# Matrix Assembly\n",
    "blocked = bempp.api.BlockedOperator(2, 2)\n",
    "blocked[0, 0] = 0.5*identity + dlp_in\n",
    "blocked[0, 1] = -slp_in\n",
    "blocked[1, 0] = 0.5*identity - dlp_out\n",
    "blocked[1, 1] = (ep_in/ep_ex)*slp_out\n",
    "op_discrete = blocked.strong_form()"
   ],
   "outputs": [],
   "metadata": {}
  },
  {
   "cell_type": "markdown",
   "source": [
    "### Solver\n",
    "\n",
    "We now use `gmres` from `scipy` to solve the system. "
   ],
   "metadata": {}
  },
  {
   "cell_type": "code",
   "execution_count": 23,
   "source": [
    "import inspect\n",
    "from scipy.sparse.linalg import gmres\n",
    "\n",
    "array_it, array_frame, it_count = np.array([]), np.array([]), 0\n",
    "def iteration_counter(x):\n",
    "        global array_it, array_frame, it_count\n",
    "        it_count += 1\n",
    "        frame = inspect.currentframe().f_back\n",
    "        array_it = np.append(array_it, it_count)\n",
    "        array_frame = np.append(array_frame, frame.f_locals[\"resid\"])\n",
    "        #print \"It: {0} Error {1:.2E}\".format(it_count, frame.f_locals[\"resid\"])        \n",
    "\n",
    "x, info = gmres(op_discrete, rhs, callback=iteration_counter, tol=1e-3, maxiter=1000, restart = 2000)\n",
    "\n",
    "print(\"The linear system was solved in {0} iterations\".format(it_count))"
   ],
   "outputs": [
    {
     "output_type": "stream",
     "name": "stdout",
     "text": [
      "The linear system was solved in 64 iterations\n"
     ]
    }
   ],
   "metadata": {}
  },
  {
   "cell_type": "markdown",
   "source": [
    "The two following `GridFunction` calls store the calculated boundary potential data (separated by $\\phi$ and $\\frac{\\partial \\phi}{\\partial n}$) for visualization purposes. "
   ],
   "metadata": {}
  },
  {
   "cell_type": "code",
   "execution_count": 25,
   "source": [
    "solution_dirichl = bempp.api.GridFunction(dirichl_space, \n",
    "                                          coefficients=x[:dirichl_space.global_dof_count])\n",
    "solution_neumann = bempp.api.GridFunction(neumann_space, \n",
    "                                          coefficients=x[dirichl_space.global_dof_count:])\n",
    "solution_dirichl.plot()\n",
    "#solution_neumann.plot()"
   ],
   "outputs": [],
   "metadata": {}
  },
  {
   "cell_type": "markdown",
   "source": [
    "which should give something like:\n",
    "\n",
    "<img src=\"5pti_solu.png\", style=\"width:300px\">"
   ],
   "metadata": {}
  },
  {
   "cell_type": "markdown",
   "source": [
    "### Energy calculaton\n",
    "\n",
    "To compute $\\phi_\\text{reac}$ at the atoms locations, we use `operators.potential` to then multiply by the charge and add to compute $\\Delta G_\\text{solv}$. The `332.064` term is just a unit conversion constant."
   ],
   "metadata": {}
  },
  {
   "cell_type": "code",
   "execution_count": 26,
   "source": [
    "slp_q = bempp.api.operators.potential.laplace.single_layer(neumann_space, x_q.transpose())\n",
    "dlp_q = bempp.api.operators.potential.laplace.double_layer(dirichl_space, x_q.transpose())\n",
    "phi_q = slp_q*solution_neumann - dlp_q*solution_dirichl\n",
    "\n",
    "\n",
    "\n",
    "\n",
    "# Calcular phi coulomb\n",
    "\n",
    "# Reaction force calculation (qE)\n",
    "h=0.001\n",
    "grad_phi = solvent_potential_first_derivate(x_q, h, neumann_space, dirichl_space, solution_neumann, solution_dirichl)\n",
    "F_reac = np.zeros([len(q),3])\n",
    "for j in range(len(q)):\n",
    "    F_reac[j,:] = -ep_in*q[j]*grad_phi[j,:]\n",
    "F_reactotal = np.zeros([3])\n",
    "for j in range(len(q)):\n",
    "    F_reactotal[:] = F_reactotal[:] + F_reac[j,:]\n",
    "F_reactotal[:] = 4*np.pi*332.064*F_reactotal[:]\n",
    "# Dielectric boundary force calculation (DBF)\n",
    "\n",
    "# Ionic boundary force calculation (IBF)\n",
    "    \n",
    "print(\"Total reaction force: {:10.6f}{:10.6f}{:10.6f} []\".format(F_reactotal[0],F_reactotal[1],F_reactotal[2]))\n",
    "# total dissolution energy applying constant to get units [kcal/mol]\n",
    "total_energy = 2*np.pi*332.064*np.sum(q*phi_q).real\n",
    "print(\"Total solvation energy: {:7.2f} [kcal/Mol]\".format(total_energy))"
   ],
   "outputs": [
    {
     "output_type": "stream",
     "name": "stdout",
     "text": [
      "Total reaction force: -1483.709695-376.847851-535.874328 []\n",
      "Total solvation energy: -1500.48 [kcal/Mol]\n"
     ]
    }
   ],
   "metadata": {}
  },
  {
   "cell_type": "code",
   "execution_count": 10,
   "source": [
    "grid.normals[1]"
   ],
   "outputs": [
    {
     "output_type": "execute_result",
     "data": {
      "text/plain": [
       "array([-0.80518988, -0.5887025 ,  0.0714046 ])"
      ]
     },
     "metadata": {},
     "execution_count": 10
    }
   ],
   "metadata": {}
  },
  {
   "cell_type": "code",
   "execution_count": 1,
   "source": [
    "solution_neumann.coefficients"
   ],
   "outputs": [
    {
     "output_type": "error",
     "ename": "NameError",
     "evalue": "name 'solution_neumann' is not defined",
     "traceback": [
      "\u001b[0;31m---------------------------------------------------------------------------\u001b[0m",
      "\u001b[0;31mNameError\u001b[0m                                 Traceback (most recent call last)",
      "\u001b[0;32m<ipython-input-1-f13fcbfe5677>\u001b[0m in \u001b[0;36m<module>\u001b[0;34m\u001b[0m\n\u001b[0;32m----> 1\u001b[0;31m \u001b[0msolution_neumann\u001b[0m\u001b[0;34m.\u001b[0m\u001b[0mcoefficients\u001b[0m\u001b[0;34m\u001b[0m\u001b[0;34m\u001b[0m\u001b[0m\n\u001b[0m",
      "\u001b[0;31mNameError\u001b[0m: name 'solution_neumann' is not defined"
     ]
    }
   ],
   "metadata": {}
  },
  {
   "cell_type": "markdown",
   "source": [
    "## References\n",
    "[1] Yoon, B. J., & Lenhoff, A. M. (1990). A boundary element method for molecular electrostatics with electrolyte effects. *Journal of Computational Chemistry*, 11(9), 1080-1086.\n",
    "\n",
    "[2] Dolinsky, T. J., Nielsen, J. E., McCammon, J. A., & Baker, N. A. (2004). PDB2PQR: an automated pipeline for the setup of Poisson–Boltzmann electrostatics calculations. *Nucleic acids research*, 32(suppl_2), W665-W667.\n",
    "\n",
    "[3] Sanner, M. F., Olson, A. J., & Spehner, J. C. (1995, September). Fast and robust computation of molecular surfaces. In *Proceedings of the eleventh annual symposium on Computational geometry* (pp. 406-407). ACM."
   ],
   "metadata": {}
  },
  {
   "cell_type": "code",
   "execution_count": null,
   "source": [],
   "outputs": [],
   "metadata": {}
  }
 ],
 "metadata": {
  "interpreter": {
   "hash": "840a388aa1acbd7e251e215943f97572d4ebbade8aa6b496526af4acf71dd5ab"
  },
  "kernelspec": {
   "name": "python3",
   "display_name": "Python 3.9.4 64-bit ('bempp': conda)"
  },
  "language_info": {
   "codemirror_mode": {
    "name": "ipython",
    "version": 3
   },
   "file_extension": ".py",
   "mimetype": "text/x-python",
   "name": "python",
   "nbconvert_exporter": "python",
   "pygments_lexer": "ipython3",
   "version": "3.9.4"
  }
 },
 "nbformat": 4,
 "nbformat_minor": 2
}