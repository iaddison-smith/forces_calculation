{
 "cells": [
  {
   "cell_type": "markdown",
   "source": [
    "## Example\r\n",
    "\r\n",
    "### Definicion de funciones necesarias para generacion malla"
   ],
   "metadata": {}
  },
  {
   "cell_type": "code",
   "execution_count": 1,
   "source": [
    "%config IPCompleter.greedy=True\r\n",
    "import numpy as np\r\n",
    "import os\r\n",
    "import bempp.api\r\n",
    "from mesh_converter import *\r\n",
    "from derivate_operators import *"
   ],
   "outputs": [],
   "metadata": {}
  },
  {
   "cell_type": "markdown",
   "source": [
    "### Seleccion de proteina a simular, contenidas en carpetas pqr_files"
   ],
   "metadata": {}
  },
  {
   "cell_type": "code",
   "execution_count": 2,
   "source": [
    "# directory = '/home/ian/Desktop/Forces_bioelectrostatics' #Ubuntu\r\n",
    "directory = 'C:\\\\Users\\\\ian\\Desktop\\\\forces_calculation' #Windows\r\n",
    "protein = 'arg'\r\n",
    "forcefield = 'amber'\r\n",
    "#dir_prot = directory+'/pqr_files/'+protein #Ubuntu\r\n",
    "dir_prot = directory+'\\\\pqr_files\\\\'+protein #Windows\r\n",
    "pf = protein +'_' + forcefield\r\n",
    "density = 0.7\r\n",
    "probe_radius = 1.4\r\n",
    "\r\n",
    "#convert_pqr2xyzr('{}/{}.pqr'.format(dir_prot,pf),'{}/{}.xyzr'.format(dir_prot,pf))\r\n",
    "#generate_nanoshaper_mesh('{}/{}.xyzr'.format(dir_prot,pf), dir_prot,pf,density,probe_radius,False)\r\n",
    "grid = import_msms_mesh('{}/{}.face'.format(dir_prot,'arg_d04'),'{}/{}.vert'.format(dir_prot,'arg_d04'))\r\n",
    "\r\n",
    "#grid2 = bempp.api.import_grid('/home/ian/Desktop/Forces_bioelectrostatics/5pti_d1.msh')\r\n"
   ],
   "outputs": [],
   "metadata": {}
  },
  {
   "cell_type": "markdown",
   "source": [
    "### Grafico de archivo mesh (Opcional)"
   ],
   "metadata": {}
  },
  {
   "cell_type": "code",
   "execution_count": 3,
   "source": [
    "\r\n",
    "bempp.api.PLOT_BACKEND = \"gmsh\"\r\n",
    "grid.plot()"
   ],
   "outputs": [],
   "metadata": {
    "scrolled": true
   }
  },
  {
   "cell_type": "markdown",
   "source": [
    "### Lectura de cargas contenidas en archivo .pqr"
   ],
   "metadata": {}
  },
  {
   "cell_type": "code",
   "execution_count": 4,
   "source": [
    "import numpy as np\r\n",
    "q, x_q = np.array([]), np.empty((0,3))\r\n",
    "\r\n",
    "ep_in = 4.\r\n",
    "ep_ex = 80.\r\n",
    "k = 0.125\r\n",
    "\r\n",
    "# Read charges and coordinates from the .pqr file\r\n",
    "molecule_file = open('{}/{}.pqr'.format(dir_prot,'arg'), 'r').read().split('\\n')\r\n",
    "for line in molecule_file:\r\n",
    "    line = line.split()\r\n",
    "    if len(line)==0 or line[0]!='ATOM': continue\r\n",
    "    q = np.append( q, float(line[8]))\r\n",
    "    x_q = np.vstack(( x_q, np.array(line[5:8]).astype(float) ))"
   ],
   "outputs": [],
   "metadata": {}
  },
  {
   "cell_type": "markdown",
   "source": [
    "### Right-hand side\r\n",
    "\r\n",
    "With that, we can compute the potential due to the charges on the boundary, required for the right-hand side"
   ],
   "metadata": {}
  },
  {
   "cell_type": "code",
   "execution_count": 5,
   "source": [
    "# Function to calculate the potential by charges at boundary\r\n",
    "\r\n",
    "dirichl_space = bempp.api.function_space(grid, \"DP\", 0)\r\n",
    "neumann_space = bempp.api.function_space(grid, \"DP\", 0)\r\n",
    "\r\n",
    "@bempp.api.real_callable\r\n",
    "def charges_fun(x, n, domain_index, result):\r\n",
    "    global q, x_q, ep_in\r\n",
    "    suma = 0\r\n",
    "    for k in range(len(q)):\r\n",
    "        suma = suma + q[k]/(np.linalg.norm(x-x_q[k]))\r\n",
    "    result[:] = suma/(4*np.pi*ep_in)\r\n",
    "    #result[:] = np.sum(q / np.linalg.norm(x - x_q, axis=1))\r\n",
    "    \r\n",
    "charged_grid_fun = bempp.api.GridFunction(dirichl_space, fun=charges_fun)\r\n",
    "#charged_grid_fun.plot()\r\n",
    "\r\n",
    "rhs = np.concatenate([charged_grid_fun.coefficients, \r\n",
    "                      np.zeros(neumann_space.global_dof_count)])\r\n"
   ],
   "outputs": [
    {
     "output_type": "stream",
     "name": "stderr",
     "text": [
      "C:\\Users\\ian\\Anaconda3\\envs\\bempp\\lib\\site-packages\\scipy\\sparse\\linalg\\dsolve\\linsolve.py:318: SparseEfficiencyWarning: splu requires CSC matrix format\n",
      "  warn('splu requires CSC matrix format', SparseEfficiencyWarning)\n"
     ]
    }
   ],
   "metadata": {}
  },
  {
   "cell_type": "markdown",
   "source": [
    "### Operators and Matrix\r\n",
    "\r\n",
    "Next, we generate the $2\\times 2$ block matrix with the single and double layer operators of the Laplace and Yukawa kernels "
   ],
   "metadata": {}
  },
  {
   "cell_type": "code",
   "execution_count": 6,
   "source": [
    "# Define Operators\r\n",
    "from bempp.api.operators.boundary import sparse, laplace, modified_helmholtz\r\n",
    "identity = sparse.identity(dirichl_space, dirichl_space, dirichl_space)\r\n",
    "slp_in   = laplace.single_layer(neumann_space, dirichl_space, dirichl_space)\r\n",
    "dlp_in   = laplace.double_layer(dirichl_space, dirichl_space, dirichl_space)\r\n",
    "slp_out  = modified_helmholtz.single_layer(neumann_space, dirichl_space, dirichl_space, k)\r\n",
    "dlp_out  = modified_helmholtz.double_layer(dirichl_space, dirichl_space, dirichl_space, k)\r\n",
    "\r\n",
    "# Matrix Assembly\r\n",
    "blocked = bempp.api.BlockedOperator(2, 2)\r\n",
    "blocked[0, 0] = 0.5*identity + dlp_in\r\n",
    "blocked[0, 1] = -slp_in\r\n",
    "blocked[1, 0] = 0.5*identity - dlp_out\r\n",
    "blocked[1, 1] = (ep_in/ep_ex)*slp_out\r\n",
    "op_discrete = blocked.strong_form()"
   ],
   "outputs": [],
   "metadata": {}
  },
  {
   "cell_type": "markdown",
   "source": [
    "### Solver\r\n",
    "\r\n",
    "We now use `gmres` from `scipy` to solve the system. "
   ],
   "metadata": {}
  },
  {
   "cell_type": "code",
   "execution_count": 7,
   "source": [
    "import inspect\r\n",
    "from scipy.sparse.linalg import gmres\r\n",
    "\r\n",
    "array_it, array_frame, it_count = np.array([]), np.array([]), 0\r\n",
    "def iteration_counter(x):\r\n",
    "        global array_it, array_frame, it_count\r\n",
    "        it_count += 1\r\n",
    "        frame = inspect.currentframe().f_back\r\n",
    "        array_it = np.append(array_it, it_count)\r\n",
    "        array_frame = np.append(array_frame, frame.f_locals[\"resid\"])\r\n",
    "        #print \"It: {0} Error {1:.2E}\".format(it_count, frame.f_locals[\"resid\"])        \r\n",
    "\r\n",
    "x, info = gmres(op_discrete, rhs, callback=iteration_counter, tol=1e-3, maxiter=1000, restart = 2000)\r\n",
    "\r\n",
    "print(\"The linear system was solved in {0} iterations\".format(it_count))"
   ],
   "outputs": [
    {
     "output_type": "stream",
     "name": "stdout",
     "text": [
      "The linear system was solved in 28 iterations\n"
     ]
    }
   ],
   "metadata": {}
  },
  {
   "cell_type": "markdown",
   "source": [
    "The two following `GridFunction` calls store the calculated boundary potential data (separated by $\\phi$ and $\\frac{\\partial \\phi}{\\partial n}$) for visualization purposes. "
   ],
   "metadata": {}
  },
  {
   "cell_type": "code",
   "execution_count": 8,
   "source": [
    "solution_dirichl = bempp.api.GridFunction(dirichl_space, \r\n",
    "                                          coefficients=x[:dirichl_space.global_dof_count])\r\n",
    "solution_neumann = bempp.api.GridFunction(neumann_space, \r\n",
    "                                          coefficients=x[dirichl_space.global_dof_count:])\r\n",
    "#solution_dirichl.plot()\r\n",
    "#solution_neumann.plot()"
   ],
   "outputs": [],
   "metadata": {}
  },
  {
   "cell_type": "markdown",
   "source": [
    "### Energy calculaton\r\n",
    "\r\n",
    "To compute $\\phi_\\text{reac}$ at the atoms locations, we use `operators.potential` to then multiply by the charge and add to compute $\\Delta G_\\text{solv}$. The `332.064` term is just a unit conversion constant."
   ],
   "metadata": {}
  },
  {
   "cell_type": "code",
   "execution_count": 10,
   "source": [
    "slp_q = bempp.api.operators.potential.laplace.single_layer(neumann_space, x_q.transpose())\r\n",
    "dlp_q = bempp.api.operators.potential.laplace.double_layer(dirichl_space, x_q.transpose())\r\n",
    "phi_q = slp_q*solution_neumann - dlp_q*solution_dirichl\r\n",
    "\r\n",
    "cal2J = 4.184\r\n",
    "qe = 1.60217646e-19\r\n",
    "Na = 6.0221415e+23\r\n",
    "ep_vacc = 8.854187818e-12\r\n",
    "C0 = qe**2*Na*1e-3*1e10/(cal2J*ep_vacc)\r\n",
    "\r\n",
    "# Reaction force calculation (qE)\r\n",
    "h=0.001\r\n",
    "grad_phi = solvent_potential_first_derivate(x_q, h, neumann_space, dirichl_space, solution_neumann, solution_dirichl)\r\n",
    "F_reac = np.zeros([len(q),3])\r\n",
    "for j in range(len(q)):\r\n",
    "    F_reac[j,:] = -q[j]*grad_phi[j,:]\r\n",
    "F_reactotal = np.zeros([3])\r\n",
    "for j in range(len(q)):\r\n",
    "    F_reactotal[:] = F_reactotal[:] + F_reac[j,:]\r\n",
    "F_reactotal[:] = 4.184*4*np.pi*332.064*F_reactotal[:]\r\n",
    "# Dielectric boundary force calculation (DBF)\r\n",
    "\r\n",
    "grad_phi = solution_neumann.coefficients\r\n",
    "f_dbf = np.zeros([grid.number_of_elements,3])\r\n",
    "for j in range(grid.number_of_elements):\r\n",
    "    f_dbf[j,:] = (grad_phi[j]**2)*grid.normals[j]*grid.volumes[j]\r\n",
    "f_dbftotal = np.zeros([3])\r\n",
    "for j in range(grid.number_of_elements):\r\n",
    "    f_dbftotal[:] = f_dbftotal[:] + f_dbf[j,:]\r\n",
    "f_dbftotal[:] = -4.184*0.5*(ep_ex-ep_in)*f_dbftotal[:]\r\n",
    "#grid.number_of_elements\r\n",
    "#grid.normals[1]\r\n",
    "f_dbftotal\r\n",
    "# Ionic boundary force calculation (IBF)\r\n",
    "phi = solution_dirichl.coefficients\r\n",
    "auxi = k*phi**2\r\n",
    "f_ibf = np.zeros([grid.number_of_elements,3])\r\n",
    "for j in range(grid.number_of_elements):\r\n",
    "    f_ibf[j] = auxi[j]*grid.normals[j]*grid.volumes[j]\r\n",
    "f_ibftotal = np.zeros([3])\r\n",
    "for j in range(grid.number_of_elements):\r\n",
    "    f_ibftotal[:] = f_ibftotal[:] + f_ibf[j,:]\r\n",
    "f_ibftotal[:] = -4.184*0.5*(ep_ex-ep_in)*f_ibftotal[:]\r\n",
    "\r\n",
    "\r\n",
    "    \r\n",
    "print(\"Total reaction force: {:10.4f}{:10.4f}{:10.4f} [kcal/molA]\".format(F_reactotal[0],F_reactotal[1],F_reactotal[2]))\r\n",
    "print(\"Total dielectric boundary force: {:10.4f}{:10.4f}{:10.4f} [kcal/molA]\".format(f_dbftotal[0],f_dbftotal[1],f_dbftotal[2]))\r\n",
    "print(\"Total ionic boundary force: {:10.5f}{:10.5f}{:10.5f} [kcal/molA]\".format(f_ibftotal[0],f_ibftotal[1],f_ibftotal[2]))\r\n",
    "# total dissolution energy applying constant to get units [kcal/mol]\r\n",
    "total_energy = 4.184*2*np.pi*332.064*np.sum(q*phi_q).real\r\n",
    "print(\"Total solvation energy: {:7.2f} [kcal/Mol]\".format(total_energy))"
   ],
   "outputs": [
    {
     "output_type": "stream",
     "name": "stdout",
     "text": [
      "Total reaction force:    26.5827   -5.9984   10.9338 [kcal/molA]\n",
      "Total dielectric boundary force:    -0.1283    0.0303   -0.0537 [kcal/molA]\n",
      "Total ionic boundary force:   -0.00002  -0.00000  -0.00003 [kcal/molA]\n",
      "Total solvation energy: -102.68 [kcal/Mol]\n"
     ]
    }
   ],
   "metadata": {}
  },
  {
   "cell_type": "markdown",
   "source": [
    "## References\r\n",
    "[1] Yoon, B. J., & Lenhoff, A. M. (1990). A boundary element method for molecular electrostatics with electrolyte effects. *Journal of Computational Chemistry*, 11(9), 1080-1086.\r\n",
    "\r\n",
    "[2] Dolinsky, T. J., Nielsen, J. E., McCammon, J. A., & Baker, N. A. (2004). PDB2PQR: an automated pipeline for the setup of Poisson–Boltzmann electrostatics calculations. *Nucleic acids research*, 32(suppl_2), W665-W667.\r\n",
    "\r\n",
    "[3] Sanner, M. F., Olson, A. J., & Spehner, J. C. (1995, September). Fast and robust computation of molecular surfaces. In *Proceedings of the eleventh annual symposium on Computational geometry* (pp. 406-407). ACM.\r\n",
    "\r\n",
    "[4] Sergio Decherchi and Walter Rocchia. A general and Robust Ray-Casting-Based\r\n",
    "Algorithm for Triangulating Surfaces at the Nanoscale. PLOS ONE, 8(4):1–15, 2013.\r\n",
    "\r\n",
    "[5] Timo Betcke and Matthew W. Scroggs. Bempp-cl: A fast python based just-in-time\r\n",
    "compiling boundary element library. Journal of Open Source Software, 6(59):2879,\r\n",
    "2021.\r\n",
    "\r\n",
    "[6] S. Decherchi, A. Spitaleri, J. Stone and W. Rocchia, \"NanoShaper-VMD interface: computing and visualizing surfaces, pockets and channels in\r\n",
    "molecular systems\". Bioinformatics, in press, 2018."
   ],
   "metadata": {}
  }
 ],
 "metadata": {
  "interpreter": {
   "hash": "cb718e3dd62ac12afca115e8e5202131ec135a3cf4c9b81e410e7edf4a7cd0bd"
  },
  "kernelspec": {
   "name": "python3",
   "display_name": "Python 3.8.10 64-bit ('bempp': conda)"
  },
  "language_info": {
   "codemirror_mode": {
    "name": "ipython",
    "version": 3
   },
   "file_extension": ".py",
   "mimetype": "text/x-python",
   "name": "python",
   "nbconvert_exporter": "python",
   "pygments_lexer": "ipython3",
   "version": "3.8.10"
  }
 },
 "nbformat": 4,
 "nbformat_minor": 2
}