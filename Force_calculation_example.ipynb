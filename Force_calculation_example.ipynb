{
 "cells": [
  {
   "cell_type": "markdown",
   "metadata": {},
   "source": [
    "## Example\n",
    "\n",
    "### Definicion de funciones necesarias para generacion malla"
   ]
  },
  {
   "cell_type": "code",
   "execution_count": 29,
   "metadata": {},
   "outputs": [],
   "source": [
    "%config IPCompleter.greedy=True\n",
    "import numpy as np\n",
    "import os\n",
    "import bempp.api\n",
    "from mesh_converter import *\n",
    "from derivate_operators import *"
   ]
  },
  {
   "cell_type": "markdown",
   "metadata": {},
   "source": [
    "### Seleccion de proteina a simular, contenidas en carpetas pqr_files"
   ]
  },
  {
   "cell_type": "code",
   "execution_count": 30,
   "metadata": {},
   "outputs": [],
   "source": [
    "# directory = '/home/ian/Desktop/Forces_bioelectrostatics' #Ubuntu\n",
    "directory = 'C:\\\\Users\\\\ian\\Desktop\\\\forces_calculation' #Windows\n",
    "protein = 'arg'\n",
    "forcefield = 'amber'\n",
    "#dir_prot = directory+'/pqr_files/'+protein #Ubuntu\n",
    "dir_prot = directory+'\\\\pqr_files\\\\'+protein #Windows\n",
    "density = 3.6\n",
    "probe_radius = 1.4\n",
    "pf = protein +'_' + forcefield\n",
    "pfd = protein +'_' + forcefield + '_' +'d'+str(density)[::2]\n",
    "\n",
    "#----Editar para dejar operativo con windows------------------------\n",
    "convert_pqr2xyzr('{}/{}.pqr'.format(dir_prot,pf),'{}/{}.xyzr'.format(dir_prot,pf))\n",
    "generate_nanoshaper_mesh('{}/{}.xyzr'.format(dir_prot,pf),dir_prot,pf,pfd,density,probe_radius,False)\n",
    "#-------------------------------------------------------------------\n",
    "grid = import_msms_mesh('{}/{}.face'.format(dir_prot,pfd),'{}/{}.vert'.format(dir_prot,pfd))"
   ]
  },
  {
   "cell_type": "markdown",
   "metadata": {},
   "source": [
    "### Grafico de archivo mesh (Opcional)"
   ]
  },
  {
   "cell_type": "code",
   "execution_count": 31,
   "metadata": {
    "scrolled": true
   },
   "outputs": [],
   "source": [
    "\n",
    "bempp.api.PLOT_BACKEND = \"gmsh\"\n",
    "grid.plot()"
   ]
  },
  {
   "cell_type": "markdown",
   "metadata": {},
   "source": [
    "### Lectura de cargas contenidas en archivo .pqr"
   ]
  },
  {
   "cell_type": "code",
   "execution_count": 32,
   "metadata": {},
   "outputs": [],
   "source": [
    "import numpy as np\n",
    "q, x_q = np.array([]), np.empty((0,3))\n",
    "\n",
    "ep_in = 4.\n",
    "ep_ex = 80.\n",
    "k = 0.125\n",
    "\n",
    "# Read charges and coordinates from the .pqr file\n",
    "molecule_file = open('{}/{}.pqr'.format(dir_prot,pf), 'r').read().split('\\n')\n",
    "for line in molecule_file:\n",
    "    line = line.split()\n",
    "    if len(line)==0 or line[0]!='ATOM': continue\n",
    "    q = np.append( q, float(line[8]))\n",
    "    x_q = np.vstack(( x_q, np.array(line[5:8]).astype(float) ))"
   ]
  },
  {
   "cell_type": "markdown",
   "metadata": {},
   "source": [
    "### Right-hand side\n",
    "\n",
    "With that, we can compute the potential due to the charges on the boundary, required for the right-hand side"
   ]
  },
  {
   "cell_type": "code",
   "execution_count": 33,
   "metadata": {},
   "outputs": [
    {
     "name": "stderr",
     "output_type": "stream",
     "text": [
      "C:\\Users\\ian\\Anaconda3\\envs\\bempp\\lib\\site-packages\\scipy\\sparse\\linalg\\dsolve\\linsolve.py:318: SparseEfficiencyWarning: splu requires CSC matrix format\n",
      "  warn('splu requires CSC matrix format', SparseEfficiencyWarning)\n"
     ]
    }
   ],
   "source": [
    "# Function to calculate the potential by charges at boundary\n",
    "\n",
    "dirichl_space = bempp.api.function_space(grid, \"DP\", 0)\n",
    "neumann_space = bempp.api.function_space(grid, \"DP\", 0)\n",
    "\n",
    "@bempp.api.real_callable\n",
    "def charges_fun(x, n, domain_index, result):\n",
    "    global q, x_q, ep_in\n",
    "    suma = 0\n",
    "    for k in range(len(q)):\n",
    "        suma = suma + q[k]/(np.linalg.norm(x-x_q[k]))\n",
    "    result[:] = suma/(4*np.pi*ep_in)\n",
    "    #result[:] = np.sum(q / np.linalg.norm(x - x_q, axis=1))\n",
    "    \n",
    "charged_grid_fun = bempp.api.GridFunction(dirichl_space, fun=charges_fun)\n",
    "#charged_grid_fun.plot()\n",
    "\n",
    "rhs = np.concatenate([charged_grid_fun.coefficients, \n",
    "                      np.zeros(neumann_space.global_dof_count)])\n"
   ]
  },
  {
   "cell_type": "markdown",
   "metadata": {},
   "source": [
    "### Operators and Matrix\n",
    "\n",
    "Next, we generate the $2\\times 2$ block matrix with the single and double layer operators of the Laplace and Yukawa kernels "
   ]
  },
  {
   "cell_type": "code",
   "execution_count": 34,
   "metadata": {},
   "outputs": [],
   "source": [
    "# Define Operators\n",
    "from bempp.api.operators.boundary import sparse, laplace, modified_helmholtz\n",
    "identity = sparse.identity(dirichl_space, dirichl_space, dirichl_space)\n",
    "slp_in   = laplace.single_layer(neumann_space, dirichl_space, dirichl_space)\n",
    "dlp_in   = laplace.double_layer(dirichl_space, dirichl_space, dirichl_space)\n",
    "slp_out  = modified_helmholtz.single_layer(neumann_space, dirichl_space, dirichl_space, k)\n",
    "dlp_out  = modified_helmholtz.double_layer(dirichl_space, dirichl_space, dirichl_space, k)\n",
    "\n",
    "# Matrix Assembly\n",
    "blocked = bempp.api.BlockedOperator(2, 2)\n",
    "blocked[0, 0] = 0.5*identity + dlp_in\n",
    "blocked[0, 1] = -slp_in\n",
    "blocked[1, 0] = 0.5*identity - dlp_out\n",
    "blocked[1, 1] = (ep_in/ep_ex)*slp_out\n",
    "op_discrete = blocked.strong_form()"
   ]
  },
  {
   "cell_type": "markdown",
   "metadata": {},
   "source": [
    "### Solver\n",
    "\n",
    "We now use `gmres` from `scipy` to solve the system. "
   ]
  },
  {
   "cell_type": "code",
   "execution_count": 35,
   "metadata": {},
   "outputs": [
    {
     "name": "stdout",
     "output_type": "stream",
     "text": [
      "The linear system was solved in 27 iterations\n"
     ]
    }
   ],
   "source": [
    "import inspect\n",
    "from scipy.sparse.linalg import gmres\n",
    "\n",
    "array_it, array_frame, it_count = np.array([]), np.array([]), 0\n",
    "def iteration_counter(x):\n",
    "        global array_it, array_frame, it_count\n",
    "        it_count += 1\n",
    "        frame = inspect.currentframe().f_back\n",
    "        array_it = np.append(array_it, it_count)\n",
    "        array_frame = np.append(array_frame, frame.f_locals[\"resid\"])\n",
    "        #print \"It: {0} Error {1:.2E}\".format(it_count, frame.f_locals[\"resid\"])        \n",
    "\n",
    "x, info = gmres(op_discrete, rhs, callback=iteration_counter, tol=1e-3, maxiter=1000, restart = 2000)\n",
    "\n",
    "print(\"The linear system was solved in {0} iterations\".format(it_count))"
   ]
  },
  {
   "cell_type": "markdown",
   "metadata": {},
   "source": [
    "The two following `GridFunction` calls store the calculated boundary potential data (separated by $\\phi$ and $\\frac{\\partial \\phi}{\\partial n}$) for visualization purposes. "
   ]
  },
  {
   "cell_type": "code",
   "execution_count": 36,
   "metadata": {},
   "outputs": [],
   "source": [
    "solution_dirichl = bempp.api.GridFunction(dirichl_space, \n",
    "                                          coefficients=x[:dirichl_space.global_dof_count])\n",
    "solution_neumann = bempp.api.GridFunction(neumann_space, \n",
    "                                          coefficients=x[dirichl_space.global_dof_count:])\n",
    "#solution_dirichl.plot()\n",
    "#solution_neumann.plot()"
   ]
  },
  {
   "cell_type": "markdown",
   "metadata": {},
   "source": [
    "### Energy calculaton\n",
    "\n",
    "To compute $\\phi_\\text{reac}$ at the atoms locations, we use `operators.potential` to then multiply by the charge and add to compute $\\Delta G_\\text{solv}$. The `332.064` term is just a unit conversion constant."
   ]
  },
  {
   "cell_type": "code",
   "execution_count": 37,
   "metadata": {},
   "outputs": [
    {
     "name": "stdout",
     "output_type": "stream",
     "text": [
      "Total reaction force:    25.4443   -5.9870   10.4773 [kcal/molA]\n",
      "Total dielectric boundary force:   -39.8641    8.9863  -16.2475 [kcal/molA]\n",
      "Total ionic boundary force:   -0.00686  -0.00091  -0.00836 [kcal/molA]\n",
      "Total solvation energy: -101.68 [kcal/Mol]\n"
     ]
    }
   ],
   "source": [
    "slp_q = bempp.api.operators.potential.laplace.single_layer(neumann_space, x_q.transpose())\n",
    "dlp_q = bempp.api.operators.potential.laplace.double_layer(dirichl_space, x_q.transpose())\n",
    "phi_q = slp_q*solution_neumann - dlp_q*solution_dirichl\n",
    "\n",
    "cal2J = 4.184\n",
    "qe = 1.60217646e-19\n",
    "Na = 6.0221415e+23\n",
    "ep_vacc = 8.854187818e-12\n",
    "C0 = qe**2*Na*1e-3*1e10/(cal2J*ep_vacc)\n",
    "\n",
    "# Reaction force calculation (qE)\n",
    "h=0.001\n",
    "grad_phi = solvent_potential_first_derivate(x_q, h, neumann_space, dirichl_space, solution_neumann, solution_dirichl)\n",
    "F_reac = np.zeros([len(q),3])\n",
    "for j in range(len(q)):\n",
    "    F_reac[j,:] = -q[j]*grad_phi[j,:]\n",
    "F_reactotal = np.zeros([3])\n",
    "for j in range(len(q)):\n",
    "    F_reactotal[:] = F_reactotal[:] + F_reac[j,:]\n",
    "F_reactotal[:] = 4.184*4*np.pi*332.064*F_reactotal[:]\n",
    "# Dielectric boundary force calculation (DBF)\n",
    "\n",
    "grad_phi = solution_neumann.coefficients\n",
    "f_dbf = np.zeros([grid.number_of_elements,3])\n",
    "for j in range(grid.number_of_elements):\n",
    "    f_dbf[j,:] = (grad_phi[j]**2)*grid.normals[j]*grid.volumes[j]\n",
    "f_dbftotal = np.zeros([3])\n",
    "for j in range(grid.number_of_elements):\n",
    "    f_dbftotal[:] = f_dbftotal[:] + f_dbf[j,:]\n",
    "f_dbftotal[:] = -4.184*0.5*332.064*(ep_ex-ep_in)*f_dbftotal[:]\n",
    "#grid.number_of_elements\n",
    "#grid.normals[1]\n",
    "f_dbftotal\n",
    "# Ionic boundary force calculation (IBF)\n",
    "phi = solution_dirichl.coefficients\n",
    "auxi = k*phi**2\n",
    "f_ibf = np.zeros([grid.number_of_elements,3])\n",
    "for j in range(grid.number_of_elements):\n",
    "    f_ibf[j] = auxi[j]*grid.normals[j]*grid.volumes[j]\n",
    "f_ibftotal = np.zeros([3])\n",
    "for j in range(grid.number_of_elements):\n",
    "    f_ibftotal[:] = f_ibftotal[:] + f_ibf[j,:]\n",
    "f_ibftotal[:] = -4.184*0.5*332.064*(ep_ex-ep_in)*f_ibftotal[:]\n",
    "\n",
    "\n",
    "    \n",
    "print(\"Total reaction force: {:10.4f}{:10.4f}{:10.4f} [kcal/molA]\".format(F_reactotal[0],F_reactotal[1],F_reactotal[2]))\n",
    "print(\"Total dielectric boundary force: {:10.4f}{:10.4f}{:10.4f} [kcal/molA]\".format(f_dbftotal[0],f_dbftotal[1],f_dbftotal[2]))\n",
    "print(\"Total ionic boundary force: {:10.5f}{:10.5f}{:10.5f} [kcal/molA]\".format(f_ibftotal[0],f_ibftotal[1],f_ibftotal[2]))\n",
    "# total dissolution energy applying constant to get units [kcal/mol]\n",
    "total_energy = 4.184*2*np.pi*332.064*np.sum(q*phi_q).real\n",
    "print(\"Total solvation energy: {:7.2f} [kcal/Mol]\".format(total_energy))"
   ]
  },
  {
   "cell_type": "code",
   "execution_count": null,
   "metadata": {},
   "outputs": [],
   "source": []
  },
  {
   "cell_type": "markdown",
   "metadata": {},
   "source": [
    "## References\n",
    "[1] Yoon, B. J., & Lenhoff, A. M. (1990). A boundary element method for molecular electrostatics with electrolyte effects. *Journal of Computational Chemistry*, 11(9), 1080-1086.\n",
    "\n",
    "[2] Dolinsky, T. J., Nielsen, J. E., McCammon, J. A., & Baker, N. A. (2004). PDB2PQR: an automated pipeline for the setup of Poisson–Boltzmann electrostatics calculations. *Nucleic acids research*, 32(suppl_2), W665-W667.\n",
    "\n",
    "[3] Sanner, M. F., Olson, A. J., & Spehner, J. C. (1995, September). Fast and robust computation of molecular surfaces. In *Proceedings of the eleventh annual symposium on Computational geometry* (pp. 406-407). ACM.\n",
    "\n",
    "[4] Sergio Decherchi and Walter Rocchia. A general and Robust Ray-Casting-Based\n",
    "Algorithm for Triangulating Surfaces at the Nanoscale. PLOS ONE, 8(4):1–15, 2013.\n",
    "\n",
    "[5] Timo Betcke and Matthew W. Scroggs. Bempp-cl: A fast python based just-in-time\n",
    "compiling boundary element library. Journal of Open Source Software, 6(59):2879,\n",
    "2021.\n",
    "\n",
    "[6] S. Decherchi, A. Spitaleri, J. Stone and W. Rocchia, \"NanoShaper-VMD interface: computing and visualizing surfaces, pockets and channels in\n",
    "molecular systems\". Bioinformatics, in press, 2018."
   ]
  }
 ],
 "metadata": {
  "interpreter": {
   "hash": "cb718e3dd62ac12afca115e8e5202131ec135a3cf4c9b81e410e7edf4a7cd0bd"
  },
  "kernelspec": {
   "display_name": "Python 3.8.10 64-bit ('bempp': conda)",
   "name": "python3"
  },
  "language_info": {
   "codemirror_mode": {
    "name": "ipython",
    "version": 3
   },
   "file_extension": ".py",
   "mimetype": "text/x-python",
   "name": "python",
   "nbconvert_exporter": "python",
   "pygments_lexer": "ipython3",
   "version": "3.8.10"
  }
 },
 "nbformat": 4,
 "nbformat_minor": 2
}
