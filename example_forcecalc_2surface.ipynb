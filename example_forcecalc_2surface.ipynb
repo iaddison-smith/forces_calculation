{
 "cells": [
  {
   "cell_type": "markdown",
   "metadata": {},
   "source": [
    "## Example\n",
    "\n",
    "### Definicion de funciones necesarias para generacion malla"
   ]
  },
  {
   "cell_type": "code",
   "execution_count": 60,
   "metadata": {},
   "outputs": [],
   "source": [
    "%config IPCompleter.greedy=True\n",
    "import numpy as np\n",
    "import os\n",
    "import bempp.api\n",
    "from tools.mesh_converter import *\n",
    "from tools.force_calculation import *\n",
    "from tools.apbs_tools import *\n",
    "import griddata"
   ]
  },
  {
   "cell_type": "markdown",
   "metadata": {},
   "source": [
    "### Seleccion de proteina a simular, contenidas en carpetas pqr_files\n",
    "\n",
    "Se extraen las cargas, la ubicacion de estas y se realiza el mallado a traves de Nanoshaper"
   ]
  },
  {
   "cell_type": "code",
   "execution_count": 61,
   "metadata": {},
   "outputs": [],
   "source": [
    "grid, q, x_q = pqrtomesh(directory='C:\\\\Users\\\\ian\\Desktop\\\\forces_calculation',protein='arg',forcefield='amber',density=1.6,probe_radius=1.4,build_mesh='no')\n",
    "grid2, q2, x_q2 = pqrtomesh(directory='C:\\\\Users\\\\ian\\Desktop\\\\forces_calculation',protein='sphere',forcefield='symmetric_t30',density=12.0,probe_radius=1.4,build_mesh='yes')\n",
    "bempp.api.PLOT_BACKEND = \"gmsh\" #gmsh o paraview\n",
    "grid.plot()\n",
    "grid2.plot()"
   ]
  },
  {
   "cell_type": "markdown",
   "metadata": {},
   "source": [
    "### Right-hand side\n",
    "\n",
    "With that, we can compute the potential due to the charges on the boundary, required for the right-hand side"
   ]
  },
  {
   "cell_type": "code",
   "execution_count": 62,
   "metadata": {},
   "outputs": [
    {
     "name": "stderr",
     "output_type": "stream",
     "text": [
      "C:\\Users\\ian\\Anaconda3\\envs\\bempp\\lib\\site-packages\\scipy\\sparse\\linalg\\dsolve\\linsolve.py:318: SparseEfficiencyWarning: splu requires CSC matrix format\n",
      "  warn('splu requires CSC matrix format', SparseEfficiencyWarning)\n"
     ]
    }
   ],
   "source": [
    "# Function to calculate the potential by charges at boundary\n",
    "ep_in = 2.\n",
    "ep_ex = 80.\n",
    "k = 0.125\n",
    "\n",
    "dirichl_space = bempp.api.function_space(grid, \"DP\", 0)\n",
    "neumann_space = bempp.api.function_space(grid, \"DP\", 0)\n",
    "dirichl_space2 = bempp.api.function_space(grid2, \"DP\", 0)\n",
    "neumann_space2 = bempp.api.function_space(grid2, \"DP\", 0)\n",
    "\n",
    "@bempp.api.real_callable\n",
    "def charges_fun(x, n, domain_index, result):\n",
    "    global q, x_q, ep_in\n",
    "    suma = 0\n",
    "    for k in range(len(q)):\n",
    "        suma = suma + q[k]/(np.linalg.norm(x-x_q[k]))\n",
    "    result[:] = suma/(4*np.pi*ep_in)\n",
    "    \n",
    "@bempp.api.real_callable\n",
    "def charges_fun2(x, n, domain_index, result):\n",
    "    global q2, x_q2, ep_in\n",
    "    suma = 0\n",
    "    for k in range(len(q2)):\n",
    "        suma = suma + q2[k]/(np.linalg.norm(x-x_q2[k]))\n",
    "    result[:] = suma/(4*np.pi*ep_in)\n",
    "    \n",
    "charged_grid_fun = bempp.api.GridFunction(dirichl_space, fun=charges_fun)\n",
    "charged_grid_fun2 = bempp.api.GridFunction(dirichl_space2, fun=charges_fun2)\n",
    "\n",
    "rhs = np.concatenate([charged_grid_fun.coefficients, np.zeros(neumann_space.global_dof_count),  \n",
    "                      np.zeros(neumann_space2.global_dof_count),charged_grid_fun2.coefficients])\n"
   ]
  },
  {
   "cell_type": "markdown",
   "metadata": {},
   "source": [
    "### Operators and Matrix\n",
    "\n",
    "Next, we generate the $2\\times 2$ block matrix with the single and double layer operators of the Laplace and Yukawa kernels "
   ]
  },
  {
   "cell_type": "code",
   "execution_count": 63,
   "metadata": {},
   "outputs": [],
   "source": [
    "# Define Operators\n",
    "from bempp.api.operators.boundary import sparse, laplace, modified_helmholtz\n",
    "#Poisson equation operators\n",
    "identity1 = sparse.identity(dirichl_space, dirichl_space, dirichl_space)\n",
    "slp_in11   = laplace.single_layer(neumann_space, dirichl_space, dirichl_space)\n",
    "dlp_in11   = laplace.double_layer(dirichl_space, dirichl_space, dirichl_space)\n",
    "slp_in22   = laplace.single_layer(neumann_space2, dirichl_space2, dirichl_space2)\n",
    "dlp_in22   = laplace.double_layer(dirichl_space2, dirichl_space2, dirichl_space2)\n",
    "\n",
    "#Poisson-Boltzmann equations operators\n",
    "identity2 = sparse.identity(dirichl_space2, dirichl_space2, dirichl_space2)\n",
    "slp_out11  = modified_helmholtz.single_layer(neumann_space, dirichl_space, dirichl_space, k)\n",
    "slp_out12  = modified_helmholtz.single_layer(neumann_space, dirichl_space2, dirichl_space2, k)\n",
    "slp_out21  = modified_helmholtz.single_layer(neumann_space2, dirichl_space, dirichl_space, k)\n",
    "slp_out22  = modified_helmholtz.single_layer(neumann_space2, dirichl_space2, dirichl_space2, k)\n",
    "dlp_out11  = modified_helmholtz.double_layer(dirichl_space, dirichl_space, dirichl_space, k)\n",
    "dlp_out12  = modified_helmholtz.double_layer(dirichl_space, dirichl_space2, dirichl_space2, k)\n",
    "dlp_out21  = modified_helmholtz.double_layer(dirichl_space2, dirichl_space, dirichl_space, k)\n",
    "dlp_out22  = modified_helmholtz.double_layer(dirichl_space2, dirichl_space2, dirichl_space2, k)\n",
    "\n",
    "# Matrix Assembly\n",
    "blocked = bempp.api.BlockedOperator(4, 4)\n",
    "blocked[0, 0] = 0.5*identity1 + dlp_in11\n",
    "blocked[0, 1] = -slp_in11\n",
    "blocked[1, 0] = 0.5*identity1 - dlp_out11\n",
    "blocked[1, 1] = (ep_in/ep_ex)*slp_out11\n",
    "blocked[1, 2] = -dlp_out21\n",
    "blocked[1, 3] = (ep_in/ep_ex)*slp_out21\n",
    "blocked[2, 0] = - dlp_out12\n",
    "blocked[2, 1] = (ep_in/ep_ex)*slp_out12\n",
    "blocked[2, 2] = 0.5*identity2-dlp_out22\n",
    "blocked[2, 3] = (ep_in/ep_ex)*slp_out22\n",
    "blocked[3, 2] = 0.5*identity2 + dlp_in22\n",
    "blocked[3, 3] = -slp_in22\n",
    "\n",
    "\n",
    "op_discrete = blocked.strong_form()"
   ]
  },
  {
   "cell_type": "markdown",
   "metadata": {},
   "source": [
    "### Solver\n",
    "\n",
    "We now use `gmres` from `scipy` to solve the system. "
   ]
  },
  {
   "cell_type": "code",
   "execution_count": 64,
   "metadata": {},
   "outputs": [
    {
     "name": "stdout",
     "output_type": "stream",
     "text": [
      "The linear system was solved in 55 iterations\n"
     ]
    }
   ],
   "source": [
    "import inspect\n",
    "from scipy.sparse.linalg import gmres\n",
    "\n",
    "array_it, array_frame, it_count = np.array([]), np.array([]), 0\n",
    "def iteration_counter(x):\n",
    "        global array_it, array_frame, it_count\n",
    "        it_count += 1\n",
    "        frame = inspect.currentframe().f_back\n",
    "        array_it = np.append(array_it, it_count)\n",
    "        array_frame = np.append(array_frame, frame.f_locals[\"resid\"])\n",
    "        #print \"It: {0} Error {1:.2E}\".format(it_count, frame.f_locals[\"resid\"])        \n",
    "\n",
    "x, info = gmres(op_discrete, rhs, callback=iteration_counter, tol=1e-3, maxiter=1000, restart = 2000)\n",
    "\n",
    "print(\"The linear system was solved in {0} iterations\".format(it_count))"
   ]
  },
  {
   "cell_type": "markdown",
   "metadata": {},
   "source": [
    "The two following `GridFunction` calls store the calculated boundary potential data (separated by $\\phi$ and $\\frac{\\partial \\phi}{\\partial n}$) for visualization purposes. "
   ]
  },
  {
   "cell_type": "code",
   "execution_count": 65,
   "metadata": {},
   "outputs": [],
   "source": [
    "a = dirichl_space.global_dof_count\n",
    "a1 = neumann_space.global_dof_count\n",
    "b = dirichl_space2.global_dof_count\n",
    "b1 = neumann_space2.global_dof_count\n",
    "\n",
    "solution_dirichl = bempp.api.GridFunction(dirichl_space, \n",
    "                                          coefficients=x[:a])\n",
    "solution_neumann = bempp.api.GridFunction(neumann_space, \n",
    "                                          coefficients=x[a:(a+a1)])\n",
    "                                          \n",
    "solution_dirichl2 = bempp.api.GridFunction(dirichl_space2, \n",
    "                                          coefficients=x[(a+a1):(a+a1+b)])\n",
    "solution_neumann2 = bempp.api.GridFunction(neumann_space2, \n",
    "                                          coefficients=x[(a+a1+b):])"
   ]
  },
  {
   "cell_type": "code",
   "execution_count": 66,
   "metadata": {},
   "outputs": [
    {
     "name": "stdout",
     "output_type": "stream",
     "text": [
      "Total solvation force:    -0.7939   -0.4658    0.5576 [kJ/molA]\n",
      "Total reaction force:    48.0233  -11.4962   21.4754 [kJ/molA]\n",
      "Total dielectric boundary force:   -48.7366   11.0451  -20.8874 [kJ/molA]\n",
      "Total ionic boundary force: -8.065e-02 -1.477e-02 -3.039e-02 [kJ/molA]\n",
      "Total solvation energy: -206.39 [kcal/Mol]\n"
     ]
    }
   ],
   "source": [
    "slp_q = bempp.api.operators.potential.laplace.single_layer(neumann_space, x_q.transpose())\n",
    "dlp_q = bempp.api.operators.potential.laplace.double_layer(dirichl_space, x_q.transpose())\n",
    "phi_q = slp_q*solution_neumann - dlp_q*solution_dirichl\n",
    "\n",
    "h=0.001\n",
    "F_qf,_ = fixedcharge_forces(x_q,q,h,neumann_space,dirichl_space,solution_neumann,solution_dirichl)\n",
    "f_db,f_ib = boundary_forces(solution_neumann,solution_dirichl,grid,k,ep_ex,ep_in)\n",
    "  \n",
    "print(\"Total solvation force: {:10.4f}{:10.4f}{:10.4f} [kJ/molA]\".format(F_qf[0]+f_db[0]+f_ib[0],F_qf[1]+f_db[1]+f_ib[1],F_qf[2]+f_db[2]+f_ib[2]))\n",
    "print(\"Total reaction force: {:10.4f}{:10.4f}{:10.4f} [kJ/molA]\".format(F_qf[0],F_qf[1],F_qf[2]))\n",
    "print(\"Total dielectric boundary force: {:10.4f}{:10.4f}{:10.4f} [kJ/molA]\".format(f_db[0],f_db[1],f_db[2]))\n",
    "print(\"Total ionic boundary force: {:5.3e} {:5.3e} {:5.3e} [kJ/molA]\".format(f_ib[0],f_ib[1],f_ib[2]))\n",
    "# total dissolution energy applying constant to get units [kcal/mol]\n",
    "total_energy = 4.184*2*np.pi*332.064*np.sum(q*phi_q).real\n",
    "print(\"Total solvation energy: {:7.2f} [kcal/Mol]\".format(total_energy))"
   ]
  },
  {
   "cell_type": "code",
   "execution_count": 67,
   "metadata": {},
   "outputs": [
    {
     "name": "stdout",
     "output_type": "stream",
     "text": [
      "Total solvation force:     0.6299   -0.0086   -0.3594 [kJ/molA]\n",
      "Total reaction force:     0.8092    0.1810   -0.5872 [kJ/molA]\n",
      "Total dielectric boundary force:    -0.1843   -0.1895    0.2319 [kJ/molA]\n",
      "Total ionic boundary force: 5.039e-03 -4.812e-05 -4.092e-03 [kJ/molA]\n",
      "Total solvation energy: -1142.65 [kcal/Mol]\n"
     ]
    }
   ],
   "source": [
    "slp_q2 = bempp.api.operators.potential.laplace.single_layer(neumann_space2, x_q2.transpose())\n",
    "dlp_q2 = bempp.api.operators.potential.laplace.double_layer(dirichl_space2, x_q2.transpose())\n",
    "phi_q2 = slp_q2*solution_neumann2 - dlp_q2*solution_dirichl2\n",
    "\n",
    "h=0.001\n",
    "F_qf2, FFe = fixedcharge_forces(x_q2,q2,h,neumann_space2,dirichl_space2,solution_neumann2,solution_dirichl2)\n",
    "f_db2,f_ib2 = boundary_forces(solution_neumann2,solution_dirichl2,grid2,k,ep_ex,ep_in)\n",
    "\n",
    "print(\"Total solvation force: {:10.4f}{:10.4f}{:10.4f} [kJ/molA]\".format(F_qf2[0]+f_db2[0]+f_ib2[0],F_qf2[1]+f_db2[1]+f_ib2[1],F_qf2[2]+f_db2[2]+f_ib2[2]))\n",
    "print(\"Total reaction force: {:10.4f}{:10.4f}{:10.4f} [kJ/molA]\".format(F_qf2[0],F_qf2[1],F_qf2[2]))\n",
    "print(\"Total dielectric boundary force: {:10.4f}{:10.4f}{:10.4f} [kJ/molA]\".format(f_db2[0],f_db2[1],f_db2[2]))\n",
    "print(\"Total ionic boundary force: {:5.3e} {:5.3e} {:5.3e} [kJ/molA]\".format(f_ib2[0],f_ib2[1],f_ib2[2]))\n",
    "# total dissolution energy applying constant to get units [kcal/mol]\n",
    "total_energy = 4.184*2*np.pi*332.064*np.sum(q2*phi_q2).real\n",
    "print(\"Total solvation energy: {:7.2f} [kcal/Mol]\".format(total_energy))"
   ]
  },
  {
   "cell_type": "markdown",
   "metadata": {},
   "source": [
    "## References\n",
    "[1] Yoon, B. J., & Lenhoff, A. M. (1990). A boundary element method for molecular electrostatics with electrolyte effects. *Journal of Computational Chemistry*, 11(9), 1080-1086.\n",
    "\n",
    "[2] Dolinsky, T. J., Nielsen, J. E., McCammon, J. A., & Baker, N. A. (2004). PDB2PQR: an automated pipeline for the setup of Poisson–Boltzmann electrostatics calculations. *Nucleic acids research*, 32(suppl_2), W665-W667.\n",
    "\n",
    "[3] Sanner, M. F., Olson, A. J., & Spehner, J. C. (1995, September). Fast and robust computation of molecular surfaces. In *Proceedings of the eleventh annual symposium on Computational geometry* (pp. 406-407). ACM.\n",
    "\n",
    "[4] Sergio Decherchi and Walter Rocchia. A general and Robust Ray-Casting-Based\n",
    "Algorithm for Triangulating Surfaces at the Nanoscale. PLOS ONE, 8(4):1–15, 2013.\n",
    "\n",
    "[5] Timo Betcke and Matthew W. Scroggs. Bempp-cl: A fast python based just-in-time\n",
    "compiling boundary element library. Journal of Open Source Software, 6(59):2879,\n",
    "2021.\n",
    "\n",
    "[6] S. Decherchi, A. Spitaleri, J. Stone and W. Rocchia, \"NanoShaper-VMD interface: computing and visualizing surfaces, pockets and channels in\n",
    "molecular systems\". Bioinformatics, in press, 2018."
   ]
  },
  {
   "cell_type": "code",
   "execution_count": 68,
   "metadata": {},
   "outputs": [],
   "source": [
    "grid.plot()\n",
    "grid2.plot()"
   ]
  },
  {
   "cell_type": "code",
   "execution_count": 69,
   "metadata": {},
   "outputs": [
    {
     "data": {
      "text/plain": [
       "array([[-1.06172185e+02,  1.06049891e-01, -2.62394906e-01],\n",
       "       [ 1.06981419e+02,  7.49389191e-02, -3.24841577e-01],\n",
       "       [ 0.00000000e+00,  0.00000000e+00,  0.00000000e+00],\n",
       "       [ 0.00000000e+00,  0.00000000e+00,  0.00000000e+00]])"
      ]
     },
     "execution_count": 69,
     "metadata": {},
     "output_type": "execute_result"
    }
   ],
   "source": [
    "FFe"
   ]
  },
  {
   "cell_type": "code",
   "execution_count": null,
   "metadata": {},
   "outputs": [],
   "source": []
  }
 ],
 "metadata": {
  "interpreter": {
   "hash": "cb718e3dd62ac12afca115e8e5202131ec135a3cf4c9b81e410e7edf4a7cd0bd"
  },
  "kernelspec": {
   "display_name": "Python 3.8.12 64-bit ('bempp': conda)",
   "name": "python3"
  },
  "language_info": {
   "codemirror_mode": {
    "name": "ipython",
    "version": 3
   },
   "file_extension": ".py",
   "mimetype": "text/x-python",
   "name": "python",
   "nbconvert_exporter": "python",
   "pygments_lexer": "ipython3",
   "version": "3.8.12"
  }
 },
 "nbformat": 4,
 "nbformat_minor": 2
}
