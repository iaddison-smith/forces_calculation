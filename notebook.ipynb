{
 "cells": [
  {
   "cell_type": "code",
   "execution_count": 1,
   "metadata": {},
   "outputs": [],
   "source": [
    "from tools.PB_solver import *\n",
    "import bempp.api\n",
    "bempp.api.PLOT_BACKEND = \"gmsh\"\n",
    "from tools.mesh_converter import *\n",
    "\n"
   ]
  },
  {
   "cell_type": "code",
   "execution_count": 3,
   "metadata": {},
   "outputs": [],
   "source": [
    "grid,_,_ = pqrtomesh('C:\\\\Users\\\\ianad\\Desktop\\\\forces_calculation','sphere','point',25.0,1.4,'no')"
   ]
  },
  {
   "cell_type": "code",
   "execution_count": 5,
   "metadata": {},
   "outputs": [],
   "source": [
    "grid.plot()"
   ]
  },
  {
   "cell_type": "code",
   "execution_count": 4,
   "metadata": {},
   "outputs": [
    {
     "name": "stderr",
     "output_type": "stream",
     "text": [
      "C:\\Users\\ianad\\anaconda3\\envs\\bempp\\lib\\site-packages\\scipy\\sparse\\linalg\\dsolve\\linsolve.py:318: SparseEfficiencyWarning: splu requires CSC matrix format\n",
      "  warn('splu requires CSC matrix format', SparseEfficiencyWarning)\n",
      "C:\\Users\\ianad\\anaconda3\\envs\\bempp\\lib\\site-packages\\scipy\\sparse\\linalg\\dsolve\\linsolve.py:318: SparseEfficiencyWarning: splu requires CSC matrix format\n",
      "  warn('splu requires CSC matrix format', SparseEfficiencyWarning)\n",
      "C:\\Users\\ianad\\anaconda3\\envs\\bempp\\lib\\site-packages\\scipy\\sparse\\linalg\\dsolve\\linsolve.py:318: SparseEfficiencyWarning: splu requires CSC matrix format\n",
      "  warn('splu requires CSC matrix format', SparseEfficiencyWarning)\n",
      "C:\\Users\\ianad\\anaconda3\\envs\\bempp\\lib\\site-packages\\scipy\\sparse\\linalg\\dsolve\\linsolve.py:318: SparseEfficiencyWarning: splu requires CSC matrix format\n",
      "  warn('splu requires CSC matrix format', SparseEfficiencyWarning)\n",
      "C:\\Users\\ianad\\anaconda3\\envs\\bempp\\lib\\site-packages\\scipy\\sparse\\linalg\\dsolve\\linsolve.py:318: SparseEfficiencyWarning: splu requires CSC matrix format\n",
      "  warn('splu requires CSC matrix format', SparseEfficiencyWarning)\n",
      "C:\\Users\\ianad\\anaconda3\\envs\\bempp\\lib\\site-packages\\scipy\\sparse\\linalg\\dsolve\\linsolve.py:318: SparseEfficiencyWarning: splu requires CSC matrix format\n",
      "  warn('splu requires CSC matrix format', SparseEfficiencyWarning)\n",
      "C:\\Users\\ianad\\anaconda3\\envs\\bempp\\lib\\site-packages\\scipy\\sparse\\linalg\\dsolve\\linsolve.py:318: SparseEfficiencyWarning: splu requires CSC matrix format\n",
      "  warn('splu requires CSC matrix format', SparseEfficiencyWarning)\n",
      "C:\\Users\\ianad\\anaconda3\\envs\\bempp\\lib\\site-packages\\scipy\\sparse\\linalg\\dsolve\\linsolve.py:318: SparseEfficiencyWarning: splu requires CSC matrix format\n",
      "  warn('splu requires CSC matrix format', SparseEfficiencyWarning)\n",
      "C:\\Users\\ianad\\anaconda3\\envs\\bempp\\lib\\site-packages\\scipy\\sparse\\linalg\\dsolve\\linsolve.py:318: SparseEfficiencyWarning: splu requires CSC matrix format\n",
      "  warn('splu requires CSC matrix format', SparseEfficiencyWarning)\n"
     ]
    }
   ],
   "source": [
    "#Simulaciones sphere point to sphere point\n",
    "gs1=15.0\n",
    "gs2=15.0\n",
    "\n",
    "simu1 = Two_proteins('C:\\\\Users\\\\ianad\\Desktop\\\\forces_calculation','sphere','point',gs1,'sphere','point_t40',gs2,external_grid='n',ep_in=2.)\n",
    "simu1.save_info('C:\\\\Users\\\\ianad\\Desktop\\\\forces_calculation','sphere','point',gs1,'sphere','point_t40',gs2,'40')\n",
    "simu1 = Two_proteins('C:\\\\Users\\\\ianad\\Desktop\\\\forces_calculation','sphere','point',gs1,'sphere','point_t20',gs2,external_grid='n',ep_in=2.)\n",
    "simu1.save_info('C:\\\\Users\\\\ianad\\Desktop\\\\forces_calculation','sphere','point',gs1,'sphere','point_t20',gs2,'20')\n",
    "simu1 = Two_proteins('C:\\\\Users\\\\ianad\\Desktop\\\\forces_calculation','sphere','point',gs1,'sphere','point_t10',gs2,external_grid='n',ep_in=2.)\n",
    "simu1.save_info('C:\\\\Users\\\\ianad\\Desktop\\\\forces_calculation','sphere','point',gs1,'sphere','point_t10',gs2,'10')\n",
    "simu1 = Two_proteins('C:\\\\Users\\\\ianad\\Desktop\\\\forces_calculation','sphere','point',gs1,'sphere','point_t9',gs2,external_grid='n',ep_in=2.)\n",
    "simu1.save_info('C:\\\\Users\\\\ianad\\Desktop\\\\forces_calculation','sphere','point',gs1,'sphere','point_t9',gs2,'9')\n",
    "simu1 = Two_proteins('C:\\\\Users\\\\ianad\\Desktop\\\\forces_calculation','sphere','point',gs1,'sphere','point_t8',gs2,external_grid='n',ep_in=2.)\n",
    "simu1.save_info('C:\\\\Users\\\\ianad\\Desktop\\\\forces_calculation','sphere','point',gs1,'sphere','point_t8',gs2,'8')\n",
    "simu1 = Two_proteins('C:\\\\Users\\\\ianad\\Desktop\\\\forces_calculation','sphere','point',gs1,'sphere','point_t7',gs2,external_grid='n',ep_in=2.)\n",
    "simu1.save_info('C:\\\\Users\\\\ianad\\Desktop\\\\forces_calculation','sphere','point',gs1,'sphere','point_t7',gs2,'7')\n",
    "simu1 = Two_proteins('C:\\\\Users\\\\ianad\\Desktop\\\\forces_calculation','sphere','point',gs1,'sphere','point_t6',gs2,external_grid='n',ep_in=2.)\n",
    "simu1.save_info('C:\\\\Users\\\\ianad\\Desktop\\\\forces_calculation','sphere','point',gs1,'sphere','point_t6',gs2,'6')\n",
    "simu1 = Two_proteins('C:\\\\Users\\\\ianad\\Desktop\\\\forces_calculation','sphere','point',gs1,'sphere','point_t5',gs2,external_grid='n',ep_in=2.)\n",
    "simu1.save_info('C:\\\\Users\\\\ianad\\Desktop\\\\forces_calculation','sphere','point',gs1,'sphere','point_t5',gs2,'5')\n",
    "simu1 = Two_proteins('C:\\\\Users\\\\ianad\\Desktop\\\\forces_calculation','sphere','point',gs1,'sphere','point_t4',gs2,external_grid='n',ep_in=2.)\n",
    "simu1.save_info('C:\\\\Users\\\\ianad\\Desktop\\\\forces_calculation','sphere','point',gs1,'sphere','point_t4',gs2,'4')"
   ]
  },
  {
   "cell_type": "code",
   "execution_count": 12,
   "metadata": {},
   "outputs": [
    {
     "name": "stderr",
     "output_type": "stream",
     "text": [
      "C:\\Users\\ianad\\anaconda3\\envs\\bempp\\lib\\site-packages\\scipy\\sparse\\linalg\\dsolve\\linsolve.py:318: SparseEfficiencyWarning: splu requires CSC matrix format\n",
      "  warn('splu requires CSC matrix format', SparseEfficiencyWarning)\n",
      "C:\\Users\\ianad\\anaconda3\\envs\\bempp\\lib\\site-packages\\scipy\\sparse\\linalg\\dsolve\\linsolve.py:318: SparseEfficiencyWarning: splu requires CSC matrix format\n",
      "  warn('splu requires CSC matrix format', SparseEfficiencyWarning)\n",
      "C:\\Users\\ianad\\anaconda3\\envs\\bempp\\lib\\site-packages\\scipy\\sparse\\linalg\\dsolve\\linsolve.py:318: SparseEfficiencyWarning: splu requires CSC matrix format\n",
      "  warn('splu requires CSC matrix format', SparseEfficiencyWarning)\n",
      "C:\\Users\\ianad\\anaconda3\\envs\\bempp\\lib\\site-packages\\scipy\\sparse\\linalg\\dsolve\\linsolve.py:318: SparseEfficiencyWarning: splu requires CSC matrix format\n",
      "  warn('splu requires CSC matrix format', SparseEfficiencyWarning)\n",
      "C:\\Users\\ianad\\anaconda3\\envs\\bempp\\lib\\site-packages\\scipy\\sparse\\linalg\\dsolve\\linsolve.py:318: SparseEfficiencyWarning: splu requires CSC matrix format\n",
      "  warn('splu requires CSC matrix format', SparseEfficiencyWarning)\n",
      "C:\\Users\\ianad\\anaconda3\\envs\\bempp\\lib\\site-packages\\scipy\\sparse\\linalg\\dsolve\\linsolve.py:318: SparseEfficiencyWarning: splu requires CSC matrix format\n",
      "  warn('splu requires CSC matrix format', SparseEfficiencyWarning)\n",
      "C:\\Users\\ianad\\anaconda3\\envs\\bempp\\lib\\site-packages\\scipy\\sparse\\linalg\\dsolve\\linsolve.py:318: SparseEfficiencyWarning: splu requires CSC matrix format\n",
      "  warn('splu requires CSC matrix format', SparseEfficiencyWarning)\n",
      "C:\\Users\\ianad\\anaconda3\\envs\\bempp\\lib\\site-packages\\scipy\\sparse\\linalg\\dsolve\\linsolve.py:318: SparseEfficiencyWarning: splu requires CSC matrix format\n",
      "  warn('splu requires CSC matrix format', SparseEfficiencyWarning)\n",
      "C:\\Users\\ianad\\anaconda3\\envs\\bempp\\lib\\site-packages\\scipy\\sparse\\linalg\\dsolve\\linsolve.py:318: SparseEfficiencyWarning: splu requires CSC matrix format\n",
      "  warn('splu requires CSC matrix format', SparseEfficiencyWarning)\n"
     ]
    }
   ],
   "source": [
    "#Simulaciones arg and sphere nosymmetric\n",
    "\n",
    "simu1 = Two_proteins('C:\\\\Users\\\\ianad\\Desktop\\\\forces_calculation','arg','amber',1.6,'sphere','nosymmetric_t40',12.0,external_grid='y',ep_in=2.)\n",
    "simu1.save_info('C:\\\\Users\\\\ianad\\Desktop\\\\forces_calculation','arg','amber',1.6,'sphere','nosymmetric_t40','12.0','40')\n",
    "simu1 = Two_proteins('C:\\\\Users\\\\ianad\\Desktop\\\\forces_calculation','arg','amber',1.6,'sphere','nosymmetric_t20',12.0,external_grid='y',ep_in=2.)\n",
    "simu1.save_info('C:\\\\Users\\\\ianad\\Desktop\\\\forces_calculation','arg','amber',1.6,'sphere','nosymmetric_t20','12.0','20')\n",
    "simu1 = Two_proteins('C:\\\\Users\\\\ianad\\Desktop\\\\forces_calculation','arg','amber',1.6,'sphere','nosymmetric_t10',12.0,external_grid='y',ep_in=2.)\n",
    "simu1.save_info('C:\\\\Users\\\\ianad\\Desktop\\\\forces_calculation','arg','amber',1.6,'sphere','nosymmetric_t10','12.0','10')\n",
    "simu1 = Two_proteins('C:\\\\Users\\\\ianad\\Desktop\\\\forces_calculation','arg','amber',1.6,'sphere','nosymmetric_t9',12.0,external_grid='y',ep_in=2.)\n",
    "simu1.save_info('C:\\\\Users\\\\ianad\\Desktop\\\\forces_calculation','arg','amber',1.6,'sphere','nosymmetric_t9','12.0','9')\n",
    "simu1 = Two_proteins('C:\\\\Users\\\\ianad\\Desktop\\\\forces_calculation','arg','amber',1.6,'sphere','nosymmetric_t8',12.0,external_grid='y',ep_in=2.)\n",
    "simu1.save_info('C:\\\\Users\\\\ianad\\Desktop\\\\forces_calculation','arg','amber',1.6,'sphere','nosymmetric_t8','12.0','8')\n",
    "simu1 = Two_proteins('C:\\\\Users\\\\ianad\\Desktop\\\\forces_calculation','arg','amber',1.6,'sphere','nosymmetric_t7',12.0,external_grid='y',ep_in=2.)\n",
    "simu1.save_info('C:\\\\Users\\\\ianad\\Desktop\\\\forces_calculation','arg','amber',1.6,'sphere','nosymmetric_t7','12.0','7')\n",
    "simu1 = Two_proteins('C:\\\\Users\\\\ianad\\Desktop\\\\forces_calculation','arg','amber',1.6,'sphere','nosymmetric_t6',12.0,external_grid='y',ep_in=2.)\n",
    "simu1.save_info('C:\\\\Users\\\\ianad\\Desktop\\\\forces_calculation','arg','amber',1.6,'sphere','nosymmetric_t6','12.0','6')\n",
    "simu1 = Two_proteins('C:\\\\Users\\\\ianad\\Desktop\\\\forces_calculation','arg','amber',1.6,'sphere','nosymmetric_t5',12.0,external_grid='y',ep_in=2.)\n",
    "simu1.save_info('C:\\\\Users\\\\ianad\\Desktop\\\\forces_calculation','arg','amber',1.6,'sphere','nosymmetric_t5','12.0','5')\n",
    "simu1 = Two_proteins('C:\\\\Users\\\\ianad\\Desktop\\\\forces_calculation','arg','amber',1.6,'sphere','nosymmetric_t4',12.0,external_grid='y',ep_in=2.)\n",
    "simu1.save_info('C:\\\\Users\\\\ianad\\Desktop\\\\forces_calculation','arg','amber',1.6,'sphere','nosymmetric_t4','12.0','4')"
   ]
  },
  {
   "cell_type": "code",
   "execution_count": 29,
   "metadata": {},
   "outputs": [
    {
     "name": "stderr",
     "output_type": "stream",
     "text": [
      "C:\\Users\\ianad\\anaconda3\\envs\\bempp\\lib\\site-packages\\scipy\\sparse\\linalg\\dsolve\\linsolve.py:318: SparseEfficiencyWarning: splu requires CSC matrix format\n",
      "  warn('splu requires CSC matrix format', SparseEfficiencyWarning)\n",
      "C:\\Users\\ianad\\anaconda3\\envs\\bempp\\lib\\site-packages\\scipy\\sparse\\linalg\\dsolve\\linsolve.py:318: SparseEfficiencyWarning: splu requires CSC matrix format\n",
      "  warn('splu requires CSC matrix format', SparseEfficiencyWarning)\n",
      "C:\\Users\\ianad\\anaconda3\\envs\\bempp\\lib\\site-packages\\scipy\\sparse\\linalg\\dsolve\\linsolve.py:318: SparseEfficiencyWarning: splu requires CSC matrix format\n",
      "  warn('splu requires CSC matrix format', SparseEfficiencyWarning)\n",
      "C:\\Users\\ianad\\anaconda3\\envs\\bempp\\lib\\site-packages\\scipy\\sparse\\linalg\\dsolve\\linsolve.py:318: SparseEfficiencyWarning: splu requires CSC matrix format\n",
      "  warn('splu requires CSC matrix format', SparseEfficiencyWarning)\n",
      "C:\\Users\\ianad\\anaconda3\\envs\\bempp\\lib\\site-packages\\scipy\\sparse\\linalg\\dsolve\\linsolve.py:318: SparseEfficiencyWarning: splu requires CSC matrix format\n",
      "  warn('splu requires CSC matrix format', SparseEfficiencyWarning)\n",
      "C:\\Users\\ianad\\anaconda3\\envs\\bempp\\lib\\site-packages\\scipy\\sparse\\linalg\\dsolve\\linsolve.py:318: SparseEfficiencyWarning: splu requires CSC matrix format\n",
      "  warn('splu requires CSC matrix format', SparseEfficiencyWarning)\n",
      "C:\\Users\\ianad\\anaconda3\\envs\\bempp\\lib\\site-packages\\scipy\\sparse\\linalg\\dsolve\\linsolve.py:318: SparseEfficiencyWarning: splu requires CSC matrix format\n",
      "  warn('splu requires CSC matrix format', SparseEfficiencyWarning)\n",
      "C:\\Users\\ianad\\anaconda3\\envs\\bempp\\lib\\site-packages\\scipy\\sparse\\linalg\\dsolve\\linsolve.py:318: SparseEfficiencyWarning: splu requires CSC matrix format\n",
      "  warn('splu requires CSC matrix format', SparseEfficiencyWarning)\n",
      "C:\\Users\\ianad\\anaconda3\\envs\\bempp\\lib\\site-packages\\scipy\\sparse\\linalg\\dsolve\\linsolve.py:318: SparseEfficiencyWarning: splu requires CSC matrix format\n",
      "  warn('splu requires CSC matrix format', SparseEfficiencyWarning)\n"
     ]
    }
   ],
   "source": [
    "#Simulaciones arg and sphere point\n",
    "\n",
    "simu1 = Two_proteins('C:\\\\Users\\\\ianad\\Desktop\\\\forces_calculation','arg','amber',1.6,'sphere','point_t40',15.0,external_grid='y',ep_in=2.)\n",
    "simu1.save_info('C:\\\\Users\\\\ianad\\Desktop\\\\forces_calculation','arg','amber',1.6,'sphere','point_t40',15.0,'40')\n",
    "simu1 = Two_proteins('C:\\\\Users\\\\ianad\\Desktop\\\\forces_calculation','arg','amber',1.6,'sphere','point_t20',15.0,external_grid='y',ep_in=2.)\n",
    "simu1.save_info('C:\\\\Users\\\\ianad\\Desktop\\\\forces_calculation','arg','amber',1.6,'sphere','point_t20',15.0,'20')\n",
    "simu1 = Two_proteins('C:\\\\Users\\\\ianad\\Desktop\\\\forces_calculation','arg','amber',1.6,'sphere','point_t10',15.0,external_grid='y',ep_in=2.)\n",
    "simu1.save_info('C:\\\\Users\\\\ianad\\Desktop\\\\forces_calculation','arg','amber',1.6,'sphere','point_t10',15.0,'10')\n",
    "simu1 = Two_proteins('C:\\\\Users\\\\ianad\\Desktop\\\\forces_calculation','arg','amber',1.6,'sphere','point_t9',15.0,external_grid='y',ep_in=2.)\n",
    "simu1.save_info('C:\\\\Users\\\\ianad\\Desktop\\\\forces_calculation','arg','amber',1.6,'sphere','point_t9','15.0','9')\n",
    "simu1 = Two_proteins('C:\\\\Users\\\\ianad\\Desktop\\\\forces_calculation','arg','amber',1.6,'sphere','point_t8',15.0,external_grid='y',ep_in=2.)\n",
    "simu1.save_info('C:\\\\Users\\\\ianad\\Desktop\\\\forces_calculation','arg','amber',1.6,'sphere','point_t8','15.0','8')\n",
    "simu1 = Two_proteins('C:\\\\Users\\\\ianad\\Desktop\\\\forces_calculation','arg','amber',1.6,'sphere','point_t7',15.0,external_grid='y',ep_in=2.)\n",
    "simu1.save_info('C:\\\\Users\\\\ianad\\Desktop\\\\forces_calculation','arg','amber',1.6,'sphere','point_t7','15.0','7')\n",
    "simu1 = Two_proteins('C:\\\\Users\\\\ianad\\Desktop\\\\forces_calculation','arg','amber',1.6,'sphere','point_t6',15.0,external_grid='y',ep_in=2.)\n",
    "simu1.save_info('C:\\\\Users\\\\ianad\\Desktop\\\\forces_calculation','arg','amber',1.6,'sphere','point_t6','15.0','6')\n",
    "simu1 = Two_proteins('C:\\\\Users\\\\ianad\\Desktop\\\\forces_calculation','arg','amber',1.6,'sphere','point_t5',15.0,external_grid='y',ep_in=2.)\n",
    "simu1.save_info('C:\\\\Users\\\\ianad\\Desktop\\\\forces_calculation','arg','amber',1.6,'sphere','point_t5','15.0','5')\n",
    "simu1 = Two_proteins('C:\\\\Users\\\\ianad\\Desktop\\\\forces_calculation','arg','amber',1.6,'sphere','point_t4',15.0,external_grid='y',ep_in=2.)\n",
    "simu1.save_info('C:\\\\Users\\\\ianad\\Desktop\\\\forces_calculation','arg','amber',1.6,'sphere','point_t4','15.0','4')"
   ]
  },
  {
   "cell_type": "code",
   "execution_count": 30,
   "metadata": {},
   "outputs": [
    {
     "name": "stderr",
     "output_type": "stream",
     "text": [
      "C:\\Users\\ianad\\anaconda3\\envs\\bempp\\lib\\site-packages\\scipy\\sparse\\linalg\\dsolve\\linsolve.py:318: SparseEfficiencyWarning: splu requires CSC matrix format\n",
      "  warn('splu requires CSC matrix format', SparseEfficiencyWarning)\n",
      "C:\\Users\\ianad\\anaconda3\\envs\\bempp\\lib\\site-packages\\scipy\\sparse\\linalg\\dsolve\\linsolve.py:318: SparseEfficiencyWarning: splu requires CSC matrix format\n",
      "  warn('splu requires CSC matrix format', SparseEfficiencyWarning)\n",
      "C:\\Users\\ianad\\anaconda3\\envs\\bempp\\lib\\site-packages\\scipy\\sparse\\linalg\\dsolve\\linsolve.py:318: SparseEfficiencyWarning: splu requires CSC matrix format\n",
      "  warn('splu requires CSC matrix format', SparseEfficiencyWarning)\n",
      "C:\\Users\\ianad\\anaconda3\\envs\\bempp\\lib\\site-packages\\scipy\\sparse\\linalg\\dsolve\\linsolve.py:318: SparseEfficiencyWarning: splu requires CSC matrix format\n",
      "  warn('splu requires CSC matrix format', SparseEfficiencyWarning)\n",
      "C:\\Users\\ianad\\anaconda3\\envs\\bempp\\lib\\site-packages\\scipy\\sparse\\linalg\\dsolve\\linsolve.py:318: SparseEfficiencyWarning: splu requires CSC matrix format\n",
      "  warn('splu requires CSC matrix format', SparseEfficiencyWarning)\n"
     ]
    }
   ],
   "source": [
    "sim = Molecule('C:\\\\Users\\\\ianad\\Desktop\\\\forces_calculation','arg','amber',0.2,external_grid='y')\n",
    "sim.save_info('C:\\\\Users\\\\ianad\\Desktop\\\\forces_calculation','arg','amber',0.2)\n",
    "sim = Molecule('C:\\\\Users\\\\ianad\\Desktop\\\\forces_calculation','arg','amber',0.4,external_grid='y')\n",
    "sim.save_info('C:\\\\Users\\\\ianad\\Desktop\\\\forces_calculation','arg','amber',0.4)\n",
    "sim = Molecule('C:\\\\Users\\\\ianad\\Desktop\\\\forces_calculation','arg','amber',0.8,external_grid='y')\n",
    "sim.save_info('C:\\\\Users\\\\ianad\\Desktop\\\\forces_calculation','arg','amber',0.8)\n",
    "sim = Molecule('C:\\\\Users\\\\ianad\\Desktop\\\\forces_calculation','arg','amber',1.2,external_grid='y')\n",
    "sim.save_info('C:\\\\Users\\\\ianad\\Desktop\\\\forces_calculation','arg','amber',1.2)\n",
    "sim = Molecule('C:\\\\Users\\\\ianad\\Desktop\\\\forces_calculation','arg','amber',1.6,external_grid='y')\n",
    "sim.save_info('C:\\\\Users\\\\ianad\\Desktop\\\\forces_calculation','arg','amber',1.6)"
   ]
  },
  {
   "cell_type": "code",
   "execution_count": 32,
   "metadata": {},
   "outputs": [
    {
     "name": "stderr",
     "output_type": "stream",
     "text": [
      "C:\\Users\\ianad\\anaconda3\\envs\\bempp\\lib\\site-packages\\scipy\\sparse\\linalg\\dsolve\\linsolve.py:318: SparseEfficiencyWarning: splu requires CSC matrix format\n",
      "  warn('splu requires CSC matrix format', SparseEfficiencyWarning)\n",
      "C:\\Users\\ianad\\anaconda3\\envs\\bempp\\lib\\site-packages\\scipy\\sparse\\linalg\\dsolve\\linsolve.py:318: SparseEfficiencyWarning: splu requires CSC matrix format\n",
      "  warn('splu requires CSC matrix format', SparseEfficiencyWarning)\n",
      "C:\\Users\\ianad\\anaconda3\\envs\\bempp\\lib\\site-packages\\scipy\\sparse\\linalg\\dsolve\\linsolve.py:318: SparseEfficiencyWarning: splu requires CSC matrix format\n",
      "  warn('splu requires CSC matrix format', SparseEfficiencyWarning)\n",
      "C:\\Users\\ianad\\anaconda3\\envs\\bempp\\lib\\site-packages\\scipy\\sparse\\linalg\\dsolve\\linsolve.py:318: SparseEfficiencyWarning: splu requires CSC matrix format\n",
      "  warn('splu requires CSC matrix format', SparseEfficiencyWarning)\n",
      "C:\\Users\\ianad\\anaconda3\\envs\\bempp\\lib\\site-packages\\scipy\\sparse\\linalg\\dsolve\\linsolve.py:318: SparseEfficiencyWarning: splu requires CSC matrix format\n",
      "  warn('splu requires CSC matrix format', SparseEfficiencyWarning)\n"
     ]
    }
   ],
   "source": [
    "prot = 'sphere'\n",
    "ff = 'nosymmetric'\n",
    "\n",
    "sim = Molecule('C:\\\\Users\\\\ianad\\Desktop\\\\forces_calculation',prot,ff,6.0,external_grid='y')\n",
    "sim.save_info('C:\\\\Users\\\\ianad\\Desktop\\\\forces_calculation',prot,ff,6.0)\n",
    "sim = Molecule('C:\\\\Users\\\\ianad\\Desktop\\\\forces_calculation',prot,ff,8.0,external_grid='y')\n",
    "sim.save_info('C:\\\\Users\\\\ianad\\Desktop\\\\forces_calculation',prot,ff,8.0)\n",
    "sim = Molecule('C:\\\\Users\\\\ianad\\Desktop\\\\forces_calculation',prot,ff,10.0,external_grid='y')\n",
    "sim.save_info('C:\\\\Users\\\\ianad\\Desktop\\\\forces_calculation',prot,ff,10.0)\n",
    "sim = Molecule('C:\\\\Users\\\\ianad\\Desktop\\\\forces_calculation',prot,ff,12.0,external_grid='y')\n",
    "sim.save_info('C:\\\\Users\\\\ianad\\Desktop\\\\forces_calculation',prot,ff,12.0)\n",
    "sim = Molecule('C:\\\\Users\\\\ianad\\Desktop\\\\forces_calculation',prot,ff,15.0,external_grid='y')\n",
    "sim.save_info('C:\\\\Users\\\\ianad\\Desktop\\\\forces_calculation',prot,ff,15.0)"
   ]
  },
  {
   "cell_type": "code",
   "execution_count": 33,
   "metadata": {},
   "outputs": [
    {
     "name": "stderr",
     "output_type": "stream",
     "text": [
      "C:\\Users\\ianad\\anaconda3\\envs\\bempp\\lib\\site-packages\\scipy\\sparse\\linalg\\dsolve\\linsolve.py:318: SparseEfficiencyWarning: splu requires CSC matrix format\n",
      "  warn('splu requires CSC matrix format', SparseEfficiencyWarning)\n",
      "C:\\Users\\ianad\\anaconda3\\envs\\bempp\\lib\\site-packages\\scipy\\sparse\\linalg\\dsolve\\linsolve.py:318: SparseEfficiencyWarning: splu requires CSC matrix format\n",
      "  warn('splu requires CSC matrix format', SparseEfficiencyWarning)\n",
      "C:\\Users\\ianad\\anaconda3\\envs\\bempp\\lib\\site-packages\\scipy\\sparse\\linalg\\dsolve\\linsolve.py:318: SparseEfficiencyWarning: splu requires CSC matrix format\n",
      "  warn('splu requires CSC matrix format', SparseEfficiencyWarning)\n",
      "C:\\Users\\ianad\\anaconda3\\envs\\bempp\\lib\\site-packages\\scipy\\sparse\\linalg\\dsolve\\linsolve.py:318: SparseEfficiencyWarning: splu requires CSC matrix format\n",
      "  warn('splu requires CSC matrix format', SparseEfficiencyWarning)\n",
      "C:\\Users\\ianad\\anaconda3\\envs\\bempp\\lib\\site-packages\\scipy\\sparse\\linalg\\dsolve\\linsolve.py:318: SparseEfficiencyWarning: splu requires CSC matrix format\n",
      "  warn('splu requires CSC matrix format', SparseEfficiencyWarning)\n",
      "C:\\Users\\ianad\\anaconda3\\envs\\bempp\\lib\\site-packages\\scipy\\sparse\\linalg\\dsolve\\linsolve.py:318: SparseEfficiencyWarning: splu requires CSC matrix format\n",
      "  warn('splu requires CSC matrix format', SparseEfficiencyWarning)\n",
      "C:\\Users\\ianad\\anaconda3\\envs\\bempp\\lib\\site-packages\\scipy\\sparse\\linalg\\dsolve\\linsolve.py:318: SparseEfficiencyWarning: splu requires CSC matrix format\n",
      "  warn('splu requires CSC matrix format', SparseEfficiencyWarning)\n",
      "C:\\Users\\ianad\\anaconda3\\envs\\bempp\\lib\\site-packages\\scipy\\sparse\\linalg\\dsolve\\linsolve.py:318: SparseEfficiencyWarning: splu requires CSC matrix format\n",
      "  warn('splu requires CSC matrix format', SparseEfficiencyWarning)\n"
     ]
    },
    {
     "ename": "MemoryError",
     "evalue": "Unable to allocate 9.65 GiB for an array with shape (10363428105,) and data type uint8",
     "output_type": "error",
     "traceback": [
      "\u001b[1;31m---------------------------------------------------------------------------\u001b[0m",
      "\u001b[1;31mMemoryError\u001b[0m                               Traceback (most recent call last)",
      "\u001b[1;32m~\\AppData\\Local\\Temp/ipykernel_6436/3235494345.py\u001b[0m in \u001b[0;36m<module>\u001b[1;34m\u001b[0m\n\u001b[0;32m     13\u001b[0m \u001b[0msim\u001b[0m \u001b[1;33m=\u001b[0m \u001b[0mMolecule\u001b[0m\u001b[1;33m(\u001b[0m\u001b[1;34m'C:\\\\Users\\\\ianad\\Desktop\\\\forces_calculation'\u001b[0m\u001b[1;33m,\u001b[0m\u001b[1;34m'1lyz'\u001b[0m\u001b[1;33m,\u001b[0m\u001b[1;34m'amber'\u001b[0m\u001b[1;33m,\u001b[0m\u001b[1;36m1.2\u001b[0m\u001b[1;33m,\u001b[0m\u001b[0mexternal_grid\u001b[0m\u001b[1;33m=\u001b[0m\u001b[1;34m'y'\u001b[0m\u001b[1;33m)\u001b[0m\u001b[1;33m\u001b[0m\u001b[1;33m\u001b[0m\u001b[0m\n\u001b[0;32m     14\u001b[0m \u001b[0msim\u001b[0m\u001b[1;33m.\u001b[0m\u001b[0msave_info\u001b[0m\u001b[1;33m(\u001b[0m\u001b[1;34m'C:\\\\Users\\\\ianad\\Desktop\\\\forces_calculation'\u001b[0m\u001b[1;33m,\u001b[0m\u001b[1;34m'1lyz'\u001b[0m\u001b[1;33m,\u001b[0m\u001b[1;34m'amber'\u001b[0m\u001b[1;33m,\u001b[0m\u001b[1;36m1.2\u001b[0m\u001b[1;33m)\u001b[0m\u001b[1;33m\u001b[0m\u001b[1;33m\u001b[0m\u001b[0m\n\u001b[1;32m---> 15\u001b[1;33m \u001b[0msim\u001b[0m \u001b[1;33m=\u001b[0m \u001b[0mMolecule\u001b[0m\u001b[1;33m(\u001b[0m\u001b[1;34m'C:\\\\Users\\\\ianad\\Desktop\\\\forces_calculation'\u001b[0m\u001b[1;33m,\u001b[0m\u001b[1;34m'1lyz'\u001b[0m\u001b[1;33m,\u001b[0m\u001b[1;34m'amber'\u001b[0m\u001b[1;33m,\u001b[0m\u001b[1;36m1.4\u001b[0m\u001b[1;33m,\u001b[0m\u001b[0mexternal_grid\u001b[0m\u001b[1;33m=\u001b[0m\u001b[1;34m'n'\u001b[0m\u001b[1;33m)\u001b[0m\u001b[1;33m\u001b[0m\u001b[1;33m\u001b[0m\u001b[0m\n\u001b[0m\u001b[0;32m     16\u001b[0m \u001b[0msim\u001b[0m\u001b[1;33m.\u001b[0m\u001b[0msave_info\u001b[0m\u001b[1;33m(\u001b[0m\u001b[1;34m'C:\\\\Users\\\\ianad\\Desktop\\\\forces_calculation'\u001b[0m\u001b[1;33m,\u001b[0m\u001b[1;34m'1lyz'\u001b[0m\u001b[1;33m,\u001b[0m\u001b[1;34m'amber'\u001b[0m\u001b[1;33m,\u001b[0m\u001b[1;36m1.4\u001b[0m\u001b[1;33m)\u001b[0m\u001b[1;33m\u001b[0m\u001b[1;33m\u001b[0m\u001b[0m\n\u001b[0;32m     17\u001b[0m \u001b[0msim\u001b[0m \u001b[1;33m=\u001b[0m \u001b[0mMolecule\u001b[0m\u001b[1;33m(\u001b[0m\u001b[1;34m'C:\\\\Users\\\\ianad\\Desktop\\\\forces_calculation'\u001b[0m\u001b[1;33m,\u001b[0m\u001b[1;34m'1lyz'\u001b[0m\u001b[1;33m,\u001b[0m\u001b[1;34m'amber'\u001b[0m\u001b[1;33m,\u001b[0m\u001b[1;36m1.6\u001b[0m\u001b[1;33m,\u001b[0m\u001b[0mexternal_grid\u001b[0m\u001b[1;33m=\u001b[0m\u001b[1;34m'n'\u001b[0m\u001b[1;33m)\u001b[0m\u001b[1;33m\u001b[0m\u001b[1;33m\u001b[0m\u001b[0m\n",
      "\u001b[1;32mc:\\Users\\ianad\\Desktop\\forces_calculation\\tools\\PB_solver.py\u001b[0m in \u001b[0;36m__init__\u001b[1;34m(self, dir_name, pname, ffname, gs, external_grid, ep_in, ep_ex, kappa)\u001b[0m\n\u001b[0;32m     57\u001b[0m \u001b[1;33m\u001b[0m\u001b[0m\n\u001b[0;32m     58\u001b[0m         \u001b[1;31m#Resolucion del sistema de ecuaciones con GMRES\u001b[0m\u001b[1;33m\u001b[0m\u001b[1;33m\u001b[0m\u001b[1;33m\u001b[0m\u001b[0m\n\u001b[1;32m---> 59\u001b[1;33m         \u001b[0mx\u001b[0m\u001b[1;33m,\u001b[0m \u001b[0minfo\u001b[0m \u001b[1;33m=\u001b[0m \u001b[0mgmres\u001b[0m\u001b[1;33m(\u001b[0m\u001b[0mop_discrete\u001b[0m\u001b[1;33m,\u001b[0m \u001b[0mrhs\u001b[0m\u001b[1;33m,\u001b[0m \u001b[0mtol\u001b[0m\u001b[1;33m=\u001b[0m\u001b[1;36m1e-8\u001b[0m\u001b[1;33m,\u001b[0m \u001b[0mmaxiter\u001b[0m\u001b[1;33m=\u001b[0m\u001b[1;36m10000\u001b[0m\u001b[1;33m,\u001b[0m \u001b[0mrestart\u001b[0m \u001b[1;33m=\u001b[0m \u001b[1;36m20000\u001b[0m\u001b[1;33m)\u001b[0m\u001b[1;33m\u001b[0m\u001b[1;33m\u001b[0m\u001b[0m\n\u001b[0m\u001b[0;32m     60\u001b[0m \u001b[1;33m\u001b[0m\u001b[0m\n\u001b[0;32m     61\u001b[0m         \u001b[1;31m#Guardar potencial electrico y su derivada normal\u001b[0m\u001b[1;33m\u001b[0m\u001b[1;33m\u001b[0m\u001b[1;33m\u001b[0m\u001b[0m\n",
      "\u001b[1;32m~\\anaconda3\\envs\\bempp\\lib\\site-packages\\scipy\\sparse\\linalg\\isolve\\iterative.py\u001b[0m in \u001b[0;36mgmres\u001b[1;34m(A, b, x0, tol, restart, maxiter, M, callback, restrt, atol, callback_type)\u001b[0m\n",
      "\u001b[1;32m~\\anaconda3\\envs\\bempp\\lib\\site-packages\\scipy\\_lib\\_threadsafety.py\u001b[0m in \u001b[0;36mcaller\u001b[1;34m(func, *a, **kw)\u001b[0m\n\u001b[0;32m     42\u001b[0m         \u001b[1;32mdef\u001b[0m \u001b[0mcaller\u001b[0m\u001b[1;33m(\u001b[0m\u001b[0mfunc\u001b[0m\u001b[1;33m,\u001b[0m \u001b[1;33m*\u001b[0m\u001b[0ma\u001b[0m\u001b[1;33m,\u001b[0m \u001b[1;33m**\u001b[0m\u001b[0mkw\u001b[0m\u001b[1;33m)\u001b[0m\u001b[1;33m:\u001b[0m\u001b[1;33m\u001b[0m\u001b[1;33m\u001b[0m\u001b[0m\n\u001b[0;32m     43\u001b[0m             \u001b[1;32mwith\u001b[0m \u001b[0mself\u001b[0m\u001b[1;33m:\u001b[0m\u001b[1;33m\u001b[0m\u001b[1;33m\u001b[0m\u001b[0m\n\u001b[1;32m---> 44\u001b[1;33m                 \u001b[1;32mreturn\u001b[0m \u001b[0mfunc\u001b[0m\u001b[1;33m(\u001b[0m\u001b[1;33m*\u001b[0m\u001b[0ma\u001b[0m\u001b[1;33m,\u001b[0m \u001b[1;33m**\u001b[0m\u001b[0mkw\u001b[0m\u001b[1;33m)\u001b[0m\u001b[1;33m\u001b[0m\u001b[1;33m\u001b[0m\u001b[0m\n\u001b[0m\u001b[0;32m     45\u001b[0m         \u001b[1;32mreturn\u001b[0m \u001b[0mscipy\u001b[0m\u001b[1;33m.\u001b[0m\u001b[0m_lib\u001b[0m\u001b[1;33m.\u001b[0m\u001b[0mdecorator\u001b[0m\u001b[1;33m.\u001b[0m\u001b[0mdecorate\u001b[0m\u001b[1;33m(\u001b[0m\u001b[0mfunc\u001b[0m\u001b[1;33m,\u001b[0m \u001b[0mcaller\u001b[0m\u001b[1;33m)\u001b[0m\u001b[1;33m\u001b[0m\u001b[1;33m\u001b[0m\u001b[0m\n\u001b[0;32m     46\u001b[0m \u001b[1;33m\u001b[0m\u001b[0m\n",
      "\u001b[1;32m~\\anaconda3\\envs\\bempp\\lib\\site-packages\\scipy\\sparse\\linalg\\isolve\\iterative.py\u001b[0m in \u001b[0;36mgmres\u001b[1;34m(A, b, x0, tol, restart, maxiter, M, callback, restrt, atol, callback_type)\u001b[0m\n\u001b[0;32m    585\u001b[0m     \u001b[0mndx2\u001b[0m \u001b[1;33m=\u001b[0m \u001b[1;33m-\u001b[0m\u001b[1;36m1\u001b[0m\u001b[1;33m\u001b[0m\u001b[1;33m\u001b[0m\u001b[0m\n\u001b[0;32m    586\u001b[0m     \u001b[1;31m# Use _aligned_zeros to work around a f2py bug in Numpy 1.9.1\u001b[0m\u001b[1;33m\u001b[0m\u001b[1;33m\u001b[0m\u001b[1;33m\u001b[0m\u001b[0m\n\u001b[1;32m--> 587\u001b[1;33m     \u001b[0mwork\u001b[0m \u001b[1;33m=\u001b[0m \u001b[0m_aligned_zeros\u001b[0m\u001b[1;33m(\u001b[0m\u001b[1;33m(\u001b[0m\u001b[1;36m6\u001b[0m\u001b[1;33m+\u001b[0m\u001b[0mrestrt\u001b[0m\u001b[1;33m)\u001b[0m\u001b[1;33m*\u001b[0m\u001b[0mn\u001b[0m\u001b[1;33m,\u001b[0m\u001b[0mdtype\u001b[0m\u001b[1;33m=\u001b[0m\u001b[0mx\u001b[0m\u001b[1;33m.\u001b[0m\u001b[0mdtype\u001b[0m\u001b[1;33m)\u001b[0m\u001b[1;33m\u001b[0m\u001b[1;33m\u001b[0m\u001b[0m\n\u001b[0m\u001b[0;32m    588\u001b[0m     \u001b[0mwork2\u001b[0m \u001b[1;33m=\u001b[0m \u001b[0m_aligned_zeros\u001b[0m\u001b[1;33m(\u001b[0m\u001b[1;33m(\u001b[0m\u001b[0mrestrt\u001b[0m\u001b[1;33m+\u001b[0m\u001b[1;36m1\u001b[0m\u001b[1;33m)\u001b[0m\u001b[1;33m*\u001b[0m\u001b[1;33m(\u001b[0m\u001b[1;36m2\u001b[0m\u001b[1;33m*\u001b[0m\u001b[0mrestrt\u001b[0m\u001b[1;33m+\u001b[0m\u001b[1;36m2\u001b[0m\u001b[1;33m)\u001b[0m\u001b[1;33m,\u001b[0m\u001b[0mdtype\u001b[0m\u001b[1;33m=\u001b[0m\u001b[0mx\u001b[0m\u001b[1;33m.\u001b[0m\u001b[0mdtype\u001b[0m\u001b[1;33m)\u001b[0m\u001b[1;33m\u001b[0m\u001b[1;33m\u001b[0m\u001b[0m\n\u001b[0;32m    589\u001b[0m     \u001b[0mijob\u001b[0m \u001b[1;33m=\u001b[0m \u001b[1;36m1\u001b[0m\u001b[1;33m\u001b[0m\u001b[1;33m\u001b[0m\u001b[0m\n",
      "\u001b[1;32m~\\anaconda3\\envs\\bempp\\lib\\site-packages\\scipy\\_lib\\_util.py\u001b[0m in \u001b[0;36m_aligned_zeros\u001b[1;34m(shape, dtype, order, align)\u001b[0m\n\u001b[0;32m    129\u001b[0m         \u001b[0mshape\u001b[0m \u001b[1;33m=\u001b[0m \u001b[1;33m(\u001b[0m\u001b[0mshape\u001b[0m\u001b[1;33m,\u001b[0m\u001b[1;33m)\u001b[0m\u001b[1;33m\u001b[0m\u001b[1;33m\u001b[0m\u001b[0m\n\u001b[0;32m    130\u001b[0m     \u001b[0msize\u001b[0m \u001b[1;33m=\u001b[0m \u001b[0mfunctools\u001b[0m\u001b[1;33m.\u001b[0m\u001b[0mreduce\u001b[0m\u001b[1;33m(\u001b[0m\u001b[0moperator\u001b[0m\u001b[1;33m.\u001b[0m\u001b[0mmul\u001b[0m\u001b[1;33m,\u001b[0m \u001b[0mshape\u001b[0m\u001b[1;33m)\u001b[0m \u001b[1;33m*\u001b[0m \u001b[0mdtype\u001b[0m\u001b[1;33m.\u001b[0m\u001b[0mitemsize\u001b[0m\u001b[1;33m\u001b[0m\u001b[1;33m\u001b[0m\u001b[0m\n\u001b[1;32m--> 131\u001b[1;33m     \u001b[0mbuf\u001b[0m \u001b[1;33m=\u001b[0m \u001b[0mnp\u001b[0m\u001b[1;33m.\u001b[0m\u001b[0mempty\u001b[0m\u001b[1;33m(\u001b[0m\u001b[0msize\u001b[0m \u001b[1;33m+\u001b[0m \u001b[0malign\u001b[0m \u001b[1;33m+\u001b[0m \u001b[1;36m1\u001b[0m\u001b[1;33m,\u001b[0m \u001b[0mnp\u001b[0m\u001b[1;33m.\u001b[0m\u001b[0muint8\u001b[0m\u001b[1;33m)\u001b[0m\u001b[1;33m\u001b[0m\u001b[1;33m\u001b[0m\u001b[0m\n\u001b[0m\u001b[0;32m    132\u001b[0m     \u001b[0moffset\u001b[0m \u001b[1;33m=\u001b[0m \u001b[0mbuf\u001b[0m\u001b[1;33m.\u001b[0m\u001b[0m__array_interface__\u001b[0m\u001b[1;33m[\u001b[0m\u001b[1;34m'data'\u001b[0m\u001b[1;33m]\u001b[0m\u001b[1;33m[\u001b[0m\u001b[1;36m0\u001b[0m\u001b[1;33m]\u001b[0m \u001b[1;33m%\u001b[0m \u001b[0malign\u001b[0m\u001b[1;33m\u001b[0m\u001b[1;33m\u001b[0m\u001b[0m\n\u001b[0;32m    133\u001b[0m     \u001b[1;32mif\u001b[0m \u001b[0moffset\u001b[0m \u001b[1;33m!=\u001b[0m \u001b[1;36m0\u001b[0m\u001b[1;33m:\u001b[0m\u001b[1;33m\u001b[0m\u001b[1;33m\u001b[0m\u001b[0m\n",
      "\u001b[1;31mMemoryError\u001b[0m: Unable to allocate 9.65 GiB for an array with shape (10363428105,) and data type uint8"
     ]
    }
   ],
   "source": [
    "sim = Molecule('C:\\\\Users\\\\ianad\\Desktop\\\\forces_calculation','1lyz','amber',0.4,external_grid='y')\n",
    "sim.save_info('C:\\\\Users\\\\ianad\\Desktop\\\\forces_calculation','1lyz','amber',0.4)\n",
    "sim = Molecule('C:\\\\Users\\\\ianad\\Desktop\\\\forces_calculation','1lyz','amber',0.4,external_grid='y')\n",
    "sim.save_info('C:\\\\Users\\\\ianad\\Desktop\\\\forces_calculation','1lyz','amber',0.4)\n",
    "sim = Molecule('C:\\\\Users\\\\ianad\\Desktop\\\\forces_calculation','1lyz','amber',0.4,external_grid='y')\n",
    "sim.save_info('C:\\\\Users\\\\ianad\\Desktop\\\\forces_calculation','1lyz','amber',0.4)\n",
    "sim = Molecule('C:\\\\Users\\\\ianad\\Desktop\\\\forces_calculation','1lyz','amber',0.6,external_grid='y')\n",
    "sim.save_info('C:\\\\Users\\\\ianad\\Desktop\\\\forces_calculation','1lyz','amber',0.6)\n",
    "sim = Molecule('C:\\\\Users\\\\ianad\\Desktop\\\\forces_calculation','1lyz','amber',0.8,external_grid='y')\n",
    "sim.save_info('C:\\\\Users\\\\ianad\\Desktop\\\\forces_calculation','1lyz','amber',0.8)\n",
    "sim = Molecule('C:\\\\Users\\\\ianad\\Desktop\\\\forces_calculation','1lyz','amber',1.0,external_grid='y')\n",
    "sim.save_info('C:\\\\Users\\\\ianad\\Desktop\\\\forces_calculation','1lyz','amber',1.0)\n",
    "sim = Molecule('C:\\\\Users\\\\ianad\\Desktop\\\\forces_calculation','1lyz','amber',1.2,external_grid='y')\n",
    "sim.save_info('C:\\\\Users\\\\ianad\\Desktop\\\\forces_calculation','1lyz','amber',1.2)"
   ]
  },
  {
   "cell_type": "code",
   "execution_count": 2,
   "metadata": {},
   "outputs": [
    {
     "name": "stderr",
     "output_type": "stream",
     "text": [
      "C:\\Users\\ianad\\anaconda3\\envs\\bempp\\lib\\site-packages\\scipy\\sparse\\linalg\\dsolve\\linsolve.py:318: SparseEfficiencyWarning: splu requires CSC matrix format\n",
      "  warn('splu requires CSC matrix format', SparseEfficiencyWarning)\n",
      "C:\\Users\\ianad\\anaconda3\\envs\\bempp\\lib\\site-packages\\scipy\\sparse\\linalg\\dsolve\\linsolve.py:318: SparseEfficiencyWarning: splu requires CSC matrix format\n",
      "  warn('splu requires CSC matrix format', SparseEfficiencyWarning)\n",
      "C:\\Users\\ianad\\anaconda3\\envs\\bempp\\lib\\site-packages\\scipy\\sparse\\linalg\\dsolve\\linsolve.py:318: SparseEfficiencyWarning: splu requires CSC matrix format\n",
      "  warn('splu requires CSC matrix format', SparseEfficiencyWarning)\n",
      "C:\\Users\\ianad\\anaconda3\\envs\\bempp\\lib\\site-packages\\scipy\\sparse\\linalg\\dsolve\\linsolve.py:318: SparseEfficiencyWarning: splu requires CSC matrix format\n",
      "  warn('splu requires CSC matrix format', SparseEfficiencyWarning)\n",
      "C:\\Users\\ianad\\anaconda3\\envs\\bempp\\lib\\site-packages\\scipy\\sparse\\linalg\\dsolve\\linsolve.py:318: SparseEfficiencyWarning: splu requires CSC matrix format\n",
      "  warn('splu requires CSC matrix format', SparseEfficiencyWarning)\n",
      "C:\\Users\\ianad\\anaconda3\\envs\\bempp\\lib\\site-packages\\scipy\\sparse\\linalg\\dsolve\\linsolve.py:318: SparseEfficiencyWarning: splu requires CSC matrix format\n",
      "  warn('splu requires CSC matrix format', SparseEfficiencyWarning)\n"
     ]
    }
   ],
   "source": [
    "prot = 'sphere'\n",
    "ff = 'point'\n",
    "\n",
    "sim = Molecule('C:\\\\Users\\\\ianad\\Desktop\\\\forces_calculation',prot,ff,10.0,external_grid='n')\n",
    "sim.save_info('C:\\\\Users\\\\ianad\\Desktop\\\\forces_calculation',prot,ff,10.0)\n",
    "sim = Molecule('C:\\\\Users\\\\ianad\\Desktop\\\\forces_calculation',prot,ff,12.0,external_grid='n')\n",
    "sim.save_info('C:\\\\Users\\\\ianad\\Desktop\\\\forces_calculation',prot,ff,12.0)\n",
    "sim = Molecule('C:\\\\Users\\\\ianad\\Desktop\\\\forces_calculation',prot,ff,15.0,external_grid='n')\n",
    "sim.save_info('C:\\\\Users\\\\ianad\\Desktop\\\\forces_calculation',prot,ff,15.0)\n",
    "sim = Molecule('C:\\\\Users\\\\ianad\\Desktop\\\\forces_calculation',prot,ff,18.0,external_grid='n')\n",
    "sim.save_info('C:\\\\Users\\\\ianad\\Desktop\\\\forces_calculation',prot,ff,18.0)\n",
    "sim = Molecule('C:\\\\Users\\\\ianad\\Desktop\\\\forces_calculation',prot,ff,20.0,external_grid='n')\n",
    "sim.save_info('C:\\\\Users\\\\ianad\\Desktop\\\\forces_calculation',prot,ff,20.0)\n",
    "sim = Molecule('C:\\\\Users\\\\ianad\\Desktop\\\\forces_calculation',prot,ff,25.0,external_grid='n')\n",
    "sim.save_info('C:\\\\Users\\\\ianad\\Desktop\\\\forces_calculation',prot,ff,25.0)"
   ]
  },
  {
   "cell_type": "code",
   "execution_count": 2,
   "metadata": {},
   "outputs": [],
   "source": [
    "from tools.apbs_tools import *\n",
    "import griddata\n",
    "from tools.mesh_converter import *\n",
    "_, q, x_q = pqrtomesh(directory='C:\\\\Users\\\\ianad\\Desktop\\\\forces_calculation',protein='sphere',forcefield='point',density=5.0,probe_radius=1.4,build_mesh='no')\n",
    "pqr_path = 'C:\\\\Users\\\\ianad\\\\Desktop\\\\forces_calculation\\\\pqr_files\\\\sphere\\\\sphere_point.pqr'\n",
    "apbs_dir = 'C:\\\\Users\\\\ianad\\\\Desktop\\\\forces_calculation\\\\APBS'\n",
    "protein = 'sphere_point'\n",
    "apbs_simulation(protein,pqr_path,apbs_dir,100,20,'spl4','yes','no')\n",
    "apbs_simulation(protein,pqr_path,apbs_dir,150,20,'spl4','yes','no')\n",
    "apbs_simulation(protein,pqr_path,apbs_dir,200,20,'spl4','yes','no')\n",
    "apbs_simulation(protein,pqr_path,apbs_dir,250,20,'spl4','yes','no')\n",
    "apbs_simulation(protein,pqr_path,apbs_dir,350,20,'spl4','yes','no')\n",
    "apbs_simulation(protein,pqr_path,apbs_dir,100,20,'mol','no','yes')\n",
    "apbs_simulation(protein,pqr_path,apbs_dir,150,20,'mol','no','yes')\n",
    "apbs_simulation(protein,pqr_path,apbs_dir,200,20,'mol','no','yes')\n",
    "apbs_simulation(protein,pqr_path,apbs_dir,250,20,'mol','no','yes')\n",
    "apbs_simulation(protein,pqr_path,apbs_dir,350,20,'mol','no','yes')"
   ]
  },
  {
   "cell_type": "code",
   "execution_count": 9,
   "metadata": {},
   "outputs": [],
   "source": [
    "from tools.apbs_tools import *\n",
    "import griddata\n",
    "from tools.mesh_converter import *\n",
    "file_solv = 'C:\\\\Users\\\\ian\\\\Desktop\\\\forces_calculation\\\\APBS\\\\sphere_symmetric\\\\pot_ref_sphere_symmetric_200_20_mol.dx'\n",
    "file_ref = 'C:\\\\Users\\\\ian\\\\Desktop\\\\forces_calculation\\\\APBS\\\\sphere_symmetric\\\\pot_sol_sphere_symmetric_200_20_mol.dx'\n",
    "_, q, x_q = pqrtomesh(directory='C:\\\\Users\\\\ian\\Desktop\\\\forces_calculation',protein='sphere',forcefield='symmetric',density=3.0,probe_radius=1.4,build_mesh='no')\n",
    "pot = griddata.Grid(file_solv) - griddata.Grid(file_ref)"
   ]
  }
 ],
 "metadata": {
  "interpreter": {
   "hash": "cb718e3dd62ac12afca115e8e5202131ec135a3cf4c9b81e410e7edf4a7cd0bd"
  },
  "kernelspec": {
   "display_name": "Python 3.8.12 64-bit ('bempp': conda)",
   "name": "python3"
  },
  "language_info": {
   "codemirror_mode": {
    "name": "ipython",
    "version": 3
   },
   "file_extension": ".py",
   "mimetype": "text/x-python",
   "name": "python",
   "nbconvert_exporter": "python",
   "pygments_lexer": "ipython3",
   "version": "3.8.12"
  }
 },
 "nbformat": 4,
 "nbformat_minor": 2
}
