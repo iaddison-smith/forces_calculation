{
 "cells": [
  {
   "cell_type": "code",
   "execution_count": 3,
   "metadata": {},
   "outputs": [],
   "source": [
    "from tools.PB_solver import *\n",
    "import bempp.api\n",
    "bempp.api.PLOT_BACKEND = \"gmsh\"\n",
    "\n",
    "\n"
   ]
  },
  {
   "cell_type": "code",
   "execution_count": 4,
   "metadata": {},
   "outputs": [
    {
     "name": "stderr",
     "output_type": "stream",
     "text": [
      "C:\\Users\\ian\\Anaconda3\\envs\\bempp\\lib\\site-packages\\scipy\\sparse\\linalg\\dsolve\\linsolve.py:318: SparseEfficiencyWarning: splu requires CSC matrix format\n",
      "  warn('splu requires CSC matrix format', SparseEfficiencyWarning)\n"
     ]
    }
   ],
   "source": [
    "simu1 = Two_proteins('C:\\\\Users\\\\ian\\Desktop\\\\forces_calculation','arg','amber',0.8,'sphere','symmetric_t7',10.0,external_grid='y')\n",
    "simu1.save_info('C:\\\\Users\\\\ian\\Desktop\\\\forces_calculation','arg','amber',0.8,'sphere','symmetric_t7','10.0','7')"
   ]
  },
  {
   "cell_type": "code",
   "execution_count": 6,
   "metadata": {},
   "outputs": [
    {
     "name": "stderr",
     "output_type": "stream",
     "text": [
      "C:\\Users\\ian\\Anaconda3\\envs\\bempp\\lib\\site-packages\\scipy\\sparse\\linalg\\dsolve\\linsolve.py:318: SparseEfficiencyWarning: splu requires CSC matrix format\n",
      "  warn('splu requires CSC matrix format', SparseEfficiencyWarning)\n",
      "C:\\Users\\ian\\Anaconda3\\envs\\bempp\\lib\\site-packages\\scipy\\sparse\\linalg\\dsolve\\linsolve.py:318: SparseEfficiencyWarning: splu requires CSC matrix format\n",
      "  warn('splu requires CSC matrix format', SparseEfficiencyWarning)\n",
      "C:\\Users\\ian\\Anaconda3\\envs\\bempp\\lib\\site-packages\\scipy\\sparse\\linalg\\dsolve\\linsolve.py:318: SparseEfficiencyWarning: splu requires CSC matrix format\n",
      "  warn('splu requires CSC matrix format', SparseEfficiencyWarning)\n",
      "C:\\Users\\ian\\Anaconda3\\envs\\bempp\\lib\\site-packages\\scipy\\sparse\\linalg\\dsolve\\linsolve.py:318: SparseEfficiencyWarning: splu requires CSC matrix format\n",
      "  warn('splu requires CSC matrix format', SparseEfficiencyWarning)\n",
      "C:\\Users\\ian\\Anaconda3\\envs\\bempp\\lib\\site-packages\\scipy\\sparse\\linalg\\dsolve\\linsolve.py:318: SparseEfficiencyWarning: splu requires CSC matrix format\n",
      "  warn('splu requires CSC matrix format', SparseEfficiencyWarning)\n"
     ]
    }
   ],
   "source": [
    "sphere_symm_d20 = Molecule('C:\\\\Users\\\\ian\\Desktop\\\\forces_calculation','sphere','symmetric',12.0,external_grid='n')\n",
    "sphere_symm_d20.save_info('C:\\\\Users\\\\ian\\Desktop\\\\forces_calculation','sphere','symmetric',12.0)\n",
    "sphere_symm_d20 = Molecule('C:\\\\Users\\\\ian\\Desktop\\\\forces_calculation','sphere','nosymmetric',6.0,external_grid='y')\n",
    "sphere_symm_d20.save_info('C:\\\\Users\\\\ian\\Desktop\\\\forces_calculation','sphere','nosymmetric',6.0)\n",
    "sphere_symm_d20 = Molecule('C:\\\\Users\\\\ian\\Desktop\\\\forces_calculation','sphere','nosymmetric',8.0,external_grid='y')\n",
    "sphere_symm_d20.save_info('C:\\\\Users\\\\ian\\Desktop\\\\forces_calculation','sphere','nosymmetric',8.0)\n",
    "sphere_symm_d20 = Molecule('C:\\\\Users\\\\ian\\Desktop\\\\forces_calculation','sphere','nosymmetric',10.0,external_grid='y')\n",
    "sphere_symm_d20.save_info('C:\\\\Users\\\\ian\\Desktop\\\\forces_calculation','sphere','nosymmetric',10.0)\n",
    "sphere_symm_d20 = Molecule('C:\\\\Users\\\\ian\\Desktop\\\\forces_calculation','sphere','nosymmetric',12.0,external_grid='y')\n",
    "sphere_symm_d20.save_info('C:\\\\Users\\\\ian\\Desktop\\\\forces_calculation','sphere','nosymmetric',12.0)"
   ]
  },
  {
   "cell_type": "code",
   "execution_count": 7,
   "metadata": {},
   "outputs": [
    {
     "name": "stderr",
     "output_type": "stream",
     "text": [
      "C:\\Users\\ian\\Anaconda3\\envs\\bempp\\lib\\site-packages\\scipy\\sparse\\linalg\\dsolve\\linsolve.py:318: SparseEfficiencyWarning: splu requires CSC matrix format\n",
      "  warn('splu requires CSC matrix format', SparseEfficiencyWarning)\n",
      "C:\\Users\\ian\\Anaconda3\\envs\\bempp\\lib\\site-packages\\scipy\\sparse\\linalg\\dsolve\\linsolve.py:318: SparseEfficiencyWarning: splu requires CSC matrix format\n",
      "  warn('splu requires CSC matrix format', SparseEfficiencyWarning)\n",
      "C:\\Users\\ian\\Anaconda3\\envs\\bempp\\lib\\site-packages\\scipy\\sparse\\linalg\\dsolve\\linsolve.py:318: SparseEfficiencyWarning: splu requires CSC matrix format\n",
      "  warn('splu requires CSC matrix format', SparseEfficiencyWarning)\n",
      "C:\\Users\\ian\\Anaconda3\\envs\\bempp\\lib\\site-packages\\scipy\\sparse\\linalg\\dsolve\\linsolve.py:318: SparseEfficiencyWarning: splu requires CSC matrix format\n",
      "  warn('splu requires CSC matrix format', SparseEfficiencyWarning)\n"
     ]
    }
   ],
   "source": [
    "sphere_symm_d20 = Molecule('C:\\\\Users\\\\ian\\Desktop\\\\forces_calculation','arg','amber',0.2,external_grid='y')\n",
    "sphere_symm_d20.save_info('C:\\\\Users\\\\ian\\Desktop\\\\forces_calculation','arg','amber',0.2)\n",
    "sphere_symm_d20 = Molecule('C:\\\\Users\\\\ian\\Desktop\\\\forces_calculation','arg','amber',0.4,external_grid='y')\n",
    "sphere_symm_d20.save_info('C:\\\\Users\\\\ian\\Desktop\\\\forces_calculation','arg','amber',0.4)\n",
    "sphere_symm_d20 = Molecule('C:\\\\Users\\\\ian\\Desktop\\\\forces_calculation','arg','amber',0.8,external_grid='y')\n",
    "sphere_symm_d20.save_info('C:\\\\Users\\\\ian\\Desktop\\\\forces_calculation','arg','amber',0.8)\n",
    "sphere_symm_d20 = Molecule('C:\\\\Users\\\\ian\\Desktop\\\\forces_calculation','arg','amber',1.6,external_grid='y')\n",
    "sphere_symm_d20.save_info('C:\\\\Users\\\\ian\\Desktop\\\\forces_calculation','arg','amber',1.6)"
   ]
  },
  {
   "cell_type": "code",
   "execution_count": 17,
   "metadata": {},
   "outputs": [],
   "source": [
    "from tools.apbs_tools import *\n",
    "import griddata\n",
    "from tools.mesh_converter import *\n",
    "_, q, x_q = pqrtomesh(directory='C:\\\\Users\\\\ian\\Desktop\\\\forces_calculation',protein='1lyz',forcefield='amber',density=0.4,probe_radius=1.4,build_mesh='no')\n",
    "pqr_path = 'C:\\\\Users\\\\ian\\\\Desktop\\\\forces_calculation\\\\pqr_files\\\\1lyz\\\\1lyz_amber.pqr'\n",
    "apbs_dir = 'C:\\\\Users\\\\ian\\\\Desktop\\\\forces_calculation\\\\APBS'\n",
    "protein = '1lyz_amber'\n",
    "#apbs_simulation(protein,pqr_path,apbs_dir,100,70,'mol','no','yes')\n",
    "#apbs_simulation(protein,pqr_path,apbs_dir,150,70,'mol','no','yes')\n",
    "#apbs_simulation(protein,pqr_path,apbs_dir,200,70,'mol','no','yes')\n",
    "#apbs_simulation(protein,pqr_path,apbs_dir,250,70,'mol','no','yes')\n",
    "apbs_simulation(protein,pqr_path,apbs_dir,350,70,'mol','no','yes')"
   ]
  },
  {
   "cell_type": "code",
   "execution_count": 9,
   "metadata": {},
   "outputs": [],
   "source": [
    "from tools.apbs_tools import *\n",
    "import griddata\n",
    "from tools.mesh_converter import *\n",
    "file_solv = 'C:\\\\Users\\\\ian\\\\Desktop\\\\forces_calculation\\\\APBS\\\\sphere_symmetric\\\\pot_ref_sphere_symmetric_200_20_mol.dx'\n",
    "file_ref = 'C:\\\\Users\\\\ian\\\\Desktop\\\\forces_calculation\\\\APBS\\\\sphere_symmetric\\\\pot_sol_sphere_symmetric_200_20_mol.dx'\n",
    "_, q, x_q = pqrtomesh(directory='C:\\\\Users\\\\ian\\Desktop\\\\forces_calculation',protein='sphere',forcefield='symmetric',density=3.0,probe_radius=1.4,build_mesh='no')\n",
    "pot = griddata.Grid(file_solv) - griddata.Grid(file_ref)"
   ]
  }
 ],
 "metadata": {
  "interpreter": {
   "hash": "cb718e3dd62ac12afca115e8e5202131ec135a3cf4c9b81e410e7edf4a7cd0bd"
  },
  "kernelspec": {
   "display_name": "Python 3.8.12 64-bit ('bempp': conda)",
   "name": "python3"
  },
  "language_info": {
   "codemirror_mode": {
    "name": "ipython",
    "version": 3
   },
   "file_extension": ".py",
   "mimetype": "text/x-python",
   "name": "python",
   "nbconvert_exporter": "python",
   "pygments_lexer": "ipython3",
   "version": "3.8.12"
  }
 },
 "nbformat": 4,
 "nbformat_minor": 2
}
