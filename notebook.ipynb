{
 "cells": [
  {
   "cell_type": "code",
   "execution_count": 1,
   "metadata": {},
   "outputs": [],
   "source": [
    "from tools.PB_solver import *\n",
    "import bempp.api\n",
    "bempp.api.PLOT_BACKEND = \"gmsh\"\n",
    "from tools.mesh_converter import *\n",
    "\n"
   ]
  },
  {
   "cell_type": "markdown",
   "metadata": {},
   "source": [
    "### Simulaciones fuerza de enlace entre cuerpos"
   ]
  },
  {
   "cell_type": "code",
   "execution_count": 3,
   "metadata": {},
   "outputs": [
    {
     "name": "stderr",
     "output_type": "stream",
     "text": [
      "C:\\Users\\ian\\Anaconda3\\envs\\bempp\\lib\\site-packages\\scipy\\sparse\\linalg\\dsolve\\linsolve.py:318: SparseEfficiencyWarning: splu requires CSC matrix format\n",
      "  warn('splu requires CSC matrix format', SparseEfficiencyWarning)\n",
      "C:\\Users\\ian\\Anaconda3\\envs\\bempp\\lib\\site-packages\\scipy\\sparse\\linalg\\dsolve\\linsolve.py:318: SparseEfficiencyWarning: splu requires CSC matrix format\n",
      "  warn('splu requires CSC matrix format', SparseEfficiencyWarning)\n",
      "C:\\Users\\ian\\Anaconda3\\envs\\bempp\\lib\\site-packages\\scipy\\sparse\\linalg\\dsolve\\linsolve.py:318: SparseEfficiencyWarning: splu requires CSC matrix format\n",
      "  warn('splu requires CSC matrix format', SparseEfficiencyWarning)\n",
      "C:\\Users\\ian\\Anaconda3\\envs\\bempp\\lib\\site-packages\\scipy\\sparse\\linalg\\dsolve\\linsolve.py:318: SparseEfficiencyWarning: splu requires CSC matrix format\n",
      "  warn('splu requires CSC matrix format', SparseEfficiencyWarning)\n",
      "C:\\Users\\ian\\Anaconda3\\envs\\bempp\\lib\\site-packages\\scipy\\sparse\\linalg\\dsolve\\linsolve.py:318: SparseEfficiencyWarning: splu requires CSC matrix format\n",
      "  warn('splu requires CSC matrix format', SparseEfficiencyWarning)\n",
      "C:\\Users\\ian\\Anaconda3\\envs\\bempp\\lib\\site-packages\\scipy\\sparse\\linalg\\dsolve\\linsolve.py:318: SparseEfficiencyWarning: splu requires CSC matrix format\n",
      "  warn('splu requires CSC matrix format', SparseEfficiencyWarning)\n"
     ]
    }
   ],
   "source": [
    "#Simulaciones carga centrada a carga centrada\n",
    "gs1=10.0\n",
    "gs2=10.0\n",
    "dist = [[80,0,0],[40,0,0],[35,0,0],[30,0,0],[25,0,0],[20,0,0],[18,0,0],[16,0,0],[14,0,0],[12,0,0],[10,0,0],[9,0,0],[8,0,0],[7,0,0],[6,0,0],[5,0,0],[4,0,0]]\n",
    "for value in dist:\n",
    "    simu1 = Two_proteins('C:\\\\Users\\\\ian\\Desktop\\\\forces_calculation','sphere','point',gs1,'sphere','point',gs2,value,external_grid='n',ep_in=2.)\n",
    "    simu1.save_info('C:\\\\Users\\\\ian\\Desktop\\\\forces_calculation','sphere','point',gs1,'sphere','point',gs2,value)\n",
    "\n",
    "#Simulaciones carga centrada a carga centrada con carga apagada (Metodo de las cargas de prueba)\n",
    "gs1=10.0\n",
    "gs2=10.0\n",
    "dist = [[80,0,0],[40,0,0],[35,0,0],[30,0,0],[25,0,0],[20,0,0],[18,0,0],[16,0,0],[14,0,0],[12,0,0],[10,0,0],[9,0,0],[8,0,0],[7,0,0],[6,0,0],[5,0,0],[4,0,0]]\n",
    "for value in dist:\n",
    "    simu1 = Two_proteins('C:\\\\Users\\\\ian\\Desktop\\\\forces_calculation','sphere','point',gs1,'sphere','pointnocharge',gs2,value,external_grid='n',ep_in=2.)\n",
    "    simu1.save_info('C:\\\\Users\\\\ian\\Desktop\\\\forces_calculation','sphere','point',gs1,'sphere','pointnocharge',gs2,value)"
   ]
  },
  {
   "cell_type": "code",
   "execution_count": 4,
   "metadata": {},
   "outputs": [
    {
     "name": "stderr",
     "output_type": "stream",
     "text": [
      "C:\\Users\\ianad\\anaconda3\\envs\\bempp\\lib\\site-packages\\scipy\\sparse\\linalg\\dsolve\\linsolve.py:318: SparseEfficiencyWarning: splu requires CSC matrix format\n",
      "  warn('splu requires CSC matrix format', SparseEfficiencyWarning)\n",
      "C:\\Users\\ianad\\anaconda3\\envs\\bempp\\lib\\site-packages\\scipy\\sparse\\linalg\\dsolve\\linsolve.py:318: SparseEfficiencyWarning: splu requires CSC matrix format\n",
      "  warn('splu requires CSC matrix format', SparseEfficiencyWarning)\n",
      "C:\\Users\\ianad\\anaconda3\\envs\\bempp\\lib\\site-packages\\scipy\\sparse\\linalg\\dsolve\\linsolve.py:318: SparseEfficiencyWarning: splu requires CSC matrix format\n",
      "  warn('splu requires CSC matrix format', SparseEfficiencyWarning)\n",
      "C:\\Users\\ianad\\anaconda3\\envs\\bempp\\lib\\site-packages\\scipy\\sparse\\linalg\\dsolve\\linsolve.py:318: SparseEfficiencyWarning: splu requires CSC matrix format\n",
      "  warn('splu requires CSC matrix format', SparseEfficiencyWarning)\n",
      "C:\\Users\\ianad\\anaconda3\\envs\\bempp\\lib\\site-packages\\scipy\\sparse\\linalg\\dsolve\\linsolve.py:318: SparseEfficiencyWarning: splu requires CSC matrix format\n",
      "  warn('splu requires CSC matrix format', SparseEfficiencyWarning)\n",
      "C:\\Users\\ianad\\anaconda3\\envs\\bempp\\lib\\site-packages\\scipy\\sparse\\linalg\\dsolve\\linsolve.py:318: SparseEfficiencyWarning: splu requires CSC matrix format\n",
      "  warn('splu requires CSC matrix format', SparseEfficiencyWarning)\n",
      "C:\\Users\\ianad\\anaconda3\\envs\\bempp\\lib\\site-packages\\scipy\\sparse\\linalg\\dsolve\\linsolve.py:318: SparseEfficiencyWarning: splu requires CSC matrix format\n",
      "  warn('splu requires CSC matrix format', SparseEfficiencyWarning)\n",
      "C:\\Users\\ianad\\anaconda3\\envs\\bempp\\lib\\site-packages\\scipy\\sparse\\linalg\\dsolve\\linsolve.py:318: SparseEfficiencyWarning: splu requires CSC matrix format\n",
      "  warn('splu requires CSC matrix format', SparseEfficiencyWarning)\n",
      "C:\\Users\\ianad\\anaconda3\\envs\\bempp\\lib\\site-packages\\scipy\\sparse\\linalg\\dsolve\\linsolve.py:318: SparseEfficiencyWarning: splu requires CSC matrix format\n",
      "  warn('splu requires CSC matrix format', SparseEfficiencyWarning)\n",
      "C:\\Users\\ianad\\anaconda3\\envs\\bempp\\lib\\site-packages\\scipy\\sparse\\linalg\\dsolve\\linsolve.py:318: SparseEfficiencyWarning: splu requires CSC matrix format\n",
      "  warn('splu requires CSC matrix format', SparseEfficiencyWarning)\n",
      "C:\\Users\\ianad\\anaconda3\\envs\\bempp\\lib\\site-packages\\scipy\\sparse\\linalg\\dsolve\\linsolve.py:318: SparseEfficiencyWarning: splu requires CSC matrix format\n",
      "  warn('splu requires CSC matrix format', SparseEfficiencyWarning)\n",
      "C:\\Users\\ianad\\anaconda3\\envs\\bempp\\lib\\site-packages\\scipy\\sparse\\linalg\\dsolve\\linsolve.py:318: SparseEfficiencyWarning: splu requires CSC matrix format\n",
      "  warn('splu requires CSC matrix format', SparseEfficiencyWarning)\n",
      "C:\\Users\\ianad\\anaconda3\\envs\\bempp\\lib\\site-packages\\scipy\\sparse\\linalg\\dsolve\\linsolve.py:318: SparseEfficiencyWarning: splu requires CSC matrix format\n",
      "  warn('splu requires CSC matrix format', SparseEfficiencyWarning)\n",
      "C:\\Users\\ianad\\anaconda3\\envs\\bempp\\lib\\site-packages\\scipy\\sparse\\linalg\\dsolve\\linsolve.py:318: SparseEfficiencyWarning: splu requires CSC matrix format\n",
      "  warn('splu requires CSC matrix format', SparseEfficiencyWarning)\n",
      "C:\\Users\\ianad\\anaconda3\\envs\\bempp\\lib\\site-packages\\scipy\\sparse\\linalg\\dsolve\\linsolve.py:318: SparseEfficiencyWarning: splu requires CSC matrix format\n",
      "  warn('splu requires CSC matrix format', SparseEfficiencyWarning)\n",
      "C:\\Users\\ianad\\anaconda3\\envs\\bempp\\lib\\site-packages\\scipy\\sparse\\linalg\\dsolve\\linsolve.py:318: SparseEfficiencyWarning: splu requires CSC matrix format\n",
      "  warn('splu requires CSC matrix format', SparseEfficiencyWarning)\n",
      "C:\\Users\\ianad\\anaconda3\\envs\\bempp\\lib\\site-packages\\scipy\\sparse\\linalg\\dsolve\\linsolve.py:318: SparseEfficiencyWarning: splu requires CSC matrix format\n",
      "  warn('splu requires CSC matrix format', SparseEfficiencyWarning)\n"
     ]
    }
   ],
   "source": [
    "#Simulaciones arginina y carga puntual\n",
    "gs1=1.6\n",
    "gs2=5.0\n",
    "dist = [[80,0,0],[40,0,0],[35,0,0],[30,0,0],[25,0,0],[20,0,0],[18,0,0],[16,0,0],[14,0,0],[12,0,0],[10,0,0],[9,0,0],[8,0,0],[7,0,0],[6,0,0],[5,0,0],[4,0,0]]\n",
    "for value in dist:\n",
    "    simu1 = Two_proteins('C:\\\\Users\\\\ianad\\Desktop\\\\forces_calculation','arg','amber',gs1,'sphere','point',gs2,value,external_grid='y',ep_in=2.)\n",
    "    simu1.save_info('C:\\\\Users\\\\ianad\\Desktop\\\\forces_calculation','arg','amber',gs1,'sphere','point',gs2,value)\n",
    "\n",
    "#Simulaciones arginina cargas apagadas y carga puntual\n",
    "gs1=1.6\n",
    "gs2=5.0\n",
    "dist = [[80,0,0],[40,0,0],[35,0,0],[30,0,0],[25,0,0],[20,0,0],[18,0,0],[16,0,0],[14,0,0],[12,0,0],[10,0,0],[9,0,0],[8,0,0],[7,0,0],[6,0,0],[5,0,0],[4,0,0]]\n",
    "for value in dist:\n",
    "    simu1 = Two_proteins('C:\\\\Users\\\\ianad\\Desktop\\\\forces_calculation','arg','ambernocharge',gs1,'sphere','point',gs2,value,external_grid='y',ep_in=2.)\n",
    "    simu1.save_info('C:\\\\Users\\\\ianad\\Desktop\\\\forces_calculation','arg','ambernocharge',gs1,'sphere','point',gs2,value)\n",
    "\n",
    "#Simulaciones arginina y carga puntual apagada\n",
    "gs1=1.6\n",
    "gs2=5.0\n",
    "dist = [[80,0,0],[40,0,0],[35,0,0],[30,0,0],[25,0,0],[20,0,0],[18,0,0],[16,0,0],[14,0,0],[12,0,0],[10,0,0],[9,0,0],[8,0,0],[7,0,0],[6,0,0],[5,0,0],[4,0,0]]\n",
    "for value in dist:\n",
    "    simu1 = Two_proteins('C:\\\\Users\\\\ianad\\Desktop\\\\forces_calculation','arg','amber',gs1,'sphere','pointnocharge',gs2,value,external_grid='y',ep_in=2.)\n",
    "    simu1.save_info('C:\\\\Users\\\\ianad\\Desktop\\\\forces_calculation','arg','amber',gs1,'sphere','pointnocharge',gs2,value)"
   ]
  },
  {
   "cell_type": "code",
   "execution_count": 2,
   "metadata": {},
   "outputs": [
    {
     "name": "stderr",
     "output_type": "stream",
     "text": [
      "C:\\Users\\ianad\\anaconda3\\envs\\bempp\\lib\\site-packages\\scipy\\sparse\\linalg\\dsolve\\linsolve.py:318: SparseEfficiencyWarning: splu requires CSC matrix format\n",
      "  warn('splu requires CSC matrix format', SparseEfficiencyWarning)\n",
      "C:\\Users\\ianad\\anaconda3\\envs\\bempp\\lib\\site-packages\\scipy\\sparse\\linalg\\dsolve\\linsolve.py:318: SparseEfficiencyWarning: splu requires CSC matrix format\n",
      "  warn('splu requires CSC matrix format', SparseEfficiencyWarning)\n",
      "C:\\Users\\ianad\\anaconda3\\envs\\bempp\\lib\\site-packages\\scipy\\sparse\\linalg\\dsolve\\linsolve.py:318: SparseEfficiencyWarning: splu requires CSC matrix format\n",
      "  warn('splu requires CSC matrix format', SparseEfficiencyWarning)\n",
      "C:\\Users\\ianad\\anaconda3\\envs\\bempp\\lib\\site-packages\\scipy\\sparse\\linalg\\dsolve\\linsolve.py:318: SparseEfficiencyWarning: splu requires CSC matrix format\n",
      "  warn('splu requires CSC matrix format', SparseEfficiencyWarning)\n",
      "C:\\Users\\ianad\\anaconda3\\envs\\bempp\\lib\\site-packages\\scipy\\sparse\\linalg\\dsolve\\linsolve.py:318: SparseEfficiencyWarning: splu requires CSC matrix format\n",
      "  warn('splu requires CSC matrix format', SparseEfficiencyWarning)\n",
      "C:\\Users\\ianad\\anaconda3\\envs\\bempp\\lib\\site-packages\\scipy\\sparse\\linalg\\dsolve\\linsolve.py:318: SparseEfficiencyWarning: splu requires CSC matrix format\n",
      "  warn('splu requires CSC matrix format', SparseEfficiencyWarning)\n",
      "C:\\Users\\ianad\\anaconda3\\envs\\bempp\\lib\\site-packages\\scipy\\sparse\\linalg\\dsolve\\linsolve.py:318: SparseEfficiencyWarning: splu requires CSC matrix format\n",
      "  warn('splu requires CSC matrix format', SparseEfficiencyWarning)\n",
      "C:\\Users\\ianad\\anaconda3\\envs\\bempp\\lib\\site-packages\\scipy\\sparse\\linalg\\dsolve\\linsolve.py:318: SparseEfficiencyWarning: splu requires CSC matrix format\n",
      "  warn('splu requires CSC matrix format', SparseEfficiencyWarning)\n",
      "C:\\Users\\ianad\\anaconda3\\envs\\bempp\\lib\\site-packages\\scipy\\sparse\\linalg\\dsolve\\linsolve.py:318: SparseEfficiencyWarning: splu requires CSC matrix format\n",
      "  warn('splu requires CSC matrix format', SparseEfficiencyWarning)\n",
      "C:\\Users\\ianad\\anaconda3\\envs\\bempp\\lib\\site-packages\\scipy\\sparse\\linalg\\dsolve\\linsolve.py:318: SparseEfficiencyWarning: splu requires CSC matrix format\n",
      "  warn('splu requires CSC matrix format', SparseEfficiencyWarning)\n",
      "C:\\Users\\ianad\\anaconda3\\envs\\bempp\\lib\\site-packages\\scipy\\sparse\\linalg\\dsolve\\linsolve.py:318: SparseEfficiencyWarning: splu requires CSC matrix format\n",
      "  warn('splu requires CSC matrix format', SparseEfficiencyWarning)\n",
      "C:\\Users\\ianad\\anaconda3\\envs\\bempp\\lib\\site-packages\\scipy\\sparse\\linalg\\dsolve\\linsolve.py:318: SparseEfficiencyWarning: splu requires CSC matrix format\n",
      "  warn('splu requires CSC matrix format', SparseEfficiencyWarning)\n",
      "C:\\Users\\ianad\\anaconda3\\envs\\bempp\\lib\\site-packages\\scipy\\sparse\\linalg\\dsolve\\linsolve.py:318: SparseEfficiencyWarning: splu requires CSC matrix format\n",
      "  warn('splu requires CSC matrix format', SparseEfficiencyWarning)\n",
      "C:\\Users\\ianad\\anaconda3\\envs\\bempp\\lib\\site-packages\\scipy\\sparse\\linalg\\dsolve\\linsolve.py:318: SparseEfficiencyWarning: splu requires CSC matrix format\n",
      "  warn('splu requires CSC matrix format', SparseEfficiencyWarning)\n",
      "C:\\Users\\ianad\\anaconda3\\envs\\bempp\\lib\\site-packages\\scipy\\sparse\\linalg\\dsolve\\linsolve.py:318: SparseEfficiencyWarning: splu requires CSC matrix format\n",
      "  warn('splu requires CSC matrix format', SparseEfficiencyWarning)\n",
      "C:\\Users\\ianad\\anaconda3\\envs\\bempp\\lib\\site-packages\\scipy\\sparse\\linalg\\dsolve\\linsolve.py:318: SparseEfficiencyWarning: splu requires CSC matrix format\n",
      "  warn('splu requires CSC matrix format', SparseEfficiencyWarning)\n",
      "C:\\Users\\ianad\\anaconda3\\envs\\bempp\\lib\\site-packages\\scipy\\sparse\\linalg\\dsolve\\linsolve.py:318: SparseEfficiencyWarning: splu requires CSC matrix format\n",
      "  warn('splu requires CSC matrix format', SparseEfficiencyWarning)\n"
     ]
    }
   ],
   "source": [
    "#Simulaciones arginina y arginina \n",
    "gs1=1.6\n",
    "gs2=1.6\n",
    "dist = [[80,0,0],[40,0,0],[35,0,0],[30,0,0],[25,0,0],[20,0,0],[18,0,0],[16,0,0],[14,0,0],[12,0,0],[10,0,0],[9,0,0],[8,0,0],[7,0,0],[6,0,0],[5,0,0],[4,0,0]]\n",
    "for value in dist:\n",
    "    simu1 = Two_proteins('C:\\\\Users\\\\ianad\\Desktop\\\\forces_calculation','arg','amber',gs1,'arg','amber',gs2,value,external_grid='n',ep_in=2.)\n",
    "    simu1.save_info('C:\\\\Users\\\\ianad\\Desktop\\\\forces_calculation','arg','amber',gs1,'arg','amber',gs2,value)\n",
    "\n",
    "#Simulaciones arginina y arginina cargas apagadas\n",
    "gs1=1.6\n",
    "gs2=1.6\n",
    "dist = [[80,0,0],[40,0,0],[35,0,0],[30,0,0],[25,0,0],[20,0,0],[18,0,0],[16,0,0],[14,0,0],[12,0,0],[10,0,0],[9,0,0],[8,0,0],[7,0,0],[6,0,0],[5,0,0],[4,0,0]]\n",
    "for value in dist:\n",
    "    simu1 = Two_proteins('C:\\\\Users\\\\ianad\\Desktop\\\\forces_calculation','arg','amber',gs1,'arg','ambernocharge',gs2,value,external_grid='n',ep_in=2.)\n",
    "    simu1.save_info('C:\\\\Users\\\\ianad\\Desktop\\\\forces_calculation','arg','amber',gs1,'arg','ambernocharge',gs2,value)"
   ]
  },
  {
   "cell_type": "code",
   "execution_count": 4,
   "metadata": {},
   "outputs": [
    {
     "name": "stderr",
     "output_type": "stream",
     "text": [
      "C:\\Users\\ianad\\anaconda3\\envs\\bempp\\lib\\site-packages\\scipy\\sparse\\linalg\\dsolve\\linsolve.py:318: SparseEfficiencyWarning: splu requires CSC matrix format\n",
      "  warn('splu requires CSC matrix format', SparseEfficiencyWarning)\n",
      "C:\\Users\\ianad\\anaconda3\\envs\\bempp\\lib\\site-packages\\scipy\\sparse\\linalg\\dsolve\\linsolve.py:318: SparseEfficiencyWarning: splu requires CSC matrix format\n",
      "  warn('splu requires CSC matrix format', SparseEfficiencyWarning)\n",
      "C:\\Users\\ianad\\anaconda3\\envs\\bempp\\lib\\site-packages\\scipy\\sparse\\linalg\\dsolve\\linsolve.py:318: SparseEfficiencyWarning: splu requires CSC matrix format\n",
      "  warn('splu requires CSC matrix format', SparseEfficiencyWarning)\n",
      "C:\\Users\\ianad\\anaconda3\\envs\\bempp\\lib\\site-packages\\scipy\\sparse\\linalg\\dsolve\\linsolve.py:318: SparseEfficiencyWarning: splu requires CSC matrix format\n",
      "  warn('splu requires CSC matrix format', SparseEfficiencyWarning)\n",
      "C:\\Users\\ianad\\anaconda3\\envs\\bempp\\lib\\site-packages\\scipy\\sparse\\linalg\\dsolve\\linsolve.py:318: SparseEfficiencyWarning: splu requires CSC matrix format\n",
      "  warn('splu requires CSC matrix format', SparseEfficiencyWarning)\n",
      "C:\\Users\\ianad\\anaconda3\\envs\\bempp\\lib\\site-packages\\scipy\\sparse\\linalg\\dsolve\\linsolve.py:318: SparseEfficiencyWarning: splu requires CSC matrix format\n",
      "  warn('splu requires CSC matrix format', SparseEfficiencyWarning)\n",
      "C:\\Users\\ianad\\anaconda3\\envs\\bempp\\lib\\site-packages\\scipy\\sparse\\linalg\\dsolve\\linsolve.py:318: SparseEfficiencyWarning: splu requires CSC matrix format\n",
      "  warn('splu requires CSC matrix format', SparseEfficiencyWarning)\n",
      "C:\\Users\\ianad\\anaconda3\\envs\\bempp\\lib\\site-packages\\scipy\\sparse\\linalg\\dsolve\\linsolve.py:318: SparseEfficiencyWarning: splu requires CSC matrix format\n",
      "  warn('splu requires CSC matrix format', SparseEfficiencyWarning)\n",
      "C:\\Users\\ianad\\anaconda3\\envs\\bempp\\lib\\site-packages\\scipy\\sparse\\linalg\\dsolve\\linsolve.py:318: SparseEfficiencyWarning: splu requires CSC matrix format\n",
      "  warn('splu requires CSC matrix format', SparseEfficiencyWarning)\n",
      "C:\\Users\\ianad\\anaconda3\\envs\\bempp\\lib\\site-packages\\scipy\\sparse\\linalg\\dsolve\\linsolve.py:318: SparseEfficiencyWarning: splu requires CSC matrix format\n",
      "  warn('splu requires CSC matrix format', SparseEfficiencyWarning)\n",
      "C:\\Users\\ianad\\anaconda3\\envs\\bempp\\lib\\site-packages\\scipy\\sparse\\linalg\\dsolve\\linsolve.py:318: SparseEfficiencyWarning: splu requires CSC matrix format\n",
      "  warn('splu requires CSC matrix format', SparseEfficiencyWarning)\n",
      "C:\\Users\\ianad\\anaconda3\\envs\\bempp\\lib\\site-packages\\scipy\\sparse\\linalg\\dsolve\\linsolve.py:318: SparseEfficiencyWarning: splu requires CSC matrix format\n",
      "  warn('splu requires CSC matrix format', SparseEfficiencyWarning)\n",
      "C:\\Users\\ianad\\anaconda3\\envs\\bempp\\lib\\site-packages\\scipy\\sparse\\linalg\\dsolve\\linsolve.py:318: SparseEfficiencyWarning: splu requires CSC matrix format\n",
      "  warn('splu requires CSC matrix format', SparseEfficiencyWarning)\n",
      "C:\\Users\\ianad\\anaconda3\\envs\\bempp\\lib\\site-packages\\scipy\\sparse\\linalg\\dsolve\\linsolve.py:318: SparseEfficiencyWarning: splu requires CSC matrix format\n",
      "  warn('splu requires CSC matrix format', SparseEfficiencyWarning)\n",
      "C:\\Users\\ianad\\anaconda3\\envs\\bempp\\lib\\site-packages\\scipy\\sparse\\linalg\\dsolve\\linsolve.py:318: SparseEfficiencyWarning: splu requires CSC matrix format\n",
      "  warn('splu requires CSC matrix format', SparseEfficiencyWarning)\n",
      "C:\\Users\\ianad\\anaconda3\\envs\\bempp\\lib\\site-packages\\scipy\\sparse\\linalg\\dsolve\\linsolve.py:318: SparseEfficiencyWarning: splu requires CSC matrix format\n",
      "  warn('splu requires CSC matrix format', SparseEfficiencyWarning)\n",
      "C:\\Users\\ianad\\anaconda3\\envs\\bempp\\lib\\site-packages\\scipy\\sparse\\linalg\\dsolve\\linsolve.py:318: SparseEfficiencyWarning: splu requires CSC matrix format\n",
      "  warn('splu requires CSC matrix format', SparseEfficiencyWarning)\n"
     ]
    }
   ],
   "source": [
    "#Arginine to methanol\n",
    "gs1=1.6\n",
    "gs2=8.0\n",
    "dist = [[80,0,0],[40,0,0],[35,0,0],[30,0,0],[25,0,0],[20,0,0],[18,0,0],[16,0,0],[14,0,0],[12,0,0],[10,0,0],[9,0,0],[8,0,0],[7,0,0],[6,0,0],[5,0,0],[4,0,0]]\n",
    "for value in dist:\n",
    "    simu1 = Two_proteins('C:\\\\Users\\\\ianad\\Desktop\\\\forces_calculation','arg','amber',gs1,'methanol','amber',gs2,value,external_grid='n',ep_in=2.)\n",
    "    simu1.save_info('C:\\\\Users\\\\ianad\\Desktop\\\\forces_calculation','arg','amber',gs1,'methanol','amber',gs2,value)\n",
    "\n",
    "#Arginine to methanol no charges\n",
    "gs1=1.6\n",
    "gs2=8.0\n",
    "dist = [[80,0,0],[40,0,0],[35,0,0],[30,0,0],[25,0,0],[20,0,0],[18,0,0],[16,0,0],[14,0,0],[12,0,0],[10,0,0],[9,0,0],[8,0,0],[7,0,0],[6,0,0],[5,0,0],[4,0,0]]\n",
    "for value in dist:\n",
    "    simu1 = Two_proteins('C:\\\\Users\\\\ianad\\Desktop\\\\forces_calculation','arg','amber',gs1,'methanol','amber_nocharge',gs2,value,external_grid='n',ep_in=2.)\n",
    "    simu1.save_info('C:\\\\Users\\\\ianad\\Desktop\\\\forces_calculation','arg','amber',gs1,'methanol','amber_nocharge',gs2,value)\n",
    "\n",
    "#Arginine no charges to methanol\n",
    "gs1=1.6\n",
    "gs2=8.0\n",
    "dist = [[80,0,0],[40,0,0],[35,0,0],[30,0,0],[25,0,0],[20,0,0],[18,0,0],[16,0,0],[14,0,0],[12,0,0],[10,0,0],[9,0,0],[8,0,0],[7,0,0],[6,0,0],[5,0,0],[4,0,0]]\n",
    "for value in dist:\n",
    "    simu1 = Two_proteins('C:\\\\Users\\\\ianad\\Desktop\\\\forces_calculation','arg','amber_nocharges',gs1,'methanol','amber',gs2,value,external_grid='n',ep_in=2.)\n",
    "    simu1.save_info('C:\\\\Users\\\\ianad\\Desktop\\\\forces_calculation','arg','amber_nocharges',gs1,'methanol','amber',gs2,value)"
   ]
  },
  {
   "cell_type": "markdown",
   "metadata": {},
   "source": [
    "### Simulaciones cuerpos fuerza de solvatacion"
   ]
  },
  {
   "cell_type": "code",
   "execution_count": null,
   "metadata": {},
   "outputs": [],
   "source": [
    "#Revisar si estan las mallas para cada uno de los casos con external grid!!!!\n",
    "#Simulaciones carga centrada variando grid\n",
    "grid = [5.0,8.0,10.0,12.0,15.0,18.0,20.0]\n",
    "for value in grid:\n",
    "    sim = Molecule('C:\\\\Users\\\\ianad\\Desktop\\\\forces_calculation','sphere','point',value,external_grid='y')\n",
    "    sim.save_info('C:\\\\Users\\\\ianad\\Desktop\\\\forces_calculation','sphere','point',value)\n",
    "\n",
    "#Simulaciones cargas simetricas variando grid\n",
    "grid = [3.0,5.0,8.0,10.0,12.0,15.0]\n",
    "for value in grid:\n",
    "    sim = Molecule('C:\\\\Users\\\\ianad\\Desktop\\\\forces_calculation','sphere','symmetric',value,external_grid='y')\n",
    "    sim.save_info('C:\\\\Users\\\\ianad\\Desktop\\\\forces_calculation','sphere','symmetric',value)\n",
    "\n",
    "#Simulaciones cargas asimetricas variando grid\n",
    "grid = [6.0,8.0,10.0,12.0,15.0]\n",
    "for value in grid:\n",
    "    sim = Molecule('C:\\\\Users\\\\ianad\\Desktop\\\\forces_calculation','sphere','nosymmetric',value,external_grid='y')\n",
    "    sim.save_info('C:\\\\Users\\\\ianad\\Desktop\\\\forces_calculation','sphere','nosymmetric',value)\n",
    "\n",
    "#Simulaciones methanol variando grid\n",
    "grid = [2.0,3.0,4.0,5.0,6.0]\n",
    "for value in grid:\n",
    "    sim = Molecule('C:\\\\Users\\\\ianad\\Desktop\\\\forces_calculation','methanol','amber',value,external_grid='n')\n",
    "    sim.save_info('C:\\\\Users\\\\ianad\\Desktop\\\\forces_calculation','methanol','amber',value)\n",
    "\n",
    "#Simulaciones arginina variando grid\n",
    "grid = [0.2,0.4,0.8,1.2,1.6]\n",
    "for value in grid:\n",
    "    sim = Molecule('C:\\\\Users\\\\ianad\\Desktop\\\\forces_calculation','arg','amber',value,external_grid='y')\n",
    "    sim.save_info('C:\\\\Users\\\\ianad\\Desktop\\\\forces_calculation','arg','amber',value)\n",
    "\n",
    "#Simulaciones 1lyz variando grid\n",
    "grid = [0.4,0.6,0.8,1.0]\n",
    "for value in grid:\n",
    "    sim = Molecule('C:\\\\Users\\\\ianad\\Desktop\\\\forces_calculation','1lyz','amber',value,external_grid='y')\n",
    "    sim.save_info('C:\\\\Users\\\\ianad\\Desktop\\\\forces_calculation','1lyz','amber',value)\n",
    "\n",
    "#Simulaciones 5pti variando grid\n",
    "grid = [0.4,0.6,0.8,1.0,1.2]\n",
    "for value in grid:\n",
    "    sim = Molecule('C:\\\\Users\\\\ianad\\Desktop\\\\forces_calculation','5pti','parse',value,external_grid='y')\n",
    "    sim.save_info('C:\\\\Users\\\\ianad\\Desktop\\\\forces_calculation','5pti','parse',value)\n"
   ]
  },
  {
   "cell_type": "markdown",
   "metadata": {},
   "source": [
    "### Simulaciones para APBS"
   ]
  },
  {
   "cell_type": "code",
   "execution_count": 4,
   "metadata": {},
   "outputs": [],
   "source": [
    "#Simulaciones APBS\n",
    "from tools.apbs_tools import *\n",
    "import griddata\n",
    "from tools.mesh_converter import *\n",
    "_, q, x_q = pqrtomesh(directory='C:\\\\Users\\\\ian\\Desktop\\\\forces_calculation',protein='methanol',forcefield='amber',density=5.0,probe_radius=1.4,build_mesh='no')\n",
    "pqr_path = 'C:\\\\Users\\\\ian\\\\Desktop\\\\forces_calculation\\\\pqr_files\\\\methanol\\\\methanol_amber.pqr'\n",
    "apbs_dir = 'C:\\\\Users\\\\ian\\\\Desktop\\\\forces_calculation\\\\APBS'\n",
    "protein = 'methanol_amber'"
   ]
  },
  {
   "cell_type": "code",
   "execution_count": 1,
   "metadata": {},
   "outputs": [],
   "source": [
    "apbs_simulation(protein,pqr_path,apbs_dir,100,20,'spl4','yes','no')\n",
    "apbs_simulation(protein,pqr_path,apbs_dir,150,20,'spl4','yes','no')\n",
    "apbs_simulation(protein,pqr_path,apbs_dir,200,20,'spl4','yes','no')\n",
    "apbs_simulation(protein,pqr_path,apbs_dir,250,20,'spl4','yes','no')\n",
    "apbs_simulation(protein,pqr_path,apbs_dir,350,20,'spl4','yes','no')\n",
    "apbs_simulation(protein,pqr_path,apbs_dir,100,20,'mol','no','yes')\n",
    "apbs_simulation(protein,pqr_path,apbs_dir,150,20,'mol','no','yes')\n",
    "apbs_simulation(protein,pqr_path,apbs_dir,200,20,'mol','no','yes')\n",
    "apbs_simulation(protein,pqr_path,apbs_dir,250,20,'mol','no','yes')\n",
    "apbs_simulation(protein,pqr_path,apbs_dir,350,20,'mol','no','yes')"
   ]
  },
  {
   "cell_type": "code",
   "execution_count": 6,
   "metadata": {},
   "outputs": [],
   "source": [
    "#Calculo de Fuerza qf por medio de diferencias centradas\n",
    "from tools.apbs_tools import *\n",
    "import griddata\n",
    "from tools.mesh_converter import *\n",
    "file_solv = 'C:\\\\Users\\\\ian\\\\Desktop\\\\forces_calculation\\\\APBS\\\\{}\\\\pot_ref_{}_350_20_mol.dx'.format(protein,protein)\n",
    "file_ref = 'C:\\\\Users\\\\ian\\\\Desktop\\\\forces_calculation\\\\APBS\\\\{}\\\\pot_sol_{}_350_20_mol.dx'.format(protein,protein)\n",
    "_, q, x_q = pqrtomesh(directory='C:\\\\Users\\\\ian\\Desktop\\\\forces_calculation',protein='methanol',forcefield='amber',density=1.0,probe_radius=1.4,build_mesh='no')\n",
    "pot = griddata.Grid(file_solv) - griddata.Grid(file_ref)\n",
    "f_qf = fixedchargeforces_mol(q,x_q,pot,T=298.15)"
   ]
  }
 ],
 "metadata": {
  "interpreter": {
   "hash": "cb718e3dd62ac12afca115e8e5202131ec135a3cf4c9b81e410e7edf4a7cd0bd"
  },
  "kernelspec": {
   "display_name": "Python 3.8.12 64-bit ('bempp': conda)",
   "name": "python3"
  },
  "language_info": {
   "codemirror_mode": {
    "name": "ipython",
    "version": 3
   },
   "file_extension": ".py",
   "mimetype": "text/x-python",
   "name": "python",
   "nbconvert_exporter": "python",
   "pygments_lexer": "ipython3",
   "version": "3.8.12"
  }
 },
 "nbformat": 4,
 "nbformat_minor": 2
}
