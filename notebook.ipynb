{
 "cells": [
  {
   "cell_type": "code",
   "execution_count": 2,
   "metadata": {},
   "outputs": [],
   "source": [
    "from apbs_tools import *\n",
    "pqr_path = 'C:\\\\Users\\\\ian\\\\Desktop\\\\forces_calculation\\\\pqr_files\\\\sphere\\\\sphere_nosymmetric.pqr'\n",
    "apbs_dir = 'C:\\\\Users\\\\ian\\\\Desktop\\\\forces_calculation\\\\APBS'\n",
    "protein = 'sphere_nosymmetric'\n",
    "apbs_simulation(protein,pqr_path,apbs_dir,350,20,'mol','no','no')"
   ]
  },
  {
   "cell_type": "code",
   "execution_count": 87,
   "metadata": {},
   "outputs": [],
   "source": [
    "#apbs_simulation(protein,pqr_path,apbs_dir,150,70,'spl4','yes','no')\n",
    "#apbs_simulation(protein,pqr_path,apbs_dir,200,70,'spl4','yes','no')\n",
    "#apbs_simulation(protein,pqr_path,apbs_dir,250,70,'spl4','yes','no')\n",
    "#apbs_simulation(protein,pqr_path,apbs_dir,300,70,'spl4','yes','no')\n",
    "#apbs_simulation(protein,pqr_path,apbs_dir,350,70,'spl4','yes','no')"
   ]
  },
  {
   "cell_type": "code",
   "execution_count": 88,
   "metadata": {},
   "outputs": [],
   "source": [
    "#apbs_simulation(protein,pqr_path,apbs_dir,150,70,'mol','no','no')\n",
    "#apbs_simulation(protein,pqr_path,apbs_dir,200,70,'mol','no','no')\n",
    "#apbs_simulation(protein,pqr_path,apbs_dir,250,70,'mol','no','no')\n",
    "#apbs_simulation(protein,pqr_path,apbs_dir,300,70,'mol','no','no')\n",
    "#apbs_simulation(protein,pqr_path,apbs_dir,350,70,'mol','no','no')"
   ]
  },
  {
   "cell_type": "code",
   "execution_count": 1,
   "metadata": {},
   "outputs": [],
   "source": [
    "from PB_solver import Molecule\n",
    "import bempp.api\n",
    "bempp.api.PLOT_BACKEND = \"gmsh\"\n",
    "\n",
    "\n"
   ]
  },
  {
   "cell_type": "code",
   "execution_count": 2,
   "metadata": {},
   "outputs": [
    {
     "name": "stderr",
     "output_type": "stream",
     "text": [
      "C:\\Users\\ian\\Anaconda3\\envs\\bempp\\lib\\site-packages\\scipy\\sparse\\linalg\\dsolve\\linsolve.py:318: SparseEfficiencyWarning: splu requires CSC matrix format\n",
      "  warn('splu requires CSC matrix format', SparseEfficiencyWarning)\n",
      "C:\\Users\\ian\\Anaconda3\\envs\\bempp\\lib\\site-packages\\scipy\\sparse\\linalg\\dsolve\\linsolve.py:318: SparseEfficiencyWarning: splu requires CSC matrix format\n",
      "  warn('splu requires CSC matrix format', SparseEfficiencyWarning)\n",
      "C:\\Users\\ian\\Anaconda3\\envs\\bempp\\lib\\site-packages\\scipy\\sparse\\linalg\\dsolve\\linsolve.py:318: SparseEfficiencyWarning: splu requires CSC matrix format\n",
      "  warn('splu requires CSC matrix format', SparseEfficiencyWarning)\n"
     ]
    }
   ],
   "source": [
    "sphere_nosymmetric_6 = Molecule('sphere','nosymmetric',6.0,None)\n",
    "sphere_nosymmetric_8 = Molecule('sphere','nosymmetric',8.0,None)\n",
    "sphere_nosymmetric_10 = Molecule('sphere','nosymmetric',10.0,None)"
   ]
  },
  {
   "cell_type": "code",
   "execution_count": 8,
   "metadata": {},
   "outputs": [
    {
     "name": "stderr",
     "output_type": "stream",
     "text": [
      "C:\\Users\\ian\\Anaconda3\\envs\\bempp\\lib\\site-packages\\scipy\\sparse\\linalg\\dsolve\\linsolve.py:318: SparseEfficiencyWarning: splu requires CSC matrix format\n",
      "  warn('splu requires CSC matrix format', SparseEfficiencyWarning)\n"
     ]
    }
   ],
   "source": [
    "sphere_nosymmetric_12 = Molecule('sphere','nosymmetric',12.0,None)"
   ]
  },
  {
   "cell_type": "code",
   "execution_count": 9,
   "metadata": {},
   "outputs": [
    {
     "name": "stderr",
     "output_type": "stream",
     "text": [
      "C:\\Users\\ian\\Anaconda3\\envs\\bempp\\lib\\site-packages\\scipy\\sparse\\linalg\\dsolve\\linsolve.py:318: SparseEfficiencyWarning: splu requires CSC matrix format\n",
      "  warn('splu requires CSC matrix format', SparseEfficiencyWarning)\n",
      "C:\\Users\\ian\\Anaconda3\\envs\\bempp\\lib\\site-packages\\scipy\\sparse\\linalg\\dsolve\\linsolve.py:318: SparseEfficiencyWarning: splu requires CSC matrix format\n",
      "  warn('splu requires CSC matrix format', SparseEfficiencyWarning)\n",
      "C:\\Users\\ian\\Anaconda3\\envs\\bempp\\lib\\site-packages\\scipy\\sparse\\linalg\\dsolve\\linsolve.py:318: SparseEfficiencyWarning: splu requires CSC matrix format\n",
      "  warn('splu requires CSC matrix format', SparseEfficiencyWarning)\n",
      "C:\\Users\\ian\\Anaconda3\\envs\\bempp\\lib\\site-packages\\scipy\\sparse\\linalg\\dsolve\\linsolve.py:318: SparseEfficiencyWarning: splu requires CSC matrix format\n",
      "  warn('splu requires CSC matrix format', SparseEfficiencyWarning)\n"
     ]
    }
   ],
   "source": [
    "sphere_symmetric_3 = Molecule('sphere','symmetric',3.0,None)\n",
    "sphere_symmetric_5 = Molecule('sphere','symmetric',5.0,None)\n",
    "sphere_symmetric_8 = Molecule('sphere','symmetric',8.0,None)\n",
    "sphere_symmetric_10 = Molecule('sphere','symmetric',10.0,None)"
   ]
  },
  {
   "cell_type": "code",
   "execution_count": 12,
   "metadata": {},
   "outputs": [
    {
     "name": "stderr",
     "output_type": "stream",
     "text": [
      "C:\\Users\\ian\\Anaconda3\\envs\\bempp\\lib\\site-packages\\scipy\\sparse\\linalg\\dsolve\\linsolve.py:318: SparseEfficiencyWarning: splu requires CSC matrix format\n",
      "  warn('splu requires CSC matrix format', SparseEfficiencyWarning)\n",
      "C:\\Users\\ian\\Anaconda3\\envs\\bempp\\lib\\site-packages\\scipy\\sparse\\linalg\\dsolve\\linsolve.py:318: SparseEfficiencyWarning: splu requires CSC matrix format\n",
      "  warn('splu requires CSC matrix format', SparseEfficiencyWarning)\n",
      "C:\\Users\\ian\\Anaconda3\\envs\\bempp\\lib\\site-packages\\scipy\\sparse\\linalg\\dsolve\\linsolve.py:318: SparseEfficiencyWarning: splu requires CSC matrix format\n",
      "  warn('splu requires CSC matrix format', SparseEfficiencyWarning)\n",
      "C:\\Users\\ian\\Anaconda3\\envs\\bempp\\lib\\site-packages\\scipy\\sparse\\linalg\\dsolve\\linsolve.py:318: SparseEfficiencyWarning: splu requires CSC matrix format\n",
      "  warn('splu requires CSC matrix format', SparseEfficiencyWarning)\n"
     ]
    }
   ],
   "source": [
    "arg_d02 = Molecule('arg','amber',0.2,'yes')\n",
    "arg_d04 = Molecule('arg','amber',0.4,'yes')\n",
    "arg_d08 = Molecule('arg','amber',0.8,'yes')\n",
    "arg_d16 = Molecule('arg','amber',1.6,'yes')"
   ]
  },
  {
   "cell_type": "code",
   "execution_count": 58,
   "metadata": {},
   "outputs": [
    {
     "data": {
      "text/plain": [
       "6520"
      ]
     },
     "execution_count": 58,
     "metadata": {},
     "output_type": "execute_result"
    }
   ],
   "source": [
    "arg_d16.grid.number_of_elements"
   ]
  },
  {
   "cell_type": "code",
   "execution_count": 2,
   "metadata": {},
   "outputs": [
    {
     "name": "stderr",
     "output_type": "stream",
     "text": [
      "C:\\Users\\ian\\Anaconda3\\envs\\bempp\\lib\\site-packages\\scipy\\sparse\\linalg\\dsolve\\linsolve.py:318: SparseEfficiencyWarning: splu requires CSC matrix format\n",
      "  warn('splu requires CSC matrix format', SparseEfficiencyWarning)\n",
      "C:\\Users\\ian\\Anaconda3\\envs\\bempp\\lib\\site-packages\\scipy\\sparse\\linalg\\dsolve\\linsolve.py:318: SparseEfficiencyWarning: splu requires CSC matrix format\n",
      "  warn('splu requires CSC matrix format', SparseEfficiencyWarning)\n",
      "C:\\Users\\ian\\Anaconda3\\envs\\bempp\\lib\\site-packages\\scipy\\sparse\\linalg\\dsolve\\linsolve.py:318: SparseEfficiencyWarning: splu requires CSC matrix format\n",
      "  warn('splu requires CSC matrix format', SparseEfficiencyWarning)\n"
     ]
    }
   ],
   "source": [
    "lyz_d04 = Molecule('1lyz','amber',0.4,'yes')\n",
    "lyz_d06 = Molecule('1lyz','amber',0.6,'yes')\n",
    "lyz_d08 = Molecule('1lyz','amber',0.8,'yes')"
   ]
  },
  {
   "cell_type": "code",
   "execution_count": 28,
   "metadata": {},
   "outputs": [
    {
     "data": {
      "text/plain": [
       "10156"
      ]
     },
     "execution_count": 28,
     "metadata": {},
     "output_type": "execute_result"
    }
   ],
   "source": [
    "#lyz_d08.solv_energy\n",
    "#lyz_d08.F_qf\n",
    "#lyz_d08.F_db\n",
    "#lyz_d08.F_ib\n",
    "lyz_d08.grid.number_of_elements"
   ]
  },
  {
   "cell_type": "code",
   "execution_count": 17,
   "metadata": {},
   "outputs": [],
   "source": [
    "from apbs_tools import *\n",
    "import griddata\n",
    "from mesh_converter import *\n",
    "_, q, x_q = pqrtomesh(directory='C:\\\\Users\\\\ian\\Desktop\\\\forces_calculation',protein='1lyz',forcefield='amber',density=0.4,probe_radius=1.4,build_mesh='no')\n",
    "pqr_path = 'C:\\\\Users\\\\ian\\\\Desktop\\\\forces_calculation\\\\pqr_files\\\\1lyz\\\\1lyz_amber.pqr'\n",
    "apbs_dir = 'C:\\\\Users\\\\ian\\\\Desktop\\\\forces_calculation\\\\APBS'\n",
    "protein = '1lyz_amber'\n",
    "#apbs_simulation(protein,pqr_path,apbs_dir,100,70,'mol','no','yes')\n",
    "#apbs_simulation(protein,pqr_path,apbs_dir,150,70,'mol','no','yes')\n",
    "#apbs_simulation(protein,pqr_path,apbs_dir,200,70,'mol','no','yes')\n",
    "#apbs_simulation(protein,pqr_path,apbs_dir,250,70,'mol','no','yes')\n",
    "apbs_simulation(protein,pqr_path,apbs_dir,350,70,'mol','no','yes')"
   ]
  },
  {
   "cell_type": "code",
   "execution_count": 26,
   "metadata": {},
   "outputs": [],
   "source": [
    "file_solv = 'C:\\\\Users\\\\ian\\\\Desktop\\\\forces_calculation\\\\APBS\\\\pot_ref_1lyz_amber_350_70_mol.dx'\n",
    "file_ref = 'C:\\\\Users\\\\ian\\\\Desktop\\\\forces_calculation\\\\APBS\\\\pot_sol_1lyz_amber_350_70_mol.dx'\n",
    "pot = griddata.Grid(file_solv) - griddata.Grid(file_ref)"
   ]
  },
  {
   "cell_type": "code",
   "execution_count": 27,
   "metadata": {},
   "outputs": [
    {
     "data": {
      "text/plain": [
       "array([ 22.8521062 , -90.28815586, -67.38475284])"
      ]
     },
     "execution_count": 27,
     "metadata": {},
     "output_type": "execute_result"
    }
   ],
   "source": [
    "F = fixedchargeforces_mol(q,x_q,pot)\n",
    "F"
   ]
  },
  {
   "cell_type": "code",
   "execution_count": 8,
   "metadata": {},
   "outputs": [
    {
     "data": {
      "text/plain": [
       "13152"
      ]
     },
     "execution_count": 8,
     "metadata": {},
     "output_type": "execute_result"
    }
   ],
   "source": [
    "grid.number_of_elements"
   ]
  }
 ],
 "metadata": {
  "interpreter": {
   "hash": "cb718e3dd62ac12afca115e8e5202131ec135a3cf4c9b81e410e7edf4a7cd0bd"
  },
  "kernelspec": {
   "display_name": "Python 3.8.12 64-bit ('bempp': conda)",
   "name": "python3"
  },
  "language_info": {
   "codemirror_mode": {
    "name": "ipython",
    "version": 3
   },
   "file_extension": ".py",
   "mimetype": "text/x-python",
   "name": "python",
   "nbconvert_exporter": "python",
   "pygments_lexer": "ipython3",
   "version": "3.8.12"
  }
 },
 "nbformat": 4,
 "nbformat_minor": 2
}
